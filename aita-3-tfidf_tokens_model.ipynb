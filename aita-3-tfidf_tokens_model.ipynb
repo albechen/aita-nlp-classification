{
 "cells": [
  {
   "cell_type": "code",
   "execution_count": 1,
   "metadata": {},
   "outputs": [],
   "source": [
    "import pandas as pd\n",
    "import seaborn as sns\n",
    "import matplotlib.pyplot as plt\n",
    "import re\n",
    "\n",
    "from sklearn.model_selection import train_test_split\n",
    "from sklearn.metrics import confusion_matrix\n",
    "from sklearn.linear_model import LogisticRegression\n",
    "from sklearn.ensemble import RandomForestClassifier\n",
    "\n",
    "import nltk\n",
    "from nltk.corpus import stopwords\n",
    "import tensorflow as tf"
   ]
  },
  {
   "cell_type": "code",
   "execution_count": 3,
   "metadata": {},
   "outputs": [
    {
     "output_type": "stream",
     "name": "stdout",
     "text": "(20800, 4)\n"
    },
    {
     "output_type": "execute_result",
     "data": {
      "text/plain": "  target  binary_target                                              title  \\\n0    NTA              0  aita renting house telling neighbors go landlo...   \n1    NTA              0            aita boyfriend let get breast reduction   \n2    NTA              0  aita parents took wardrobe away punishment sai...   \n3    YTA              1  aita going week long vacation without wife yea...   \n4    NTA              0  wibta warned current coworkers new problematic...   \n\n                                                body  \n0  house rent neighbors complaints property maint...  \n1  tldr large breasts caused nothing back pain bo...  \n2  got trouble school fall im junior high school ...  \n3  ill try make short im wife f married years met...  \n4  im senior broadcast producer manager announced...  ",
      "text/html": "<div>\n<style scoped>\n    .dataframe tbody tr th:only-of-type {\n        vertical-align: middle;\n    }\n\n    .dataframe tbody tr th {\n        vertical-align: top;\n    }\n\n    .dataframe thead th {\n        text-align: right;\n    }\n</style>\n<table border=\"1\" class=\"dataframe\">\n  <thead>\n    <tr style=\"text-align: right;\">\n      <th></th>\n      <th>target</th>\n      <th>binary_target</th>\n      <th>title</th>\n      <th>body</th>\n    </tr>\n  </thead>\n  <tbody>\n    <tr>\n      <th>0</th>\n      <td>NTA</td>\n      <td>0</td>\n      <td>aita renting house telling neighbors go landlo...</td>\n      <td>house rent neighbors complaints property maint...</td>\n    </tr>\n    <tr>\n      <th>1</th>\n      <td>NTA</td>\n      <td>0</td>\n      <td>aita boyfriend let get breast reduction</td>\n      <td>tldr large breasts caused nothing back pain bo...</td>\n    </tr>\n    <tr>\n      <th>2</th>\n      <td>NTA</td>\n      <td>0</td>\n      <td>aita parents took wardrobe away punishment sai...</td>\n      <td>got trouble school fall im junior high school ...</td>\n    </tr>\n    <tr>\n      <th>3</th>\n      <td>YTA</td>\n      <td>1</td>\n      <td>aita going week long vacation without wife yea...</td>\n      <td>ill try make short im wife f married years met...</td>\n    </tr>\n    <tr>\n      <th>4</th>\n      <td>NTA</td>\n      <td>0</td>\n      <td>wibta warned current coworkers new problematic...</td>\n      <td>im senior broadcast producer manager announced...</td>\n    </tr>\n  </tbody>\n</table>\n</div>"
     },
     "metadata": {},
     "execution_count": 3
    }
   ],
   "source": [
    "aita_raw = pd.read_csv(\"data/processed/aita_xy_cleaned_full.csv\", index_col=0)\n",
    "\n",
    "def pp_regularize_text(df, body_or_title):\n",
    "    stop_words = []\n",
    "    for word in list(stopwords.words('english')):\n",
    "        word = re.sub(r'[^A-Za-z ]+', '', word)\n",
    "        stop_words.append(word)\n",
    "\n",
    "    text_list = []\n",
    "    for text in df[body_or_title]:\n",
    "        text = text.lower()\n",
    "        text = text.replace('\\n', ' ').replace('\\r', '').replace('’', '\\'')\n",
    "        text = re.sub(r'[^A-Za-z ]+', '', text)\n",
    "        goodtext = text.encode('cp1252', 'ignore')\n",
    "        goodtext = goodtext.decode('utf-8', 'ignore')\n",
    "\n",
    "        token = nltk.word_tokenize(goodtext)\n",
    "        filtered = [y for y in token if not y in stop_words]\n",
    "        final_text = (\" \").join(filtered)\n",
    "\n",
    "        text_list.append(final_text)\n",
    "    df[body_or_title] = text_list\n",
    "    return df\n",
    "\n",
    "aita_raw = pp_regularize_text(aita_raw, \"body\")\n",
    "aita_raw = pp_regularize_text(aita_raw, \"title\")\n",
    "print(aita_raw.shape)\n",
    "aita_raw.head()"
   ]
  },
  {
   "cell_type": "code",
   "execution_count": 4,
   "metadata": {},
   "outputs": [],
   "source": [
    "def tokenize(df, body_or_title):\n",
    "    tokenizer = tf.keras.preprocessing.text.Tokenizer(num_words=10000)\n",
    "    tokenizer.fit_on_texts(df[body_or_title])\n",
    "    return tokenizer\n",
    "\n",
    "def convert_to_matrix(df, tokenizer, body_or_title):\n",
    "    matrix = tokenizer.texts_to_matrix(df[body_or_title], mode=\"tfidf\")\n",
    "    final_df = pd.DataFrame(matrix)\n",
    "    return final_df"
   ]
  },
  {
   "cell_type": "code",
   "execution_count": 5,
   "metadata": {},
   "outputs": [
    {
     "output_type": "stream",
     "name": "stdout",
     "text": "(20800, 1)\n(20800, 10000)\n"
    }
   ],
   "source": [
    "tokenizer = tokenize(aita_raw, \"body\")\n",
    "x_body = convert_to_matrix(aita_raw, tokenizer, \"body\")\n",
    "y_binary = aita_raw[[\"binary_target\"]]\n",
    "print(y_binary.shape)\n",
    "print(x_body.shape)"
   ]
  },
  {
   "cell_type": "code",
   "execution_count": 6,
   "metadata": {},
   "outputs": [],
   "source": [
    "def f1_and_confusion_matrix_scratch(y_test, y_pred):\n",
    "    y_test = list(y_test[\"binary_target\"])\n",
    "    tn = tp = fn = fp = 0\n",
    "    for num in range(len(y_test)):\n",
    "        if y_test[num] == 1:\n",
    "            if y_test[num] == y_pred[num]:\n",
    "                tp += 1\n",
    "            else:\n",
    "                fn += 1\n",
    "        else:\n",
    "            if y_test[num] == y_pred[num]:\n",
    "                tn += 1\n",
    "            else:\n",
    "                fp += 1\n",
    "    precision = tp/(tp+fp)\n",
    "    recall = tp/(tp+tn)\n",
    "    try:\n",
    "        f1 = 2*precision*recall/(precision+recall)\n",
    "    except:\n",
    "        f1 = 0\n",
    "    prec_recl_f1 = [precision, recall, f1]\n",
    "    conf_matrix = [[tn,fp], [fn,tp]]\n",
    "    return conf_matrix, prec_recl_f1"
   ]
  },
  {
   "cell_type": "code",
   "execution_count": 7,
   "metadata": {},
   "outputs": [],
   "source": [
    "X_train, X_test, y_train, y_test = train_test_split(x_body, y_binary, test_size=0.30, random_state=1)"
   ]
  },
  {
   "cell_type": "code",
   "execution_count": 8,
   "metadata": {},
   "outputs": [
    {
     "output_type": "stream",
     "name": "stdout",
     "text": "[[3439, 1243], [1056, 502]]\nF1:   0.177 \nPrec: 0.288 \nRecl: 0.127\n"
    }
   ],
   "source": [
    "clf = LogisticRegression(random_state=1, class_weight=\"balanced\")\n",
    "fit = clf.fit(X_train, y_train)\n",
    "y_pred = fit.predict(X_test)\n",
    "\n",
    "cm, f1 = f1_and_confusion_matrix_scratch(y_test, y_pred)\n",
    "print(cm)\n",
    "print(\n",
    "    \"F1:  \", round(f1[2], 3),\n",
    "    \"\\nPrec:\", round(f1[0], 3),\n",
    "    \"\\nRecl:\", round(f1[1], 3)\n",
    ")"
   ]
  },
  {
   "cell_type": "code",
   "execution_count": 9,
   "metadata": {},
   "outputs": [
    {
     "output_type": "stream",
     "name": "stdout",
     "text": "[[4674, 8], [1553, 5]]\nF1:   0.002 \nPrec: 0.385 \nRecl: 0.001\n"
    }
   ],
   "source": [
    "clf = RandomForestClassifier(random_state=1, class_weight=\"balanced\")\n",
    "fit = clf.fit(X_train, y_train)\n",
    "y_pred = fit.predict(X_test)\n",
    "\n",
    "cm, f1 = f1_and_confusion_matrix_scratch(y_test, y_pred)\n",
    "print(cm)\n",
    "print(\n",
    "    \"F1:  \", round(f1[2], 3),\n",
    "    \"\\nPrec:\", round(f1[0], 3),\n",
    "    \"\\nRecl:\", round(f1[1], 3)\n",
    ")"
   ]
  },
  {
   "cell_type": "code",
   "execution_count": 10,
   "metadata": {},
   "outputs": [],
   "source": [
    "def undersample_majority(x, y, majority):\n",
    "    y_min = y[y[\"binary_target\"] != majority]\n",
    "    y_maj = y[y[\"binary_target\"] == majority]\n",
    "    y_maj = y_maj.sample(n=len(y_min))\n",
    "    y = pd.concat([y_min, y_maj])\n",
    "\n",
    "    merged = pd.merge(y, x, how=\"inner\", left_index=True, right_index=True)\n",
    "    x = merged.drop(columns=[\"binary_target\"])\n",
    "    y = merged[[\"binary_target\"]]\n",
    "    return x, y\n",
    "\n",
    "x_undersample, y_undersample = undersample_majority(x_body, y_binary, 0)"
   ]
  },
  {
   "cell_type": "code",
   "execution_count": 11,
   "metadata": {},
   "outputs": [],
   "source": [
    "X_train, X_test, y_train, y_test = train_test_split(x_undersample, y_undersample, test_size=0.30, random_state=1)"
   ]
  },
  {
   "cell_type": "code",
   "execution_count": 12,
   "metadata": {},
   "outputs": [
    {
     "output_type": "stream",
     "name": "stdout",
     "text": "[[861, 655], [706, 847]]\nF1:   0.528 \nPrec: 0.564 \nRecl: 0.496\n"
    }
   ],
   "source": [
    "clf = LogisticRegression(random_state=1, class_weight=None)\n",
    "fit = clf.fit(X_train, y_train)\n",
    "y_pred = fit.predict(X_test)\n",
    "\n",
    "cm, f1 = f1_and_confusion_matrix_scratch(y_test, y_pred)\n",
    "print(cm)\n",
    "print(\n",
    "    \"F1:  \", round(f1[2], 3),\n",
    "    \"\\nPrec:\", round(f1[0], 3),\n",
    "    \"\\nRecl:\", round(f1[1], 3)\n",
    ")"
   ]
  },
  {
   "cell_type": "code",
   "execution_count": 13,
   "metadata": {},
   "outputs": [
    {
     "output_type": "stream",
     "name": "stdout",
     "text": "[[974, 542], [764, 789]]\nF1:   0.51 \nPrec: 0.593 \nRecl: 0.448\n"
    }
   ],
   "source": [
    "clf = RandomForestClassifier(random_state=1, class_weight=None)\n",
    "fit = clf.fit(X_train, y_train)\n",
    "y_pred = fit.predict(X_test)\n",
    "\n",
    "cm, f1 = f1_and_confusion_matrix_scratch(y_test, y_pred)\n",
    "print(cm)\n",
    "print(\n",
    "    \"F1:  \", round(f1[2], 3),\n",
    "    \"\\nPrec:\", round(f1[0], 3),\n",
    "    \"\\nRecl:\", round(f1[1], 3)\n",
    ")"
   ]
  },
  {
   "cell_type": "code",
   "execution_count": null,
   "metadata": {},
   "outputs": [],
   "source": []
  }
 ],
 "metadata": {
  "language_info": {
   "name": "python",
   "codemirror_mode": {
    "name": "ipython",
    "version": 3
   },
   "version": "3.7.7-final"
  },
  "orig_nbformat": 2,
  "file_extension": ".py",
  "mimetype": "text/x-python",
  "name": "python",
  "npconvert_exporter": "python",
  "pygments_lexer": "ipython3",
  "version": 3,
  "kernelspec": {
   "name": "python37464bitbaseconda283db1cc85e247fb8163a5e3375dfbda",
   "display_name": "Python 3.7.4 64-bit ('base': conda)"
  }
 },
 "nbformat": 4,
 "nbformat_minor": 2
}