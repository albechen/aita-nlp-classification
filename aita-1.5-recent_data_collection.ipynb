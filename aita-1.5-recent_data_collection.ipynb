{
 "metadata": {
  "language_info": {
   "codemirror_mode": {
    "name": "ipython",
    "version": 3
   },
   "file_extension": ".py",
   "mimetype": "text/x-python",
   "name": "python",
   "nbconvert_exporter": "python",
   "pygments_lexer": "ipython3",
   "version": "3.8.3-final"
  },
  "orig_nbformat": 2,
  "kernelspec": {
   "name": "python_defaultSpec_1599451577995",
   "display_name": "Python 3.8.3 64-bit ('base': conda)"
  }
 },
 "nbformat": 4,
 "nbformat_minor": 2,
 "cells": [
  {
   "cell_type": "code",
   "execution_count": 2,
   "metadata": {},
   "outputs": [],
   "source": [
    "import pandas as pd\n",
    "import glob\n",
    "\n",
    "import praw\n",
    "import urllib.request\n",
    "import json\n",
    "\n",
    "from datetime import datetime\n",
    "from datetime import date\n",
    "import time\n",
    "\n",
    "\n",
    "reddit = praw.Reddit(\n",
    "    client_id=\"kRAJROlrIHaWMw\",\n",
    "    client_secret=\"f1EXDzFpTw1AryR_3urQ9O6I3AQ\",\n",
    "    user_agent=\"AITA_scrape\",\n",
    ")"
   ]
  },
  {
   "cell_type": "code",
   "execution_count": 3,
   "metadata": {
    "tags": []
   },
   "outputs": [
    {
     "output_type": "stream",
     "name": "stdout",
     "text": "week : Completed 300\nweek : Completed 600\nweek : Completed 900\nmonth : Completed 300\nmonth : Completed 600\nmonth : Completed 900\nyear : Completed 300\nyear : Completed 600\nyear : Completed 900\n"
    },
    {
     "output_type": "execute_result",
     "data": {
      "text/plain": "2757"
     },
     "metadata": {},
     "execution_count": 3
    }
   ],
   "source": [
    "def unix_to_date(unix):\n",
    "    str_time = time.strftime(\"%Y-%m-%d %H:%M:%S\", time.gmtime(unix))\n",
    "    date_time = datetime.strptime(str_time, \"%Y-%m-%d %H:%M:%S\")\n",
    "    return date_time\n",
    "\n",
    "def praw_recent_posts():\n",
    "    posts = []\n",
    "    for x in [\"week\", \"month\", \"year\"]:\n",
    "        count = 0\n",
    "        for submission in reddit.subreddit('amitheasshole').top(x, limit=1000):\n",
    "            posts.append([\n",
    "                submission.title,\n",
    "                submission.id,\n",
    "                unix_to_date(submission.created_utc),\n",
    "                submission.link_flair_text,\n",
    "                submission.selftext,\n",
    "                submission.num_comments,\n",
    "                submission.score,\n",
    "                submission.upvote_ratio,\n",
    "            ])\n",
    "            count += 1\n",
    "            if count % 300 == 0:\n",
    "                print(x,\": Completed\",count)\n",
    "    post_df = pd.DataFrame(posts, columns=[\"title\", \"id\", \"date\", \"verdict\", \"body\", \"num_comments\", \"score\", \"upvote_ratio\"])\n",
    "    post_df.drop_duplicates(subset=\"id\", inplace=True)\n",
    "    post_df.to_csv(\"data/raw/to_combine/praw_recent_%s.csv\" % date.today().strftime(\"%Y%m%d\"))\n",
    "    return post_df\n",
    "\n",
    "praw_rec_df = praw_recent_posts()\n",
    "len(praw_rec_df)"
   ]
  },
  {
   "cell_type": "code",
   "execution_count": 4,
   "metadata": {
    "tags": []
   },
   "outputs": [
    {
     "output_type": "stream",
     "name": "stdout",
     "text": "40111\n36867\n(36867, 8)\n"
    },
    {
     "output_type": "execute_result",
     "data": {
      "text/plain": "              verdict                                               body  \\\n0      Not the A-hole  I have a house I rent, and some of my neighbor...   \n1      Not the A-hole  tl;dr: i have large breasts that have caused m...   \n2      Not the A-hole  I got in trouble at school this fall, I'm a ju...   \n3                 NaN                                          [removed]   \n4             Asshole  I'll try to make this short. I'm (38m) and my ...   \n...               ...                                                ...   \n36862  Not the A-hole  I'm using a throwaway because I don't want peo...   \n36863  Not the A-hole  A little over a month ago, my little brother w...   \n36864  Not the A-hole  My (22F) sister is a single mom with a teenage...   \n36865  Not the A-hole  Hello world of a Reddit! I am very conflicted ...   \n36866  Not the A-hole  Me (26f) and my partner (26M) are getting marr...   \n\n       num_comments  score  upvote_ratio  \\\n0               324   4097          0.97   \n1              1089  19436          0.90   \n2              2876  26316          0.93   \n3               200      0          0.48   \n4               805   3845          0.91   \n...             ...    ...           ...   \n36862          1303  14201          0.96   \n36863           287  12683          0.99   \n36864          1002  12498          0.98   \n36865           790  12124          0.97   \n36866          1475  12036          0.97   \n\n                                                   title      id  \\\n0      AITA for renting a house and telling my neighb...  g637y9   \n1      AITA my boyfriend wont let me get a breast red...  g5n4a3   \n2      AITA? My parents took most of my wardrobe away...  g5hta8   \n3      AITA for being my trans sisters staunchest all...  g3yzy1   \n4      AITA for going on a week long vacation by myse...  g3y0xe   \n...                                                  ...     ...   \n36862  AITA for refusing to lend my friend a dress an...  i2a3iq   \n36863  AITA for wanting to bring the partner of my br...  hejlns   \n36864  AITA for letting my nephew stay with me withou...  i2dj11   \n36865  AITA for refusing to let my daughter see her c...  i2dmx1   \n36866  AITA because me and my BF will not give 1 niec...  i35b5e   \n\n                      date  \n0      2020-04-22 15:31:14  \n1      2020-04-21 20:35:11  \n2      2020-04-21 15:56:36  \n3      2020-04-19 01:18:47  \n4      2020-04-19 00:11:52  \n...                    ...  \n36862  2020-08-02 10:43:03  \n36863  2020-06-23 18:04:51  \n36864  2020-08-02 15:06:52  \n36865  2020-08-02 15:13:32  \n36866  2020-08-03 20:50:46  \n\n[36867 rows x 8 columns]",
      "text/html": "<div>\n<style scoped>\n    .dataframe tbody tr th:only-of-type {\n        vertical-align: middle;\n    }\n\n    .dataframe tbody tr th {\n        vertical-align: top;\n    }\n\n    .dataframe thead th {\n        text-align: right;\n    }\n</style>\n<table border=\"1\" class=\"dataframe\">\n  <thead>\n    <tr style=\"text-align: right;\">\n      <th></th>\n      <th>verdict</th>\n      <th>body</th>\n      <th>num_comments</th>\n      <th>score</th>\n      <th>upvote_ratio</th>\n      <th>title</th>\n      <th>id</th>\n      <th>date</th>\n    </tr>\n  </thead>\n  <tbody>\n    <tr>\n      <th>0</th>\n      <td>Not the A-hole</td>\n      <td>I have a house I rent, and some of my neighbor...</td>\n      <td>324</td>\n      <td>4097</td>\n      <td>0.97</td>\n      <td>AITA for renting a house and telling my neighb...</td>\n      <td>g637y9</td>\n      <td>2020-04-22 15:31:14</td>\n    </tr>\n    <tr>\n      <th>1</th>\n      <td>Not the A-hole</td>\n      <td>tl;dr: i have large breasts that have caused m...</td>\n      <td>1089</td>\n      <td>19436</td>\n      <td>0.90</td>\n      <td>AITA my boyfriend wont let me get a breast red...</td>\n      <td>g5n4a3</td>\n      <td>2020-04-21 20:35:11</td>\n    </tr>\n    <tr>\n      <th>2</th>\n      <td>Not the A-hole</td>\n      <td>I got in trouble at school this fall, I'm a ju...</td>\n      <td>2876</td>\n      <td>26316</td>\n      <td>0.93</td>\n      <td>AITA? My parents took most of my wardrobe away...</td>\n      <td>g5hta8</td>\n      <td>2020-04-21 15:56:36</td>\n    </tr>\n    <tr>\n      <th>3</th>\n      <td>NaN</td>\n      <td>[removed]</td>\n      <td>200</td>\n      <td>0</td>\n      <td>0.48</td>\n      <td>AITA for being my trans sisters staunchest all...</td>\n      <td>g3yzy1</td>\n      <td>2020-04-19 01:18:47</td>\n    </tr>\n    <tr>\n      <th>4</th>\n      <td>Asshole</td>\n      <td>I'll try to make this short. I'm (38m) and my ...</td>\n      <td>805</td>\n      <td>3845</td>\n      <td>0.91</td>\n      <td>AITA for going on a week long vacation by myse...</td>\n      <td>g3y0xe</td>\n      <td>2020-04-19 00:11:52</td>\n    </tr>\n    <tr>\n      <th>...</th>\n      <td>...</td>\n      <td>...</td>\n      <td>...</td>\n      <td>...</td>\n      <td>...</td>\n      <td>...</td>\n      <td>...</td>\n      <td>...</td>\n    </tr>\n    <tr>\n      <th>36862</th>\n      <td>Not the A-hole</td>\n      <td>I'm using a throwaway because I don't want peo...</td>\n      <td>1303</td>\n      <td>14201</td>\n      <td>0.96</td>\n      <td>AITA for refusing to lend my friend a dress an...</td>\n      <td>i2a3iq</td>\n      <td>2020-08-02 10:43:03</td>\n    </tr>\n    <tr>\n      <th>36863</th>\n      <td>Not the A-hole</td>\n      <td>A little over a month ago, my little brother w...</td>\n      <td>287</td>\n      <td>12683</td>\n      <td>0.99</td>\n      <td>AITA for wanting to bring the partner of my br...</td>\n      <td>hejlns</td>\n      <td>2020-06-23 18:04:51</td>\n    </tr>\n    <tr>\n      <th>36864</th>\n      <td>Not the A-hole</td>\n      <td>My (22F) sister is a single mom with a teenage...</td>\n      <td>1002</td>\n      <td>12498</td>\n      <td>0.98</td>\n      <td>AITA for letting my nephew stay with me withou...</td>\n      <td>i2dj11</td>\n      <td>2020-08-02 15:06:52</td>\n    </tr>\n    <tr>\n      <th>36865</th>\n      <td>Not the A-hole</td>\n      <td>Hello world of a Reddit! I am very conflicted ...</td>\n      <td>790</td>\n      <td>12124</td>\n      <td>0.97</td>\n      <td>AITA for refusing to let my daughter see her c...</td>\n      <td>i2dmx1</td>\n      <td>2020-08-02 15:13:32</td>\n    </tr>\n    <tr>\n      <th>36866</th>\n      <td>Not the A-hole</td>\n      <td>Me (26f) and my partner (26M) are getting marr...</td>\n      <td>1475</td>\n      <td>12036</td>\n      <td>0.97</td>\n      <td>AITA because me and my BF will not give 1 niec...</td>\n      <td>i35b5e</td>\n      <td>2020-08-03 20:50:46</td>\n    </tr>\n  </tbody>\n</table>\n<p>36867 rows × 8 columns</p>\n</div>"
     },
     "metadata": {},
     "execution_count": 4
    }
   ],
   "source": [
    "def combine_new_praw_data():\n",
    "    files_to_combine = glob.glob(\"data/raw/to_combine/*.csv\")\n",
    "    temp_list = []\n",
    "\n",
    "    for filename in files_to_combine:\n",
    "        df = pd.read_csv(filename, index_col=0, header=0)\n",
    "        temp_list.append(df)\n",
    "    full_df = pd.concat(temp_list, axis=0, ignore_index=True)\n",
    "\n",
    "    print(len(full_df))\n",
    "    full_df.drop_duplicates(subset=\"id\", inplace=True)\n",
    "    full_df.reset_index(drop=True, inplace=True)\n",
    "    print(len(full_df))\n",
    "\n",
    "    full_df.to_csv(\"data/interim/aita_scrapped_full.csv\")\n",
    "    return full_df\n",
    "\n",
    "full_df = combine_new_praw_data()\n",
    "print(full_df.shape)\n",
    "full_df"
   ]
  },
  {
   "cell_type": "code",
   "execution_count": null,
   "metadata": {},
   "outputs": [],
   "source": []
  }
 ]
}