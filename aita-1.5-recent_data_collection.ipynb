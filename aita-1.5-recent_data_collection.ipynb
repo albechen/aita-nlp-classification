{
 "metadata": {
  "language_info": {
   "codemirror_mode": {
    "name": "ipython",
    "version": 3
   },
   "file_extension": ".py",
   "mimetype": "text/x-python",
   "name": "python",
   "nbconvert_exporter": "python",
   "pygments_lexer": "ipython3",
   "version": 3
  },
  "orig_nbformat": 2
 },
 "nbformat": 4,
 "nbformat_minor": 2,
 "cells": [
  {
   "cell_type": "code",
   "execution_count": null,
   "metadata": {},
   "outputs": [],
   "source": [
    "import pandas as pd\n",
    "import glob\n",
    "\n",
    "import praw\n",
    "import urllib.request\n",
    "import json\n",
    "\n",
    "from datetime import datetime\n",
    "from datetime import date\n",
    "import time\n",
    "\n",
    "\n",
    "reddit = praw.Reddit(\n",
    "    client_id=\"kRAJROlrIHaWMw\",\n",
    "    client_secret=\"f1EXDzFpTw1AryR_3urQ9O6I3AQ\",\n",
    "    user_agent=\"AITA_scrape\",\n",
    ")"
   ]
  },
  {
   "cell_type": "code",
   "execution_count": null,
   "metadata": {},
   "outputs": [],
   "source": [
    "def unix_to_date(unix):\n",
    "    str_time = time.strftime(\"%Y-%m-%d %H:%M:%S\", time.gmtime(unix))\n",
    "    date_time = datetime.strptime(str_time, \"%Y-%m-%d %H:%M:%S\")\n",
    "    return date_time\n",
    "\n",
    "def praw_recent_posts():\n",
    "    posts = []\n",
    "    for x in [\"week\", \"month\", \"year\"]:\n",
    "        count = 0\n",
    "        for submission in reddit.subreddit('amitheasshole').top(x, limit=1000):\n",
    "            posts.append([\n",
    "                submission.title,\n",
    "                submission.id,\n",
    "                unix_to_date(submission.created_utc),\n",
    "                submission.link_flair_text,\n",
    "                submission.selftext,\n",
    "                submission.num_comments,\n",
    "                submission.score,\n",
    "                submission.upvote_ratio,\n",
    "            ])\n",
    "            count += 1\n",
    "            if count % 300 == 0:\n",
    "                print(x,\": Completed\",count)\n",
    "    post_df = pd.DataFrame(posts, columns=[\"title\", \"id\", \"date\", \"verdict\", \"body\", \"num_comments\", \"score\", \"upvote_ratio\"])\n",
    "    post_df.drop_duplicates(subset=\"id\", inplace=True)\n",
    "    post_df.to_csv(\"data/raw/to_combine/praw_recent_%s.csv\" % date.today().strftime(\"%Y%m%d\"))\n",
    "    return post_df\n",
    "\n",
    "praw_rec_df = praw_recent_posts()\n",
    "len(praw_rec_df)"
   ]
  },
  {
   "cell_type": "code",
   "execution_count": null,
   "metadata": {},
   "outputs": [],
   "source": [
    "def combine_new_praw_data():\n",
    "    files_to_combine = glob.glob(\"data/raw/to_combine/*.csv\")\n",
    "    temp_list = []\n",
    "\n",
    "    for filename in files_to_combine:\n",
    "        df = pd.read_csv(filename, index_col=0, header=0)\n",
    "        temp_list.append(df)\n",
    "    full_df = pd.concat(temp_list, axis=0, ignore_index=True)\n",
    "\n",
    "    print(len(full_df))\n",
    "    full_df.drop_duplicates(subset=\"id\", inplace=True)\n",
    "    full_df.reset_index(drop=True, inplace=True)\n",
    "    print(len(full_df))\n",
    "\n",
    "    full_df.to_csv(\"data/interim/aita_scrapped_full.csv\")\n",
    "    return full_df\n",
    "\n",
    "full_df = combine_new_praw_data()\n",
    "print(full_df.shape)\n",
    "full_df"
   ]
  }
 ]
}