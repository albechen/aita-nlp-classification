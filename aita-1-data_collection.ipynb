{
 "cells": [
  {
   "cell_type": "markdown",
   "metadata": {},
   "source": [
    "https://github.com/pushshift/api"
   ]
  },
  {
   "cell_type": "code",
   "execution_count": 10,
   "metadata": {},
   "outputs": [],
   "source": [
    "import pandas as pd\n",
    "\n",
    "import praw\n",
    "import urllib.request\n",
    "import json\n",
    "\n",
    "from datetime import datetime\n",
    "import time\n",
    "\n",
    "\n",
    "reddit = praw.Reddit(\n",
    "    client_id=\"kRAJROlrIHaWMw\",\n",
    "    client_secret=\"f1EXDzFpTw1AryR_3urQ9O6I3AQ\",\n",
    "    user_agent=\"AITA_scrape\",\n",
    ")"
   ]
  },
  {
   "cell_type": "code",
   "execution_count": 2,
   "metadata": {},
   "outputs": [
    {
     "output_type": "stream",
     "name": "stdout",
     "text": "https://api.pushshift.io/reddit/search/submission/?subreddit=AmItheAsshole&sort_type=created_utc&sort=desc&size=1000&before=0s&after=94608000s&num_comments=>10&score=>25\nhttps://api.pushshift.io/reddit/search/submission/?subreddit=AmItheAsshole&sort_type=created_utc&sort=desc&size=1000&before=9932238s&after=94608000s&num_comments=>10&score=>25\nhttps://api.pushshift.io/reddit/search/submission/?subreddit=AmItheAsshole&sort_type=created_utc&sort=desc&size=1000&before=15533500s&after=94608000s&num_comments=>10&score=>25\nhttps://api.pushshift.io/reddit/search/submission/?subreddit=AmItheAsshole&sort_type=created_utc&sort=desc&size=1000&before=16307765s&after=94608000s&num_comments=>10&score=>25\nhttps://api.pushshift.io/reddit/search/submission/?subreddit=AmItheAsshole&sort_type=created_utc&sort=desc&size=1000&before=17070845s&after=94608000s&num_comments=>10&score=>25\nhttps://api.pushshift.io/reddit/search/submission/?subreddit=AmItheAsshole&sort_type=created_utc&sort=desc&size=1000&before=17861498s&after=94608000s&num_comments=>10&score=>25\nhttps://api.pushshift.io/reddit/search/submission/?subreddit=AmItheAsshole&sort_type=created_utc&sort=desc&size=1000&before=18612208s&after=94608000s&num_comments=>10&score=>25\nhttps://api.pushshift.io/reddit/search/submission/?subreddit=AmItheAsshole&sort_type=created_utc&sort=desc&size=1000&before=19349685s&after=94608000s&num_comments=>10&score=>25\nhttps://api.pushshift.io/reddit/search/submission/?subreddit=AmItheAsshole&sort_type=created_utc&sort=desc&size=1000&before=20059101s&after=94608000s&num_comments=>10&score=>25\nhttps://api.pushshift.io/reddit/search/submission/?subreddit=AmItheAsshole&sort_type=created_utc&sort=desc&size=1000&before=20786454s&after=94608000s&num_comments=>10&score=>25\nhttps://api.pushshift.io/reddit/search/submission/?subreddit=AmItheAsshole&sort_type=created_utc&sort=desc&size=1000&before=21463386s&after=94608000s&num_comments=>10&score=>25\nhttps://api.pushshift.io/reddit/search/submission/?subreddit=AmItheAsshole&sort_type=created_utc&sort=desc&size=1000&before=22188300s&after=94608000s&num_comments=>10&score=>25\nhttps://api.pushshift.io/reddit/search/submission/?subreddit=AmItheAsshole&sort_type=created_utc&sort=desc&size=1000&before=22835146s&after=94608000s&num_comments=>10&score=>25\nhttps://api.pushshift.io/reddit/search/submission/?subreddit=AmItheAsshole&sort_type=created_utc&sort=desc&size=1000&before=23512870s&after=94608000s&num_comments=>10&score=>25\nhttps://api.pushshift.io/reddit/search/submission/?subreddit=AmItheAsshole&sort_type=created_utc&sort=desc&size=1000&before=24161131s&after=94608000s&num_comments=>10&score=>25\nhttps://api.pushshift.io/reddit/search/submission/?subreddit=AmItheAsshole&sort_type=created_utc&sort=desc&size=1000&before=24879024s&after=94608000s&num_comments=>10&score=>25\nhttps://api.pushshift.io/reddit/search/submission/?subreddit=AmItheAsshole&sort_type=created_utc&sort=desc&size=1000&before=25613132s&after=94608000s&num_comments=>10&score=>25\nhttps://api.pushshift.io/reddit/search/submission/?subreddit=AmItheAsshole&sort_type=created_utc&sort=desc&size=1000&before=26488417s&after=94608000s&num_comments=>10&score=>25\nhttps://api.pushshift.io/reddit/search/submission/?subreddit=AmItheAsshole&sort_type=created_utc&sort=desc&size=1000&before=27366938s&after=94608000s&num_comments=>10&score=>25\nhttps://api.pushshift.io/reddit/search/submission/?subreddit=AmItheAsshole&sort_type=created_utc&sort=desc&size=1000&before=28166101s&after=94608000s&num_comments=>10&score=>25\nhttps://api.pushshift.io/reddit/search/submission/?subreddit=AmItheAsshole&sort_type=created_utc&sort=desc&size=1000&before=28960291s&after=94608000s&num_comments=>10&score=>25\nhttps://api.pushshift.io/reddit/search/submission/?subreddit=AmItheAsshole&sort_type=created_utc&sort=desc&size=1000&before=29831502s&after=94608000s&num_comments=>10&score=>25\nhttps://api.pushshift.io/reddit/search/submission/?subreddit=AmItheAsshole&sort_type=created_utc&sort=desc&size=1000&before=30764856s&after=94608000s&num_comments=>10&score=>25\nhttps://api.pushshift.io/reddit/search/submission/?subreddit=AmItheAsshole&sort_type=created_utc&sort=desc&size=1000&before=31697930s&after=94608000s&num_comments=>10&score=>25\nhttps://api.pushshift.io/reddit/search/submission/?subreddit=AmItheAsshole&sort_type=created_utc&sort=desc&size=1000&before=32596669s&after=94608000s&num_comments=>10&score=>25\nhttps://api.pushshift.io/reddit/search/submission/?subreddit=AmItheAsshole&sort_type=created_utc&sort=desc&size=1000&before=33563632s&after=94608000s&num_comments=>10&score=>25\nhttps://api.pushshift.io/reddit/search/submission/?subreddit=AmItheAsshole&sort_type=created_utc&sort=desc&size=1000&before=34569968s&after=94608000s&num_comments=>10&score=>25\nhttps://api.pushshift.io/reddit/search/submission/?subreddit=AmItheAsshole&sort_type=created_utc&sort=desc&size=1000&before=35547638s&after=94608000s&num_comments=>10&score=>25\nhttps://api.pushshift.io/reddit/search/submission/?subreddit=AmItheAsshole&sort_type=created_utc&sort=desc&size=1000&before=36827137s&after=94608000s&num_comments=>10&score=>25\nhttps://api.pushshift.io/reddit/search/submission/?subreddit=AmItheAsshole&sort_type=created_utc&sort=desc&size=1000&before=57800612s&after=94608000s&num_comments=>10&score=>25\nhttps://api.pushshift.io/reddit/search/submission/?subreddit=AmItheAsshole&sort_type=created_utc&sort=desc&size=1000&before=86037118s&after=94608000s&num_comments=>10&score=>25\n"
    },
    {
     "output_type": "execute_result",
     "data": {
      "text/plain": "30104"
     },
     "metadata": {},
     "execution_count": 2
    }
   ],
   "source": [
    "def return_pushshift_data(subreddit, early_before, late_after, min_comments, min_score):\n",
    "    link = (\n",
    "        \"https://api.pushshift.io/reddit/search/submission/?subreddit=%s&sort_type=created_utc&sort=desc&size=1000&before=%ss&after=%ss&num_comments=>%s&score=>%s\"\n",
    "        % (subreddit, early_before, late_after, min_comments, min_score)\n",
    "    )\n",
    "    print(link)\n",
    "    with urllib.request.urlopen(link) as url:\n",
    "        data = json.loads(url.read())\n",
    "    data = data[\"data\"]\n",
    "    return data\n",
    "\n",
    "\n",
    "def unix_to_date(unix):\n",
    "    str_time = time.strftime(\"%Y-%m-%d %H:%M:%S\", time.gmtime(unix))\n",
    "    date_time = datetime.strptime(str_time, \"%Y-%m-%d %H:%M:%S\")\n",
    "    return date_time\n",
    "\n",
    "\n",
    "def pushshift_reddit_search(subreddit, min_comments, min_score, years_ago):\n",
    "    early_before = 0\n",
    "    late_after = years_ago * 365 * 60 * 60 * 24\n",
    "    matches = 1000\n",
    "    posts = []\n",
    "    while matches >= 1000:\n",
    "        data = return_pushshift_data(\n",
    "            subreddit, early_before, late_after, min_comments, min_score\n",
    "        )\n",
    "        matches = len(data)\n",
    "\n",
    "        for match in range(0, matches):\n",
    "            posts.append(\n",
    "                [\n",
    "                    data[match][\"title\"],\n",
    "                    data[match][\"id\"],\n",
    "                    unix_to_date(data[match][\"created_utc\"]),\n",
    "                ]\n",
    "            )\n",
    "\n",
    "        if matches == 1000:\n",
    "            unix_time = int(data[matches - 1][\"created_utc\"])\n",
    "            last_time = unix_to_date(unix_time)\n",
    "            now = unix_to_date(time.time())\n",
    "            early_before = int((now - last_time).total_seconds() + 60)\n",
    "\n",
    "    post_df = pd.DataFrame(\n",
    "        posts, columns=[\"title\", \"id\", \"date\"],\n",
    "    )\n",
    "\n",
    "    return post_df\n",
    "\n",
    "\n",
    "push_df = pushshift_reddit_search(\n",
    "    subreddit=\"AmItheAsshole\", min_comments=10, min_score=25, years_ago=3\n",
    ")\n",
    "\n",
    "len(push_df)"
   ]
  },
  {
   "cell_type": "code",
   "execution_count": 3,
   "metadata": {},
   "outputs": [],
   "source": [
    "push_df.to_csv(\"data_raw/posts_pushshift_ids.csv\")"
   ]
  },
  {
   "cell_type": "code",
   "execution_count": 4,
   "metadata": {},
   "outputs": [
    {
     "output_type": "stream",
     "name": "stdout",
     "text": "[]\n"
    }
   ],
   "source": [
    "import collections\n",
    "\n",
    "print(\n",
    "    [\n",
    "        item\n",
    "        for item, count in collections.Counter(post_df[\"id\"].tolist()).items()\n",
    "        if count > 1\n",
    "    ]\n",
    ")"
   ]
  },
  {
   "cell_type": "code",
   "execution_count": 5,
   "metadata": {},
   "outputs": [
    {
     "output_type": "stream",
     "name": "stdout",
     "text": "(30104, 3)\n"
    },
    {
     "output_type": "execute_result",
     "data": {
      "text/plain": "                                               title      id  \\\n0  AITA for renting a house and telling my neighb...  g637y9   \n1  AITA my boyfriend wont let me get a breast red...  g5n4a3   \n2  AITA? My parents took most of my wardrobe away...  g5hta8   \n3  AITA for being my trans sisters staunchest all...  g3yzy1   \n4  AITA for going on a week long vacation by myse...  g3y0xe   \n\n                  date  \n0  2020-04-22 15:31:14  \n1  2020-04-21 20:35:11  \n2  2020-04-21 15:56:36  \n3  2020-04-19 01:18:47  \n4  2020-04-19 00:11:52  ",
      "text/html": "<div>\n<style scoped>\n    .dataframe tbody tr th:only-of-type {\n        vertical-align: middle;\n    }\n\n    .dataframe tbody tr th {\n        vertical-align: top;\n    }\n\n    .dataframe thead th {\n        text-align: right;\n    }\n</style>\n<table border=\"1\" class=\"dataframe\">\n  <thead>\n    <tr style=\"text-align: right;\">\n      <th></th>\n      <th>title</th>\n      <th>id</th>\n      <th>date</th>\n    </tr>\n  </thead>\n  <tbody>\n    <tr>\n      <th>0</th>\n      <td>AITA for renting a house and telling my neighb...</td>\n      <td>g637y9</td>\n      <td>2020-04-22 15:31:14</td>\n    </tr>\n    <tr>\n      <th>1</th>\n      <td>AITA my boyfriend wont let me get a breast red...</td>\n      <td>g5n4a3</td>\n      <td>2020-04-21 20:35:11</td>\n    </tr>\n    <tr>\n      <th>2</th>\n      <td>AITA? My parents took most of my wardrobe away...</td>\n      <td>g5hta8</td>\n      <td>2020-04-21 15:56:36</td>\n    </tr>\n    <tr>\n      <th>3</th>\n      <td>AITA for being my trans sisters staunchest all...</td>\n      <td>g3yzy1</td>\n      <td>2020-04-19 01:18:47</td>\n    </tr>\n    <tr>\n      <th>4</th>\n      <td>AITA for going on a week long vacation by myse...</td>\n      <td>g3y0xe</td>\n      <td>2020-04-19 00:11:52</td>\n    </tr>\n  </tbody>\n</table>\n</div>"
     },
     "metadata": {},
     "execution_count": 5
    }
   ],
   "source": [
    "push_df = pd.read_csv(\"data_raw/posts_pushshift_ids.csv\", index_col=0)\n",
    "print(push_df.shape)\n",
    "push_df.head()"
   ]
  },
  {
   "cell_type": "code",
   "execution_count": 6,
   "metadata": {},
   "outputs": [
    {
     "output_type": "stream",
     "name": "stdout",
     "text": "Parsed: 2000 (0:28:52.944591)\nParsed: 4000 (0:27:29.047117)\nParsed: 6000 (0:27:49.882244)\nParsed: 8000 (0:26:54.029158)\nParsed: 10000 (0:26:11.908075)\nParsed: 12000 (0:26:44.771090)\nParsed: 14000 (0:28:00.320595)\nParsed: 16000 (0:28:08.594987)\nParsed: 18000 (0:27:15.119710)\nParsed: 20000 (0:27:42.282699)\nParsed: 22000 (0:26:48.493822)\nParsed: 24000 (0:26:02.403901)\nParsed: 26000 (0:27:51.421883)\nParsed: 28000 (0:25:35.531361)\nParsed: 30000 (0:17:39.055438)\n"
    }
   ],
   "source": [
    "def praw_from_subid(post_df):\n",
    "    posts = []\n",
    "    count = 0\n",
    "    start = datetime.now()\n",
    "    id_list = list(post_df[\"id\"])\n",
    "\n",
    "    for n in range(len(post_df)):\n",
    "            post_id = id_list[n]\n",
    "            post = reddit.submission(id=post_id)\n",
    "            posts.append([\n",
    "                post.link_flair_text,\n",
    "                post.selftext,\n",
    "                post.num_comments,\n",
    "                post.score,\n",
    "                post.upvote_ratio,\n",
    "            ])\n",
    "            count += 1\n",
    "          \n",
    "            if count % 2000 == 0:\n",
    "                end = datetime.now()\n",
    "                time = end - start\n",
    "                print(\"Parsed: %s (%s)\" % (count, time))\n",
    "                start = datetime.now()\n",
    "                praw_posts_df = pd.DataFrame(posts, columns=[\"verdict\", \"body\", \"num_comments\", \"score\", \"upvote_ratio\"])\n",
    "                praw_posts_df.to_csv(\"data_raw/praw_match_%s.csv\" % (n+1))\n",
    "                posts = []\n",
    "            if n == len(post_df) - 1:\n",
    "                praw_posts_df = pd.DataFrame(posts, columns=[\"verdict\", \"body\", \"num_comments\", \"score\", \"upvote_ratio\"])\n",
    "                praw_posts_df.to_csv(\"data_raw/praw_match_%s.csv\" % (n+1))\n",
    "\n",
    "praw_from_subid(post_df)"
   ]
  },
  {
   "cell_type": "code",
   "execution_count": 7,
   "metadata": {},
   "outputs": [
    {
     "output_type": "execute_result",
     "data": {
      "text/plain": "              verdict                                               body  \\\n0      Not the A-hole  I have a house I rent, and some of my neighbor...   \n1      Not the A-hole  tl;dr: i have large breasts that have caused m...   \n2      Not the A-hole  I got in trouble at school this fall, I'm a ju...   \n3                 NaN                                          [removed]   \n4             Asshole  I'll try to make this short. I'm (38m) and my ...   \n...               ...                                                ...   \n30099         asshole                                          [deleted]   \n30100  everyone sucks  So i have always gotten along perfectly with m...   \n30101  not the a-hole                                          [deleted]   \n30102  not the a-hole  So long story, my father passed the end of las...   \n30103  not the a-hole   got my girlfriends permission to post this:\\n...   \n\n       num_comments  score  upvote_ratio  \n0               324   4097          0.97  \n1              1089  19436          0.90  \n2              2876  26316          0.93  \n3               200      0          0.48  \n4               805   3845          0.91  \n...             ...    ...           ...  \n30099            63     39          0.96  \n30100            88     33          0.79  \n30101            27     38          0.91  \n30102            37     37          0.93  \n30103            11     35          0.94  \n\n[30104 rows x 5 columns]",
      "text/html": "<div>\n<style scoped>\n    .dataframe tbody tr th:only-of-type {\n        vertical-align: middle;\n    }\n\n    .dataframe tbody tr th {\n        vertical-align: top;\n    }\n\n    .dataframe thead th {\n        text-align: right;\n    }\n</style>\n<table border=\"1\" class=\"dataframe\">\n  <thead>\n    <tr style=\"text-align: right;\">\n      <th></th>\n      <th>verdict</th>\n      <th>body</th>\n      <th>num_comments</th>\n      <th>score</th>\n      <th>upvote_ratio</th>\n    </tr>\n  </thead>\n  <tbody>\n    <tr>\n      <th>0</th>\n      <td>Not the A-hole</td>\n      <td>I have a house I rent, and some of my neighbor...</td>\n      <td>324</td>\n      <td>4097</td>\n      <td>0.97</td>\n    </tr>\n    <tr>\n      <th>1</th>\n      <td>Not the A-hole</td>\n      <td>tl;dr: i have large breasts that have caused m...</td>\n      <td>1089</td>\n      <td>19436</td>\n      <td>0.90</td>\n    </tr>\n    <tr>\n      <th>2</th>\n      <td>Not the A-hole</td>\n      <td>I got in trouble at school this fall, I'm a ju...</td>\n      <td>2876</td>\n      <td>26316</td>\n      <td>0.93</td>\n    </tr>\n    <tr>\n      <th>3</th>\n      <td>NaN</td>\n      <td>[removed]</td>\n      <td>200</td>\n      <td>0</td>\n      <td>0.48</td>\n    </tr>\n    <tr>\n      <th>4</th>\n      <td>Asshole</td>\n      <td>I'll try to make this short. I'm (38m) and my ...</td>\n      <td>805</td>\n      <td>3845</td>\n      <td>0.91</td>\n    </tr>\n    <tr>\n      <th>...</th>\n      <td>...</td>\n      <td>...</td>\n      <td>...</td>\n      <td>...</td>\n      <td>...</td>\n    </tr>\n    <tr>\n      <th>30099</th>\n      <td>asshole</td>\n      <td>[deleted]</td>\n      <td>63</td>\n      <td>39</td>\n      <td>0.96</td>\n    </tr>\n    <tr>\n      <th>30100</th>\n      <td>everyone sucks</td>\n      <td>So i have always gotten along perfectly with m...</td>\n      <td>88</td>\n      <td>33</td>\n      <td>0.79</td>\n    </tr>\n    <tr>\n      <th>30101</th>\n      <td>not the a-hole</td>\n      <td>[deleted]</td>\n      <td>27</td>\n      <td>38</td>\n      <td>0.91</td>\n    </tr>\n    <tr>\n      <th>30102</th>\n      <td>not the a-hole</td>\n      <td>So long story, my father passed the end of las...</td>\n      <td>37</td>\n      <td>37</td>\n      <td>0.93</td>\n    </tr>\n    <tr>\n      <th>30103</th>\n      <td>not the a-hole</td>\n      <td>got my girlfriends permission to post this:\\n...</td>\n      <td>11</td>\n      <td>35</td>\n      <td>0.94</td>\n    </tr>\n  </tbody>\n</table>\n<p>30104 rows × 5 columns</p>\n</div>"
     },
     "metadata": {},
     "execution_count": 7
    }
   ],
   "source": [
    "def combine_praw_sep(end_len):\n",
    "    n = 0\n",
    "    praw_df = pd.DataFrame()\n",
    "    while n <= end_len:\n",
    "        try:\n",
    "            n += 2000\n",
    "            posts = pd.read_csv(\"data_raw/praw_match_%s.csv\" % n, index_col=0)\n",
    "            praw_df = pd.concat([praw_df, posts])\n",
    "        except:\n",
    "            posts = pd.read_csv(\"data_raw/praw_match_%s.csv\" % end_len, index_col=0)\n",
    "            praw_df = pd.concat([praw_df, posts])\n",
    "    praw_df.reset_index(drop=True, inplace=True)\n",
    "    praw_df.to_csv(\"data_raw/praw_match_full.csv\")\n",
    "    return praw_df\n",
    "\n",
    "praw_df = combine_praw_sep(30104)\n",
    "praw_df"
   ]
  },
  {
   "cell_type": "code",
   "execution_count": 13,
   "metadata": {},
   "outputs": [
    {
     "output_type": "stream",
     "name": "stdout",
     "text": "month : Completed  100\nmonth : Completed  200\nmonth : Completed  300\nmonth : Completed  400\nmonth : Completed  500\nmonth : Completed  600\nmonth : Completed  700\nmonth : Completed  800\nmonth : Completed  900\nyear : Completed  100\nyear : Completed  200\nyear : Completed  300\nyear : Completed  400\nyear : Completed  500\nyear : Completed  600\nyear : Completed  700\nyear : Completed  800\nyear : Completed  900\nyear : Completed  1000\n"
    }
   ],
   "source": [
    "def unix_to_date(unix):\n",
    "    str_time = time.strftime(\"%Y-%m-%d %H:%M:%S\", time.gmtime(unix))\n",
    "    date_time = datetime.strptime(str_time, \"%Y-%m-%d %H:%M:%S\")\n",
    "    return date_time\n",
    "\n",
    "def praw_recent_posts():\n",
    "    posts = []\n",
    "    for x in [\"month\", \"year\"]:\n",
    "        count = 0\n",
    "        for submission in reddit.subreddit('amitheasshole').top(x, limit=1000):\n",
    "            posts.append([\n",
    "                submission.title,\n",
    "                submission.id,\n",
    "                unix_to_date(submission.created_utc),\n",
    "                submission.link_flair_text,\n",
    "                submission.selftext,\n",
    "                submission.num_comments,\n",
    "                submission.score,\n",
    "                submission.upvote_ratio,\n",
    "            ])\n",
    "            count += 1\n",
    "            if count % 100 == 0:\n",
    "                print(x,\": Completed\",count)\n",
    "    post_df = pd.DataFrame(posts, columns=[\"title\", \"id\", \"date\", \"verdict\", \"body\", \"num_comments\", \"score\", \"upvote_ratio\"])\n",
    "    return post_df\n",
    "\n",
    "praw_rec_df = praw_recent_posts()"
   ]
  },
  {
   "cell_type": "code",
   "execution_count": 26,
   "metadata": {},
   "outputs": [
    {
     "output_type": "execute_result",
     "data": {
      "text/plain": "1907"
     },
     "metadata": {},
     "execution_count": 26
    }
   ],
   "source": [
    "def clean_praw_recent_posts(praw_rec):\n",
    "    praw_rec.drop_duplicates(subset=\"id\", inplace=True)\n",
    "    praw_rec = praw_rec[(praw_rec[\"num_comments\"] >= 10) & (praw_rec[\"score\"] >=25)]\n",
    "    praw_rec.to_csv(\"data_raw/praw_recent_27Apr20.csv\")\n",
    "    return praw_rec\n",
    "\n",
    "clean_praw_rec = clean_praw_recent_posts(praw_rec_df)\n",
    "len(clean_praw_rec)"
   ]
  },
  {
   "cell_type": "code",
   "execution_count": 33,
   "metadata": {},
   "outputs": [
    {
     "output_type": "stream",
     "name": "stdout",
     "text": "(31253, 8)\n"
    },
    {
     "output_type": "execute_result",
     "data": {
      "text/plain": "                                                   title      id  \\\n0      AITA for renting a house and telling my neighb...  g637y9   \n1      AITA my boyfriend wont let me get a breast red...  g5n4a3   \n2      AITA? My parents took most of my wardrobe away...  g5hta8   \n3      AITA for being my trans sisters staunchest all...  g3yzy1   \n4      AITA for going on a week long vacation by myse...  g3y0xe   \n...                                                  ...     ...   \n31248                AITA for bringing my daughter home?  ez2l16   \n31249      AITA for leaving my car profanely vandalized?  dtint8   \n31250  AITA for not going to family Christmas Eve din...  eiurb6   \n31251  AITA for offending a friend after she rejected...  f98kt9   \n31252  AITA for putting locks on my bedroom/bathroom ...  fnxqsk   \n\n                      date         verdict  \\\n0      2020-04-22 15:31:14  Not the A-hole   \n1      2020-04-21 20:35:11  Not the A-hole   \n2      2020-04-21 15:56:36  Not the A-hole   \n3      2020-04-19 01:18:47             NaN   \n4      2020-04-19 00:11:52         Asshole   \n...                    ...             ...   \n31248  2020-02-05 03:05:58         Asshole   \n31249  2019-11-08 17:27:53  Not the A-hole   \n31250  2020-01-02 06:46:30  Not the A-hole   \n31251  2020-02-25 10:56:11  Not the A-hole   \n31252  2020-03-24 03:05:17  Not the A-hole   \n\n                                                    body  num_comments  score  \\\n0      I have a house I rent, and some of my neighbor...           324   4097   \n1      tl;dr: i have large breasts that have caused m...          1089  19436   \n2      I got in trouble at school this fall, I'm a ju...          2876  26316   \n3                                              [removed]           200      0   \n4      I'll try to make this short. I'm (38m) and my ...           805   3845   \n...                                                  ...           ...    ...   \n31248  \\nMy husband and I (both 40m) are raising a 13...          2593   9340   \n31249  A month ago, I parked in a spot on a public ro...          1124   9331   \n31250  Throwaway. \\n\\nThis happened last week, althou...          2170   9321   \n31251  Hello! I'll try to be brief.\\n\\nFriend (28F) l...           611   9309   \n31252  I'm 23 and have been living with my roommate s...           729   9311   \n\n       upvote_ratio  \n0              0.97  \n1              0.90  \n2              0.93  \n3              0.48  \n4              0.91  \n...             ...  \n31248          0.95  \n31249          0.97  \n31250          0.85  \n31251          0.94  \n31252          0.95  \n\n[31253 rows x 8 columns]",
      "text/html": "<div>\n<style scoped>\n    .dataframe tbody tr th:only-of-type {\n        vertical-align: middle;\n    }\n\n    .dataframe tbody tr th {\n        vertical-align: top;\n    }\n\n    .dataframe thead th {\n        text-align: right;\n    }\n</style>\n<table border=\"1\" class=\"dataframe\">\n  <thead>\n    <tr style=\"text-align: right;\">\n      <th></th>\n      <th>title</th>\n      <th>id</th>\n      <th>date</th>\n      <th>verdict</th>\n      <th>body</th>\n      <th>num_comments</th>\n      <th>score</th>\n      <th>upvote_ratio</th>\n    </tr>\n  </thead>\n  <tbody>\n    <tr>\n      <th>0</th>\n      <td>AITA for renting a house and telling my neighb...</td>\n      <td>g637y9</td>\n      <td>2020-04-22 15:31:14</td>\n      <td>Not the A-hole</td>\n      <td>I have a house I rent, and some of my neighbor...</td>\n      <td>324</td>\n      <td>4097</td>\n      <td>0.97</td>\n    </tr>\n    <tr>\n      <th>1</th>\n      <td>AITA my boyfriend wont let me get a breast red...</td>\n      <td>g5n4a3</td>\n      <td>2020-04-21 20:35:11</td>\n      <td>Not the A-hole</td>\n      <td>tl;dr: i have large breasts that have caused m...</td>\n      <td>1089</td>\n      <td>19436</td>\n      <td>0.90</td>\n    </tr>\n    <tr>\n      <th>2</th>\n      <td>AITA? My parents took most of my wardrobe away...</td>\n      <td>g5hta8</td>\n      <td>2020-04-21 15:56:36</td>\n      <td>Not the A-hole</td>\n      <td>I got in trouble at school this fall, I'm a ju...</td>\n      <td>2876</td>\n      <td>26316</td>\n      <td>0.93</td>\n    </tr>\n    <tr>\n      <th>3</th>\n      <td>AITA for being my trans sisters staunchest all...</td>\n      <td>g3yzy1</td>\n      <td>2020-04-19 01:18:47</td>\n      <td>NaN</td>\n      <td>[removed]</td>\n      <td>200</td>\n      <td>0</td>\n      <td>0.48</td>\n    </tr>\n    <tr>\n      <th>4</th>\n      <td>AITA for going on a week long vacation by myse...</td>\n      <td>g3y0xe</td>\n      <td>2020-04-19 00:11:52</td>\n      <td>Asshole</td>\n      <td>I'll try to make this short. I'm (38m) and my ...</td>\n      <td>805</td>\n      <td>3845</td>\n      <td>0.91</td>\n    </tr>\n    <tr>\n      <th>...</th>\n      <td>...</td>\n      <td>...</td>\n      <td>...</td>\n      <td>...</td>\n      <td>...</td>\n      <td>...</td>\n      <td>...</td>\n      <td>...</td>\n    </tr>\n    <tr>\n      <th>31248</th>\n      <td>AITA for bringing my daughter home?</td>\n      <td>ez2l16</td>\n      <td>2020-02-05 03:05:58</td>\n      <td>Asshole</td>\n      <td>\\nMy husband and I (both 40m) are raising a 13...</td>\n      <td>2593</td>\n      <td>9340</td>\n      <td>0.95</td>\n    </tr>\n    <tr>\n      <th>31249</th>\n      <td>AITA for leaving my car profanely vandalized?</td>\n      <td>dtint8</td>\n      <td>2019-11-08 17:27:53</td>\n      <td>Not the A-hole</td>\n      <td>A month ago, I parked in a spot on a public ro...</td>\n      <td>1124</td>\n      <td>9331</td>\n      <td>0.97</td>\n    </tr>\n    <tr>\n      <th>31250</th>\n      <td>AITA for not going to family Christmas Eve din...</td>\n      <td>eiurb6</td>\n      <td>2020-01-02 06:46:30</td>\n      <td>Not the A-hole</td>\n      <td>Throwaway. \\n\\nThis happened last week, althou...</td>\n      <td>2170</td>\n      <td>9321</td>\n      <td>0.85</td>\n    </tr>\n    <tr>\n      <th>31251</th>\n      <td>AITA for offending a friend after she rejected...</td>\n      <td>f98kt9</td>\n      <td>2020-02-25 10:56:11</td>\n      <td>Not the A-hole</td>\n      <td>Hello! I'll try to be brief.\\n\\nFriend (28F) l...</td>\n      <td>611</td>\n      <td>9309</td>\n      <td>0.94</td>\n    </tr>\n    <tr>\n      <th>31252</th>\n      <td>AITA for putting locks on my bedroom/bathroom ...</td>\n      <td>fnxqsk</td>\n      <td>2020-03-24 03:05:17</td>\n      <td>Not the A-hole</td>\n      <td>I'm 23 and have been living with my roommate s...</td>\n      <td>729</td>\n      <td>9311</td>\n      <td>0.95</td>\n    </tr>\n  </tbody>\n</table>\n<p>31253 rows × 8 columns</p>\n</div>"
     },
     "metadata": {},
     "execution_count": 33
    }
   ],
   "source": [
    "def combine_praw_pushshift(praw_df, push_df, praw_rec):\n",
    "    full_df = pd.concat([push_df, praw_df], axis=1)\n",
    "    full_df = pd.concat([full_df, praw_rec], axis=0)\n",
    "    full_df.drop_duplicates(subset=\"id\", inplace=True)\n",
    "    full_df.reset_index(drop=True, inplace=True)\n",
    "    full_df.to_csv(\"data_output/aita_scrapped_posts_full.csv\")\n",
    "    return full_df\n",
    "\n",
    "full_df = combine_praw_pushshift(praw_df, push_df, clean_praw_rec)\n",
    "print(full_df.shape)\n",
    "full_df"
   ]
  },
  {
   "cell_type": "code",
   "execution_count": null,
   "metadata": {},
   "outputs": [],
   "source": []
  }
 ],
 "metadata": {
  "language_info": {
   "name": "python",
   "codemirror_mode": {
    "name": "ipython",
    "version": 3
   },
   "version": "3.7.7-final"
  },
  "orig_nbformat": 2,
  "file_extension": ".py",
  "mimetype": "text/x-python",
  "name": "python",
  "npconvert_exporter": "python",
  "pygments_lexer": "ipython3",
  "version": 3,
  "kernelspec": {
   "name": "python37464bitbaseconda283db1cc85e247fb8163a5e3375dfbda",
   "display_name": "Python 3.7.4 64-bit ('base': conda)"
  }
 },
 "nbformat": 4,
 "nbformat_minor": 2
}