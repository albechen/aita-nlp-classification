{
 "cells": [
  {
   "cell_type": "markdown",
   "metadata": {},
   "source": [
    "https://github.com/pushshift/api"
   ]
  },
  {
   "cell_type": "code",
   "execution_count": 1,
   "metadata": {},
   "outputs": [],
   "source": [
    "import pandas as pd\n",
    "import glob\n",
    "\n",
    "import praw\n",
    "import urllib.request\n",
    "import json\n",
    "\n",
    "from datetime import datetime\n",
    "from datetime import date\n",
    "import time\n",
    "\n",
    "\n",
    "reddit = praw.Reddit(\n",
    "    client_id=\"kRAJROlrIHaWMw\",\n",
    "    client_secret=\"f1EXDzFpTw1AryR_3urQ9O6I3AQ\",\n",
    "    user_agent=\"AITA_scrape\",\n",
    ")"
   ]
  },
  {
   "cell_type": "code",
   "execution_count": 2,
   "metadata": {},
   "outputs": [],
   "source": [
    "def return_pushshift_data(subreddit, early_before, late_after, min_comments, min_score):\n",
    "    link = (\n",
    "        \"https://api.pushshift.io/reddit/search/submission/?subreddit=%s&sort_type=created_utc&sort=desc&size=1000&before=%ss&after=%ss&num_comments=>%s&score=>%s\"\n",
    "        % (subreddit, early_before, late_after, min_comments, min_score)\n",
    "    )\n",
    "    print(link)\n",
    "    with urllib.request.urlopen(link) as url:\n",
    "        data = json.loads(url.read())\n",
    "    data = data[\"data\"]\n",
    "    return data\n",
    "\n",
    "\n",
    "def unix_to_date(unix):\n",
    "    str_time = time.strftime(\"%Y-%m-%d %H:%M:%S\", time.gmtime(unix))\n",
    "    date_time = datetime.strptime(str_time, \"%Y-%m-%d %H:%M:%S\")\n",
    "    return date_time\n",
    "\n",
    "\n",
    "def pushshift_reddit_search(subreddit, min_comments, min_score, years_ago):\n",
    "    early_before = 0\n",
    "    late_after = years_ago * 365 * 60 * 60 * 24\n",
    "    matches = 1000\n",
    "    posts = []\n",
    "    while matches >= 1000:\n",
    "        data = return_pushshift_data(\n",
    "            subreddit, early_before, late_after, min_comments, min_score\n",
    "        )\n",
    "        matches = len(data)\n",
    "\n",
    "        for match in range(0, matches):\n",
    "            posts.append(\n",
    "                [\n",
    "                    data[match][\"title\"],\n",
    "                    data[match][\"id\"],\n",
    "                    unix_to_date(data[match][\"created_utc\"]),\n",
    "                ]\n",
    "            )\n",
    "\n",
    "        if matches == 1000:\n",
    "            unix_time = int(data[matches - 1][\"created_utc\"])\n",
    "            last_time = unix_to_date(unix_time)\n",
    "            now = unix_to_date(time.time())\n",
    "            early_before = int((now - last_time).total_seconds() + 60)\n",
    "\n",
    "    post_df = pd.DataFrame(\n",
    "        posts, columns=[\"title\", \"id\", \"date\"],\n",
    "    )\n",
    "\n",
    "    return post_df"
   ]
  },
  {
   "cell_type": "code",
   "execution_count": 2,
   "metadata": {},
   "outputs": [
    {
     "output_type": "stream",
     "name": "stdout",
     "text": "https://api.pushshift.io/reddit/search/submission/?subreddit=AmItheAsshole&sort_type=created_utc&sort=desc&size=1000&before=0s&after=94608000s&num_comments=>10&score=>25\nhttps://api.pushshift.io/reddit/search/submission/?subreddit=AmItheAsshole&sort_type=created_utc&sort=desc&size=1000&before=9932238s&after=94608000s&num_comments=>10&score=>25\nhttps://api.pushshift.io/reddit/search/submission/?subreddit=AmItheAsshole&sort_type=created_utc&sort=desc&size=1000&before=15533500s&after=94608000s&num_comments=>10&score=>25\nhttps://api.pushshift.io/reddit/search/submission/?subreddit=AmItheAsshole&sort_type=created_utc&sort=desc&size=1000&before=16307765s&after=94608000s&num_comments=>10&score=>25\nhttps://api.pushshift.io/reddit/search/submission/?subreddit=AmItheAsshole&sort_type=created_utc&sort=desc&size=1000&before=17070845s&after=94608000s&num_comments=>10&score=>25\nhttps://api.pushshift.io/reddit/search/submission/?subreddit=AmItheAsshole&sort_type=created_utc&sort=desc&size=1000&before=17861498s&after=94608000s&num_comments=>10&score=>25\nhttps://api.pushshift.io/reddit/search/submission/?subreddit=AmItheAsshole&sort_type=created_utc&sort=desc&size=1000&before=18612208s&after=94608000s&num_comments=>10&score=>25\nhttps://api.pushshift.io/reddit/search/submission/?subreddit=AmItheAsshole&sort_type=created_utc&sort=desc&size=1000&before=19349685s&after=94608000s&num_comments=>10&score=>25\nhttps://api.pushshift.io/reddit/search/submission/?subreddit=AmItheAsshole&sort_type=created_utc&sort=desc&size=1000&before=20059101s&after=94608000s&num_comments=>10&score=>25\nhttps://api.pushshift.io/reddit/search/submission/?subreddit=AmItheAsshole&sort_type=created_utc&sort=desc&size=1000&before=20786454s&after=94608000s&num_comments=>10&score=>25\nhttps://api.pushshift.io/reddit/search/submission/?subreddit=AmItheAsshole&sort_type=created_utc&sort=desc&size=1000&before=21463386s&after=94608000s&num_comments=>10&score=>25\nhttps://api.pushshift.io/reddit/search/submission/?subreddit=AmItheAsshole&sort_type=created_utc&sort=desc&size=1000&before=22188300s&after=94608000s&num_comments=>10&score=>25\nhttps://api.pushshift.io/reddit/search/submission/?subreddit=AmItheAsshole&sort_type=created_utc&sort=desc&size=1000&before=22835146s&after=94608000s&num_comments=>10&score=>25\nhttps://api.pushshift.io/reddit/search/submission/?subreddit=AmItheAsshole&sort_type=created_utc&sort=desc&size=1000&before=23512870s&after=94608000s&num_comments=>10&score=>25\nhttps://api.pushshift.io/reddit/search/submission/?subreddit=AmItheAsshole&sort_type=created_utc&sort=desc&size=1000&before=24161131s&after=94608000s&num_comments=>10&score=>25\nhttps://api.pushshift.io/reddit/search/submission/?subreddit=AmItheAsshole&sort_type=created_utc&sort=desc&size=1000&before=24879024s&after=94608000s&num_comments=>10&score=>25\nhttps://api.pushshift.io/reddit/search/submission/?subreddit=AmItheAsshole&sort_type=created_utc&sort=desc&size=1000&before=25613132s&after=94608000s&num_comments=>10&score=>25\nhttps://api.pushshift.io/reddit/search/submission/?subreddit=AmItheAsshole&sort_type=created_utc&sort=desc&size=1000&before=26488417s&after=94608000s&num_comments=>10&score=>25\nhttps://api.pushshift.io/reddit/search/submission/?subreddit=AmItheAsshole&sort_type=created_utc&sort=desc&size=1000&before=27366938s&after=94608000s&num_comments=>10&score=>25\nhttps://api.pushshift.io/reddit/search/submission/?subreddit=AmItheAsshole&sort_type=created_utc&sort=desc&size=1000&before=28166101s&after=94608000s&num_comments=>10&score=>25\nhttps://api.pushshift.io/reddit/search/submission/?subreddit=AmItheAsshole&sort_type=created_utc&sort=desc&size=1000&before=28960291s&after=94608000s&num_comments=>10&score=>25\nhttps://api.pushshift.io/reddit/search/submission/?subreddit=AmItheAsshole&sort_type=created_utc&sort=desc&size=1000&before=29831502s&after=94608000s&num_comments=>10&score=>25\nhttps://api.pushshift.io/reddit/search/submission/?subreddit=AmItheAsshole&sort_type=created_utc&sort=desc&size=1000&before=30764856s&after=94608000s&num_comments=>10&score=>25\nhttps://api.pushshift.io/reddit/search/submission/?subreddit=AmItheAsshole&sort_type=created_utc&sort=desc&size=1000&before=31697930s&after=94608000s&num_comments=>10&score=>25\nhttps://api.pushshift.io/reddit/search/submission/?subreddit=AmItheAsshole&sort_type=created_utc&sort=desc&size=1000&before=32596669s&after=94608000s&num_comments=>10&score=>25\nhttps://api.pushshift.io/reddit/search/submission/?subreddit=AmItheAsshole&sort_type=created_utc&sort=desc&size=1000&before=33563632s&after=94608000s&num_comments=>10&score=>25\nhttps://api.pushshift.io/reddit/search/submission/?subreddit=AmItheAsshole&sort_type=created_utc&sort=desc&size=1000&before=34569968s&after=94608000s&num_comments=>10&score=>25\nhttps://api.pushshift.io/reddit/search/submission/?subreddit=AmItheAsshole&sort_type=created_utc&sort=desc&size=1000&before=35547638s&after=94608000s&num_comments=>10&score=>25\nhttps://api.pushshift.io/reddit/search/submission/?subreddit=AmItheAsshole&sort_type=created_utc&sort=desc&size=1000&before=36827137s&after=94608000s&num_comments=>10&score=>25\nhttps://api.pushshift.io/reddit/search/submission/?subreddit=AmItheAsshole&sort_type=created_utc&sort=desc&size=1000&before=57800612s&after=94608000s&num_comments=>10&score=>25\nhttps://api.pushshift.io/reddit/search/submission/?subreddit=AmItheAsshole&sort_type=created_utc&sort=desc&size=1000&before=86037118s&after=94608000s&num_comments=>10&score=>25\n"
    },
    {
     "output_type": "execute_result",
     "data": {
      "text/plain": "30104"
     },
     "metadata": {},
     "execution_count": 2
    }
   ],
   "source": [
    "push_df = pushshift_reddit_search(\n",
    "    subreddit=\"AmItheAsshole\", min_comments=10, min_score=25, years_ago=3\n",
    ")\n",
    "\n",
    "len(push_df)"
   ]
  },
  {
   "cell_type": "code",
   "execution_count": 3,
   "metadata": {},
   "outputs": [],
   "source": [
    "push_df.to_csv(\"data/raw/posts_pushshift_ids.csv\")"
   ]
  },
  {
   "cell_type": "code",
   "execution_count": 4,
   "metadata": {},
   "outputs": [
    {
     "output_type": "stream",
     "name": "stdout",
     "text": "[]\n"
    }
   ],
   "source": [
    "import collections\n",
    "\n",
    "print(\n",
    "    [\n",
    "        item\n",
    "        for item, count in collections.Counter(post_df[\"id\"].tolist()).items()\n",
    "        if count > 1\n",
    "    ]\n",
    ")"
   ]
  },
  {
   "cell_type": "code",
   "execution_count": 5,
   "metadata": {},
   "outputs": [
    {
     "output_type": "stream",
     "name": "stdout",
     "text": "(30104, 3)\n"
    },
    {
     "output_type": "execute_result",
     "data": {
      "text/plain": "                                               title      id  \\\n0  AITA for renting a house and telling my neighb...  g637y9   \n1  AITA my boyfriend wont let me get a breast red...  g5n4a3   \n2  AITA? My parents took most of my wardrobe away...  g5hta8   \n3  AITA for being my trans sisters staunchest all...  g3yzy1   \n4  AITA for going on a week long vacation by myse...  g3y0xe   \n\n                  date  \n0  2020-04-22 15:31:14  \n1  2020-04-21 20:35:11  \n2  2020-04-21 15:56:36  \n3  2020-04-19 01:18:47  \n4  2020-04-19 00:11:52  ",
      "text/html": "<div>\n<style scoped>\n    .dataframe tbody tr th:only-of-type {\n        vertical-align: middle;\n    }\n\n    .dataframe tbody tr th {\n        vertical-align: top;\n    }\n\n    .dataframe thead th {\n        text-align: right;\n    }\n</style>\n<table border=\"1\" class=\"dataframe\">\n  <thead>\n    <tr style=\"text-align: right;\">\n      <th></th>\n      <th>title</th>\n      <th>id</th>\n      <th>date</th>\n    </tr>\n  </thead>\n  <tbody>\n    <tr>\n      <th>0</th>\n      <td>AITA for renting a house and telling my neighb...</td>\n      <td>g637y9</td>\n      <td>2020-04-22 15:31:14</td>\n    </tr>\n    <tr>\n      <th>1</th>\n      <td>AITA my boyfriend wont let me get a breast red...</td>\n      <td>g5n4a3</td>\n      <td>2020-04-21 20:35:11</td>\n    </tr>\n    <tr>\n      <th>2</th>\n      <td>AITA? My parents took most of my wardrobe away...</td>\n      <td>g5hta8</td>\n      <td>2020-04-21 15:56:36</td>\n    </tr>\n    <tr>\n      <th>3</th>\n      <td>AITA for being my trans sisters staunchest all...</td>\n      <td>g3yzy1</td>\n      <td>2020-04-19 01:18:47</td>\n    </tr>\n    <tr>\n      <th>4</th>\n      <td>AITA for going on a week long vacation by myse...</td>\n      <td>g3y0xe</td>\n      <td>2020-04-19 00:11:52</td>\n    </tr>\n  </tbody>\n</table>\n</div>"
     },
     "metadata": {},
     "execution_count": 5
    }
   ],
   "source": [
    "print(push_df.shape)\n",
    "push_df.head()"
   ]
  },
  {
   "cell_type": "code",
   "execution_count": 6,
   "metadata": {},
   "outputs": [
    {
     "output_type": "stream",
     "name": "stdout",
     "text": "Parsed: 2000 (0:28:52.944591)\nParsed: 4000 (0:27:29.047117)\nParsed: 6000 (0:27:49.882244)\nParsed: 8000 (0:26:54.029158)\nParsed: 10000 (0:26:11.908075)\nParsed: 12000 (0:26:44.771090)\nParsed: 14000 (0:28:00.320595)\nParsed: 16000 (0:28:08.594987)\nParsed: 18000 (0:27:15.119710)\nParsed: 20000 (0:27:42.282699)\nParsed: 22000 (0:26:48.493822)\nParsed: 24000 (0:26:02.403901)\nParsed: 26000 (0:27:51.421883)\nParsed: 28000 (0:25:35.531361)\nParsed: 30000 (0:17:39.055438)\n"
    }
   ],
   "source": [
    "def praw_from_subid(post_df):\n",
    "    posts = []\n",
    "    count = 0\n",
    "    start = datetime.now()\n",
    "    id_list = list(post_df[\"id\"])\n",
    "\n",
    "    for n in range(len(post_df)):\n",
    "            post_id = id_list[n]\n",
    "            post = reddit.submission(id=post_id)\n",
    "            posts.append([\n",
    "                post.link_flair_text,\n",
    "                post.selftext,\n",
    "                post.num_comments,\n",
    "                post.score,\n",
    "                post.upvote_ratio,\n",
    "            ])\n",
    "            count += 1\n",
    "          \n",
    "            if count % 2000 == 0:\n",
    "                end = datetime.now()\n",
    "                time = end - start\n",
    "                print(\"Parsed: %s (%s)\" % (count, time))\n",
    "                start = datetime.now()\n",
    "                praw_posts_df = pd.DataFrame(posts, columns=[\"verdict\", \"body\", \"num_comments\", \"score\", \"upvote_ratio\"])\n",
    "                praw_posts_df.to_csv(\"data/raw/praw_match_%s.csv\" % (n+1))\n",
    "                posts = []\n",
    "            if n == len(post_df) - 1:\n",
    "                praw_posts_df = pd.DataFrame(posts, columns=[\"verdict\", \"body\", \"num_comments\", \"score\", \"upvote_ratio\"])\n",
    "                praw_posts_df.to_csv(\"data/raw/praw_match_%s.csv\" % (n+1))\n",
    "\n",
    "praw_from_subid(post_df)"
   ]
  },
  {
   "cell_type": "code",
   "execution_count": 7,
   "metadata": {},
   "outputs": [
    {
     "output_type": "execute_result",
     "data": {
      "text/plain": "              verdict                                               body  \\\n0      Not the A-hole  I have a house I rent, and some of my neighbor...   \n1      Not the A-hole  tl;dr: i have large breasts that have caused m...   \n2      Not the A-hole  I got in trouble at school this fall, I'm a ju...   \n3                 NaN                                          [removed]   \n4             Asshole  I'll try to make this short. I'm (38m) and my ...   \n...               ...                                                ...   \n30099         asshole                                          [deleted]   \n30100  everyone sucks  So i have always gotten along perfectly with m...   \n30101  not the a-hole                                          [deleted]   \n30102  not the a-hole  So long story, my father passed the end of las...   \n30103  not the a-hole   got my girlfriends permission to post this:\\n...   \n\n       num_comments  score  upvote_ratio  \n0               324   4097          0.97  \n1              1089  19436          0.90  \n2              2876  26316          0.93  \n3               200      0          0.48  \n4               805   3845          0.91  \n...             ...    ...           ...  \n30099            63     39          0.96  \n30100            88     33          0.79  \n30101            27     38          0.91  \n30102            37     37          0.93  \n30103            11     35          0.94  \n\n[30104 rows x 5 columns]",
      "text/html": "<div>\n<style scoped>\n    .dataframe tbody tr th:only-of-type {\n        vertical-align: middle;\n    }\n\n    .dataframe tbody tr th {\n        vertical-align: top;\n    }\n\n    .dataframe thead th {\n        text-align: right;\n    }\n</style>\n<table border=\"1\" class=\"dataframe\">\n  <thead>\n    <tr style=\"text-align: right;\">\n      <th></th>\n      <th>verdict</th>\n      <th>body</th>\n      <th>num_comments</th>\n      <th>score</th>\n      <th>upvote_ratio</th>\n    </tr>\n  </thead>\n  <tbody>\n    <tr>\n      <th>0</th>\n      <td>Not the A-hole</td>\n      <td>I have a house I rent, and some of my neighbor...</td>\n      <td>324</td>\n      <td>4097</td>\n      <td>0.97</td>\n    </tr>\n    <tr>\n      <th>1</th>\n      <td>Not the A-hole</td>\n      <td>tl;dr: i have large breasts that have caused m...</td>\n      <td>1089</td>\n      <td>19436</td>\n      <td>0.90</td>\n    </tr>\n    <tr>\n      <th>2</th>\n      <td>Not the A-hole</td>\n      <td>I got in trouble at school this fall, I'm a ju...</td>\n      <td>2876</td>\n      <td>26316</td>\n      <td>0.93</td>\n    </tr>\n    <tr>\n      <th>3</th>\n      <td>NaN</td>\n      <td>[removed]</td>\n      <td>200</td>\n      <td>0</td>\n      <td>0.48</td>\n    </tr>\n    <tr>\n      <th>4</th>\n      <td>Asshole</td>\n      <td>I'll try to make this short. I'm (38m) and my ...</td>\n      <td>805</td>\n      <td>3845</td>\n      <td>0.91</td>\n    </tr>\n    <tr>\n      <th>...</th>\n      <td>...</td>\n      <td>...</td>\n      <td>...</td>\n      <td>...</td>\n      <td>...</td>\n    </tr>\n    <tr>\n      <th>30099</th>\n      <td>asshole</td>\n      <td>[deleted]</td>\n      <td>63</td>\n      <td>39</td>\n      <td>0.96</td>\n    </tr>\n    <tr>\n      <th>30100</th>\n      <td>everyone sucks</td>\n      <td>So i have always gotten along perfectly with m...</td>\n      <td>88</td>\n      <td>33</td>\n      <td>0.79</td>\n    </tr>\n    <tr>\n      <th>30101</th>\n      <td>not the a-hole</td>\n      <td>[deleted]</td>\n      <td>27</td>\n      <td>38</td>\n      <td>0.91</td>\n    </tr>\n    <tr>\n      <th>30102</th>\n      <td>not the a-hole</td>\n      <td>So long story, my father passed the end of las...</td>\n      <td>37</td>\n      <td>37</td>\n      <td>0.93</td>\n    </tr>\n    <tr>\n      <th>30103</th>\n      <td>not the a-hole</td>\n      <td>got my girlfriends permission to post this:\\n...</td>\n      <td>11</td>\n      <td>35</td>\n      <td>0.94</td>\n    </tr>\n  </tbody>\n</table>\n<p>30104 rows × 5 columns</p>\n</div>"
     },
     "metadata": {},
     "execution_count": 7
    }
   ],
   "source": [
    "def combine_praw_sep(end_len):\n",
    "    n = 0\n",
    "    praw_df = pd.DataFrame()\n",
    "    while n <= end_len:\n",
    "        try:\n",
    "            n += 2000\n",
    "            posts = pd.read_csv(\"data/raw/praw_match_%s.csv\" % n, index_col=0)\n",
    "            praw_df = pd.concat([praw_df, posts])\n",
    "        except:\n",
    "            posts = pd.read_csv(\"data/raw/praw_match_%s.csv\" % end_len, index_col=0)\n",
    "            praw_df = pd.concat([praw_df, posts])\n",
    "    praw_df.reset_index(drop=True, inplace=True)\n",
    "    praw_df.to_csv(\"data/raw/praw_match_full.csv\")\n",
    "    return praw_df\n",
    "\n",
    "praw_df = combine_praw_sep(30104)\n",
    "praw_df"
   ]
  },
  {
   "cell_type": "code",
   "execution_count": 35,
   "metadata": {},
   "outputs": [
    {
     "output_type": "stream",
     "name": "stdout",
     "text": "(30104, 8)\n"
    },
    {
     "output_type": "execute_result",
     "data": {
      "text/plain": "              verdict                                               body  \\\n0      Not the A-hole  I have a house I rent, and some of my neighbor...   \n1      Not the A-hole  tl;dr: i have large breasts that have caused m...   \n2      Not the A-hole  I got in trouble at school this fall, I'm a ju...   \n3                 NaN                                          [removed]   \n4             Asshole  I'll try to make this short. I'm (38m) and my ...   \n...               ...                                                ...   \n30099         asshole                                          [deleted]   \n30100  everyone sucks  So i have always gotten along perfectly with m...   \n30101  not the a-hole                                          [deleted]   \n30102  not the a-hole  So long story, my father passed the end of las...   \n30103  not the a-hole   got my girlfriends permission to post this:\\n...   \n\n       num_comments  score  upvote_ratio  \\\n0               324   4097          0.97   \n1              1089  19436          0.90   \n2              2876  26316          0.93   \n3               200      0          0.48   \n4               805   3845          0.91   \n...             ...    ...           ...   \n30099            63     39          0.96   \n30100            88     33          0.79   \n30101            27     38          0.91   \n30102            37     37          0.93   \n30103            11     35          0.94   \n\n                                                   title      id  \\\n0      AITA for renting a house and telling my neighb...  g637y9   \n1      AITA my boyfriend wont let me get a breast red...  g5n4a3   \n2      AITA? My parents took most of my wardrobe away...  g5hta8   \n3      AITA for being my trans sisters staunchest all...  g3yzy1   \n4      AITA for going on a week long vacation by myse...  g3y0xe   \n...                                                  ...     ...   \n30099  AITA for not having change when selling someth...  68pg7k   \n30100  AITA - Told my good friend i was pretty much s...  68nddo   \n30101  AITA for defending my sister to my obsessive p...  68fji5   \n30102          AITA for NOT sharing my inheritance? long  686xx4   \n30103  AITA - I brought a sensitive topic to my gf's ...  67za7x   \n\n                      date  \n0      2020-04-22 15:31:14  \n1      2020-04-21 20:35:11  \n2      2020-04-21 15:56:36  \n3      2020-04-19 01:18:47  \n4      2020-04-19 00:11:52  \n...                    ...  \n30099  2017-05-01 23:08:08  \n30100  2017-05-01 17:29:24  \n30101  2017-04-30 13:51:38  \n30102  2017-04-29 02:02:01  \n30103  2017-04-27 23:03:32  \n\n[30104 rows x 8 columns]",
      "text/html": "<div>\n<style scoped>\n    .dataframe tbody tr th:only-of-type {\n        vertical-align: middle;\n    }\n\n    .dataframe tbody tr th {\n        vertical-align: top;\n    }\n\n    .dataframe thead th {\n        text-align: right;\n    }\n</style>\n<table border=\"1\" class=\"dataframe\">\n  <thead>\n    <tr style=\"text-align: right;\">\n      <th></th>\n      <th>verdict</th>\n      <th>body</th>\n      <th>num_comments</th>\n      <th>score</th>\n      <th>upvote_ratio</th>\n      <th>title</th>\n      <th>id</th>\n      <th>date</th>\n    </tr>\n  </thead>\n  <tbody>\n    <tr>\n      <th>0</th>\n      <td>Not the A-hole</td>\n      <td>I have a house I rent, and some of my neighbor...</td>\n      <td>324</td>\n      <td>4097</td>\n      <td>0.97</td>\n      <td>AITA for renting a house and telling my neighb...</td>\n      <td>g637y9</td>\n      <td>2020-04-22 15:31:14</td>\n    </tr>\n    <tr>\n      <th>1</th>\n      <td>Not the A-hole</td>\n      <td>tl;dr: i have large breasts that have caused m...</td>\n      <td>1089</td>\n      <td>19436</td>\n      <td>0.90</td>\n      <td>AITA my boyfriend wont let me get a breast red...</td>\n      <td>g5n4a3</td>\n      <td>2020-04-21 20:35:11</td>\n    </tr>\n    <tr>\n      <th>2</th>\n      <td>Not the A-hole</td>\n      <td>I got in trouble at school this fall, I'm a ju...</td>\n      <td>2876</td>\n      <td>26316</td>\n      <td>0.93</td>\n      <td>AITA? My parents took most of my wardrobe away...</td>\n      <td>g5hta8</td>\n      <td>2020-04-21 15:56:36</td>\n    </tr>\n    <tr>\n      <th>3</th>\n      <td>NaN</td>\n      <td>[removed]</td>\n      <td>200</td>\n      <td>0</td>\n      <td>0.48</td>\n      <td>AITA for being my trans sisters staunchest all...</td>\n      <td>g3yzy1</td>\n      <td>2020-04-19 01:18:47</td>\n    </tr>\n    <tr>\n      <th>4</th>\n      <td>Asshole</td>\n      <td>I'll try to make this short. I'm (38m) and my ...</td>\n      <td>805</td>\n      <td>3845</td>\n      <td>0.91</td>\n      <td>AITA for going on a week long vacation by myse...</td>\n      <td>g3y0xe</td>\n      <td>2020-04-19 00:11:52</td>\n    </tr>\n    <tr>\n      <th>...</th>\n      <td>...</td>\n      <td>...</td>\n      <td>...</td>\n      <td>...</td>\n      <td>...</td>\n      <td>...</td>\n      <td>...</td>\n      <td>...</td>\n    </tr>\n    <tr>\n      <th>30099</th>\n      <td>asshole</td>\n      <td>[deleted]</td>\n      <td>63</td>\n      <td>39</td>\n      <td>0.96</td>\n      <td>AITA for not having change when selling someth...</td>\n      <td>68pg7k</td>\n      <td>2017-05-01 23:08:08</td>\n    </tr>\n    <tr>\n      <th>30100</th>\n      <td>everyone sucks</td>\n      <td>So i have always gotten along perfectly with m...</td>\n      <td>88</td>\n      <td>33</td>\n      <td>0.79</td>\n      <td>AITA - Told my good friend i was pretty much s...</td>\n      <td>68nddo</td>\n      <td>2017-05-01 17:29:24</td>\n    </tr>\n    <tr>\n      <th>30101</th>\n      <td>not the a-hole</td>\n      <td>[deleted]</td>\n      <td>27</td>\n      <td>38</td>\n      <td>0.91</td>\n      <td>AITA for defending my sister to my obsessive p...</td>\n      <td>68fji5</td>\n      <td>2017-04-30 13:51:38</td>\n    </tr>\n    <tr>\n      <th>30102</th>\n      <td>not the a-hole</td>\n      <td>So long story, my father passed the end of las...</td>\n      <td>37</td>\n      <td>37</td>\n      <td>0.93</td>\n      <td>AITA for NOT sharing my inheritance? long</td>\n      <td>686xx4</td>\n      <td>2017-04-29 02:02:01</td>\n    </tr>\n    <tr>\n      <th>30103</th>\n      <td>not the a-hole</td>\n      <td>got my girlfriends permission to post this:\\n...</td>\n      <td>11</td>\n      <td>35</td>\n      <td>0.94</td>\n      <td>AITA - I brought a sensitive topic to my gf's ...</td>\n      <td>67za7x</td>\n      <td>2017-04-27 23:03:32</td>\n    </tr>\n  </tbody>\n</table>\n<p>30104 rows × 8 columns</p>\n</div>"
     },
     "metadata": {},
     "execution_count": 35
    }
   ],
   "source": [
    "push_df = pd.read_csv(\"data/raw/praw_match_full.csv\", index_col=0)\n",
    "praw_df = pd.read_csv(\"data/raw/posts_pushshift_ids.csv\", index_col=0)\n",
    "\n",
    "def combine_praw_pushshift(praw_df, push_df):\n",
    "    full_df = pd.concat([push_df, praw_df], axis=1)\n",
    "    full_df.drop_duplicates(subset=\"id\", inplace=True)\n",
    "    full_df.reset_index(drop=True, inplace=True)\n",
    "    full_df.to_csv(\"data/raw/to_combine/praw_bulk_20200427.csv\")\n",
    "    return full_df\n",
    "\n",
    "full_df = combine_praw_pushshift(praw_df, push_df)\n",
    "print(full_df.shape)\n",
    "full_df"
   ]
  },
  {
   "cell_type": "code",
   "execution_count": 3,
   "metadata": {
    "tags": []
   },
   "outputs": [
    {
     "output_type": "stream",
     "name": "stdout",
     "text": "week : Completed 300\nweek : Completed 600\nweek : Completed 900\nmonth : Completed 300\nmonth : Completed 600\nmonth : Completed 900\nyear : Completed 300\nyear : Completed 600\nyear : Completed 900\n"
    },
    {
     "output_type": "execute_result",
     "data": {
      "text/plain": "2691"
     },
     "metadata": {},
     "execution_count": 3
    }
   ],
   "source": [
    "def unix_to_date(unix):\n",
    "    str_time = time.strftime(\"%Y-%m-%d %H:%M:%S\", time.gmtime(unix))\n",
    "    date_time = datetime.strptime(str_time, \"%Y-%m-%d %H:%M:%S\")\n",
    "    return date_time\n",
    "\n",
    "def praw_recent_posts():\n",
    "    posts = []\n",
    "    for x in [\"week\", \"month\", \"year\"]:\n",
    "        count = 0\n",
    "        for submission in reddit.subreddit('amitheasshole').top(x, limit=1000):\n",
    "            posts.append([\n",
    "                submission.title,\n",
    "                submission.id,\n",
    "                unix_to_date(submission.created_utc),\n",
    "                submission.link_flair_text,\n",
    "                submission.selftext,\n",
    "                submission.num_comments,\n",
    "                submission.score,\n",
    "                submission.upvote_ratio,\n",
    "            ])\n",
    "            count += 1\n",
    "            if count % 300 == 0:\n",
    "                print(x,\": Completed\",count)\n",
    "    post_df = pd.DataFrame(posts, columns=[\"title\", \"id\", \"date\", \"verdict\", \"body\", \"num_comments\", \"score\", \"upvote_ratio\"])\n",
    "    post_df.drop_duplicates(subset=\"id\", inplace=True)\n",
    "    post_df.to_csv(\"data/raw/to_combine/praw_recent_%s.csv\" % date.today().strftime(\"%Y%m%d\"))\n",
    "    return post_df\n",
    "\n",
    "praw_rec_df = praw_recent_posts()\n",
    "len(praw_rec_df)"
   ]
  },
  {
   "cell_type": "code",
   "execution_count": 4,
   "metadata": {
    "tags": []
   },
   "outputs": [
    {
     "output_type": "stream",
     "name": "stdout",
     "text": "37354\n34961\n(34961, 8)\n"
    },
    {
     "output_type": "execute_result",
     "data": {
      "text/plain": "              verdict                                               body  \\\n0      Not the A-hole  I have a house I rent, and some of my neighbor...   \n1      Not the A-hole  tl;dr: i have large breasts that have caused m...   \n2      Not the A-hole  I got in trouble at school this fall, I'm a ju...   \n3                 NaN                                          [removed]   \n4             Asshole  I'll try to make this short. I'm (38m) and my ...   \n...               ...                                                ...   \n34956  Not the A-hole  When my girls were 5-6 years old they were cut...   \n34957  Not the A-hole  I've lost my son 2 months ago, He was only 25,...   \n34958  Not the A-hole  My MIL was over at our house and I’ve been fee...   \n34959  Not the A-hole  Hi, first time posting on here and I do feel l...   \n34960  Not the A-hole  This is my first Reddit post so sorry if some ...   \n\n       num_comments  score  upvote_ratio  \\\n0               324   4097          0.97   \n1              1089  19436          0.90   \n2              2876  26316          0.93   \n3               200      0          0.48   \n4               805   3845          0.91   \n...             ...    ...           ...   \n34956           538  12076          0.96   \n34957           715  11992          0.95   \n34958           583  11949          0.96   \n34959           972  11823          0.97   \n34960           989  11766          0.96   \n\n                                                   title      id  \\\n0      AITA for renting a house and telling my neighb...  g637y9   \n1      AITA my boyfriend wont let me get a breast red...  g5n4a3   \n2      AITA? My parents took most of my wardrobe away...  g5hta8   \n3      AITA for being my trans sisters staunchest all...  g3yzy1   \n4      AITA for going on a week long vacation by myse...  g3y0xe   \n...                                                  ...     ...   \n34956  AITA for expecting my young daughters to be pa...  hcdcfq   \n34957  Aita For kicking my brother in law and his wif...  he6964   \n34958  AITA for telling my MIL she needed to leave af...  hd6yby   \n34959  AITA if I don’t give my sisters back even thou...  hjigc0   \n34960  AITA for making my son make dinner after he in...  hhrd2b   \n\n                      date  \n0      2020-04-22 15:31:14  \n1      2020-04-21 20:35:11  \n2      2020-04-21 15:56:36  \n3      2020-04-19 01:18:47  \n4      2020-04-19 00:11:52  \n...                    ...  \n34956  2020-06-20 01:34:23  \n34957  2020-06-23 02:32:11  \n34958  2020-06-21 13:29:47  \n34959  2020-07-01 20:33:19  \n34960  2020-06-29 02:11:58  \n\n[34961 rows x 8 columns]",
      "text/html": "<div>\n<style scoped>\n    .dataframe tbody tr th:only-of-type {\n        vertical-align: middle;\n    }\n\n    .dataframe tbody tr th {\n        vertical-align: top;\n    }\n\n    .dataframe thead th {\n        text-align: right;\n    }\n</style>\n<table border=\"1\" class=\"dataframe\">\n  <thead>\n    <tr style=\"text-align: right;\">\n      <th></th>\n      <th>verdict</th>\n      <th>body</th>\n      <th>num_comments</th>\n      <th>score</th>\n      <th>upvote_ratio</th>\n      <th>title</th>\n      <th>id</th>\n      <th>date</th>\n    </tr>\n  </thead>\n  <tbody>\n    <tr>\n      <th>0</th>\n      <td>Not the A-hole</td>\n      <td>I have a house I rent, and some of my neighbor...</td>\n      <td>324</td>\n      <td>4097</td>\n      <td>0.97</td>\n      <td>AITA for renting a house and telling my neighb...</td>\n      <td>g637y9</td>\n      <td>2020-04-22 15:31:14</td>\n    </tr>\n    <tr>\n      <th>1</th>\n      <td>Not the A-hole</td>\n      <td>tl;dr: i have large breasts that have caused m...</td>\n      <td>1089</td>\n      <td>19436</td>\n      <td>0.90</td>\n      <td>AITA my boyfriend wont let me get a breast red...</td>\n      <td>g5n4a3</td>\n      <td>2020-04-21 20:35:11</td>\n    </tr>\n    <tr>\n      <th>2</th>\n      <td>Not the A-hole</td>\n      <td>I got in trouble at school this fall, I'm a ju...</td>\n      <td>2876</td>\n      <td>26316</td>\n      <td>0.93</td>\n      <td>AITA? My parents took most of my wardrobe away...</td>\n      <td>g5hta8</td>\n      <td>2020-04-21 15:56:36</td>\n    </tr>\n    <tr>\n      <th>3</th>\n      <td>NaN</td>\n      <td>[removed]</td>\n      <td>200</td>\n      <td>0</td>\n      <td>0.48</td>\n      <td>AITA for being my trans sisters staunchest all...</td>\n      <td>g3yzy1</td>\n      <td>2020-04-19 01:18:47</td>\n    </tr>\n    <tr>\n      <th>4</th>\n      <td>Asshole</td>\n      <td>I'll try to make this short. I'm (38m) and my ...</td>\n      <td>805</td>\n      <td>3845</td>\n      <td>0.91</td>\n      <td>AITA for going on a week long vacation by myse...</td>\n      <td>g3y0xe</td>\n      <td>2020-04-19 00:11:52</td>\n    </tr>\n    <tr>\n      <th>...</th>\n      <td>...</td>\n      <td>...</td>\n      <td>...</td>\n      <td>...</td>\n      <td>...</td>\n      <td>...</td>\n      <td>...</td>\n      <td>...</td>\n    </tr>\n    <tr>\n      <th>34956</th>\n      <td>Not the A-hole</td>\n      <td>When my girls were 5-6 years old they were cut...</td>\n      <td>538</td>\n      <td>12076</td>\n      <td>0.96</td>\n      <td>AITA for expecting my young daughters to be pa...</td>\n      <td>hcdcfq</td>\n      <td>2020-06-20 01:34:23</td>\n    </tr>\n    <tr>\n      <th>34957</th>\n      <td>Not the A-hole</td>\n      <td>I've lost my son 2 months ago, He was only 25,...</td>\n      <td>715</td>\n      <td>11992</td>\n      <td>0.95</td>\n      <td>Aita For kicking my brother in law and his wif...</td>\n      <td>he6964</td>\n      <td>2020-06-23 02:32:11</td>\n    </tr>\n    <tr>\n      <th>34958</th>\n      <td>Not the A-hole</td>\n      <td>My MIL was over at our house and I’ve been fee...</td>\n      <td>583</td>\n      <td>11949</td>\n      <td>0.96</td>\n      <td>AITA for telling my MIL she needed to leave af...</td>\n      <td>hd6yby</td>\n      <td>2020-06-21 13:29:47</td>\n    </tr>\n    <tr>\n      <th>34959</th>\n      <td>Not the A-hole</td>\n      <td>Hi, first time posting on here and I do feel l...</td>\n      <td>972</td>\n      <td>11823</td>\n      <td>0.97</td>\n      <td>AITA if I don’t give my sisters back even thou...</td>\n      <td>hjigc0</td>\n      <td>2020-07-01 20:33:19</td>\n    </tr>\n    <tr>\n      <th>34960</th>\n      <td>Not the A-hole</td>\n      <td>This is my first Reddit post so sorry if some ...</td>\n      <td>989</td>\n      <td>11766</td>\n      <td>0.96</td>\n      <td>AITA for making my son make dinner after he in...</td>\n      <td>hhrd2b</td>\n      <td>2020-06-29 02:11:58</td>\n    </tr>\n  </tbody>\n</table>\n<p>34961 rows × 8 columns</p>\n</div>"
     },
     "metadata": {},
     "execution_count": 4
    }
   ],
   "source": [
    "def combine_new_praw_data():\n",
    "    files_to_combine = glob.glob(\"data/raw/to_combine/*.csv\")\n",
    "    temp_list = []\n",
    "\n",
    "    for filename in files_to_combine:\n",
    "        df = pd.read_csv(filename, index_col=0, header=0)\n",
    "        temp_list.append(df)\n",
    "    full_df = pd.concat(temp_list, axis=0, ignore_index=True)\n",
    "\n",
    "    print(len(full_df))\n",
    "    full_df.drop_duplicates(subset=\"id\", inplace=True)\n",
    "    full_df.reset_index(drop=True, inplace=True)\n",
    "    print(len(full_df))\n",
    "\n",
    "    full_df.to_csv(\"data/interim/aita_scrapped_full.csv\")\n",
    "    return full_df\n",
    "\n",
    "full_df = combine_new_praw_data()\n",
    "print(full_df.shape)\n",
    "full_df"
   ]
  },
  {
   "cell_type": "code",
   "execution_count": null,
   "metadata": {},
   "outputs": [],
   "source": []
  }
 ],
 "metadata": {
  "language_info": {
   "name": "python",
   "codemirror_mode": {
    "name": "ipython",
    "version": 3
   },
   "version": "3.7.7-final"
  },
  "orig_nbformat": 2,
  "file_extension": ".py",
  "mimetype": "text/x-python",
  "name": "python",
  "npconvert_exporter": "python",
  "pygments_lexer": "ipython3",
  "version": 3,
  "kernelspec": {
   "name": "python37464bitbaseconda283db1cc85e247fb8163a5e3375dfbda",
   "display_name": "Python 3.7.4 64-bit ('base': conda)"
  }
 },
 "nbformat": 4,
 "nbformat_minor": 2
}