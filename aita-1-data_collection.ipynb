{
 "nbformat": 4,
 "nbformat_minor": 2,
 "metadata": {
  "language_info": {
   "name": "python",
   "codemirror_mode": {
    "name": "ipython",
    "version": 3
   },
   "version": "3.7.6-final"
  },
  "orig_nbformat": 2,
  "file_extension": ".py",
  "mimetype": "text/x-python",
  "name": "python",
  "npconvert_exporter": "python",
  "pygments_lexer": "ipython3",
  "version": 3,
  "kernelspec": {
   "name": "python37464bitbaseconda283db1cc85e247fb8163a5e3375dfbda",
   "display_name": "Python 3.7.4 64-bit ('base': conda)"
  }
 },
 "cells": [
  {
   "cell_type": "markdown",
   "metadata": {},
   "source": [
    "https://github.com/pushshift/api"
   ]
  },
  {
   "cell_type": "code",
   "execution_count": 155,
   "metadata": {},
   "outputs": [],
   "source": [
    "import pandas as pd\n",
    "\n",
    "import praw\n",
    "import urllib.request\n",
    "import json\n",
    "\n",
    "from datetime import datetime\n",
    "import time\n",
    "\n",
    "\n",
    "reddit = praw.Reddit(\n",
    "    client_id=\"kRAJROlrIHaWMw\",\n",
    "    client_secret=\"f1EXDzFpTw1AryR_3urQ9O6I3AQ\",\n",
    "    user_agent=\"AITA_scrape\",\n",
    ")"
   ]
  },
  {
   "cell_type": "code",
   "execution_count": 4,
   "metadata": {},
   "outputs": [
    {
     "output_type": "stream",
     "name": "stdout",
     "text": "https://api.pushshift.io/reddit/search/submission/?subreddit=AmItheAsshole&sort_type=created_utc&sort=desc&size=1000&before=0s&after=63072000s&num_comments=>20&score=>50\nhttps://api.pushshift.io/reddit/search/submission/?subreddit=AmItheAsshole&sort_type=created_utc&sort=desc&size=1000&before=14092987s&after=63072000s&num_comments=>20&score=>50\nhttps://api.pushshift.io/reddit/search/submission/?subreddit=AmItheAsshole&sort_type=created_utc&sort=desc&size=1000&before=15121701s&after=63072000s&num_comments=>20&score=>50\nhttps://api.pushshift.io/reddit/search/submission/?subreddit=AmItheAsshole&sort_type=created_utc&sort=desc&size=1000&before=16132479s&after=63072000s&num_comments=>20&score=>50\nhttps://api.pushshift.io/reddit/search/submission/?subreddit=AmItheAsshole&sort_type=created_utc&sort=desc&size=1000&before=17184485s&after=63072000s&num_comments=>20&score=>50\nhttps://api.pushshift.io/reddit/search/submission/?subreddit=AmItheAsshole&sort_type=created_utc&sort=desc&size=1000&before=18183899s&after=63072000s&num_comments=>20&score=>50\nhttps://api.pushshift.io/reddit/search/submission/?subreddit=AmItheAsshole&sort_type=created_utc&sort=desc&size=1000&before=19143251s&after=63072000s&num_comments=>20&score=>50\nhttps://api.pushshift.io/reddit/search/submission/?subreddit=AmItheAsshole&sort_type=created_utc&sort=desc&size=1000&before=20054842s&after=63072000s&num_comments=>20&score=>50\nhttps://api.pushshift.io/reddit/search/submission/?subreddit=AmItheAsshole&sort_type=created_utc&sort=desc&size=1000&before=20981204s&after=63072000s&num_comments=>20&score=>50\nhttps://api.pushshift.io/reddit/search/submission/?subreddit=AmItheAsshole&sort_type=created_utc&sort=desc&size=1000&before=21873348s&after=63072000s&num_comments=>20&score=>50\nhttps://api.pushshift.io/reddit/search/submission/?subreddit=AmItheAsshole&sort_type=created_utc&sort=desc&size=1000&before=22773901s&after=63072000s&num_comments=>20&score=>50\nhttps://api.pushshift.io/reddit/search/submission/?subreddit=AmItheAsshole&sort_type=created_utc&sort=desc&size=1000&before=23725313s&after=63072000s&num_comments=>20&score=>50\nhttps://api.pushshift.io/reddit/search/submission/?subreddit=AmItheAsshole&sort_type=created_utc&sort=desc&size=1000&before=24836871s&after=63072000s&num_comments=>20&score=>50\nhttps://api.pushshift.io/reddit/search/submission/?subreddit=AmItheAsshole&sort_type=created_utc&sort=desc&size=1000&before=25990389s&after=63072000s&num_comments=>20&score=>50\nhttps://api.pushshift.io/reddit/search/submission/?subreddit=AmItheAsshole&sort_type=created_utc&sort=desc&size=1000&before=27093392s&after=63072000s&num_comments=>20&score=>50\nhttps://api.pushshift.io/reddit/search/submission/?subreddit=AmItheAsshole&sort_type=created_utc&sort=desc&size=1000&before=28244076s&after=63072000s&num_comments=>20&score=>50\nhttps://api.pushshift.io/reddit/search/submission/?subreddit=AmItheAsshole&sort_type=created_utc&sort=desc&size=1000&before=29512340s&after=63072000s&num_comments=>20&score=>50\nhttps://api.pushshift.io/reddit/search/submission/?subreddit=AmItheAsshole&sort_type=created_utc&sort=desc&size=1000&before=30744646s&after=63072000s&num_comments=>20&score=>50\nhttps://api.pushshift.io/reddit/search/submission/?subreddit=AmItheAsshole&sort_type=created_utc&sort=desc&size=1000&before=32032964s&after=63072000s&num_comments=>20&score=>50\nhttps://api.pushshift.io/reddit/search/submission/?subreddit=AmItheAsshole&sort_type=created_utc&sort=desc&size=1000&before=33383082s&after=63072000s&num_comments=>20&score=>50\nhttps://api.pushshift.io/reddit/search/submission/?subreddit=AmItheAsshole&sort_type=created_utc&sort=desc&size=1000&before=34992140s&after=63072000s&num_comments=>20&score=>50\nhttps://api.pushshift.io/reddit/search/submission/?subreddit=AmItheAsshole&sort_type=created_utc&sort=desc&size=1000&before=62514380s&after=63072000s&num_comments=>20&score=>50\n"
    },
    {
     "output_type": "execute_result",
     "data": {
      "text/plain": "21014"
     },
     "metadata": {},
     "execution_count": 4
    }
   ],
   "source": [
    "def return_pushshift_data(subreddit, early_before, late_after, min_comments, min_score):\n",
    "    link = (\n",
    "        \"https://api.pushshift.io/reddit/search/submission/?subreddit=%s&sort_type=created_utc&sort=desc&size=1000&before=%ss&after=%ss&num_comments=>%s&score=>%s\"\n",
    "        % (subreddit, early_before, late_after, min_comments, min_score)\n",
    "    )\n",
    "    print(link)\n",
    "    with urllib.request.urlopen(link) as url:\n",
    "        data = json.loads(url.read())\n",
    "    data = data[\"data\"]\n",
    "    return data\n",
    "\n",
    "\n",
    "def unix_to_date(unix):\n",
    "    str_time = time.strftime(\"%Y-%m-%d %H:%M:%S\", time.gmtime(unix))\n",
    "    date_time = datetime.strptime(str_time, \"%Y-%m-%d %H:%M:%S\")\n",
    "    return date_time\n",
    "\n",
    "\n",
    "def pushshift_reddit_search(subreddit, min_comments, min_score, years_ago):\n",
    "    early_before = 0\n",
    "    late_after = years_ago * 365 * 60 * 60 * 24\n",
    "    matches = 1000\n",
    "    posts = []\n",
    "    while matches >= 1000:\n",
    "        data = return_pushshift_data(\n",
    "            subreddit, early_before, late_after, min_comments, min_score\n",
    "        )\n",
    "        matches = len(data)\n",
    "\n",
    "        for match in range(0, matches):\n",
    "            posts.append(\n",
    "                [\n",
    "                    data[match][\"title\"],\n",
    "                    data[match][\"id\"],\n",
    "                    data[match][\"score\"],\n",
    "                    data[match][\"num_comments\"],\n",
    "                    data[match][\"selftext\"],\n",
    "                    unix_to_date(data[match][\"created_utc\"]),\n",
    "                ]\n",
    "            )\n",
    "\n",
    "        if matches == 1000:\n",
    "            unix_time = int(data[matches - 1][\"created_utc\"])\n",
    "            last_time = unix_to_date(unix_time)\n",
    "            now = unix_to_date(time.time())\n",
    "            early_before = int((now - last_time).total_seconds() + 60)\n",
    "\n",
    "    post_df = pd.DataFrame(\n",
    "        posts, columns=[\"title\", \"id\", \"score\", \"num_comments\", \"body\", \"date\"],\n",
    "    )\n",
    "\n",
    "    return post_df\n",
    "\n",
    "\n",
    "post_df = pushshift_reddit_search(\n",
    "    subreddit=\"AmItheAsshole\", min_comments=20, min_score=50, years_ago=2\n",
    ")\n",
    "\n",
    "len(post_df)"
   ]
  },
  {
   "cell_type": "code",
   "execution_count": 85,
   "metadata": {},
   "outputs": [
    {
     "output_type": "stream",
     "name": "stdout",
     "text": "[]\n"
    }
   ],
   "source": [
    "import collections\n",
    "\n",
    "print(\n",
    "    [\n",
    "        item\n",
    "        for item, count in collections.Counter(post_df[\"id\"].tolist()).items()\n",
    "        if count > 1\n",
    "    ]\n",
    ")"
   ]
  },
  {
   "cell_type": "code",
   "execution_count": 20,
   "metadata": {},
   "outputs": [
    {
     "output_type": "stream",
     "name": "stdout",
     "text": "Parsed: 2000 (0:56:52.039695)\nParsed: 4000 (0:56:01.669518)\nParsed: 6000 (0:55:54.824723)\nParsed: 8000 (0:59:37.410303)\nParsed: 10000 (0:56:49.584845)\nParsed: 12000 (0:53:02.799520)\nParsed: 14000 (0:51:45.980991)\nParsed: 16000 (0:52:14.788159)\nParsed: 18000 (0:48:33.263865)\nParsed: 20000 (0:46:06.515758)\n"
    }
   ],
   "source": [
    "def grab_flairs_from_subid(post_df):\n",
    "    flairs = []\n",
    "    count = 0\n",
    "    start = datetime.now()\n",
    "    id_list = list(post_df[\"id\"])\n",
    "\n",
    "    for n in range(0, len(id_list)):\n",
    "        post_id = id_list[n]\n",
    "        flair = reddit.submission(id=post_id).link_flair_text\n",
    "        flairs.append(flair)\n",
    "        count += 1\n",
    "        if count % 2000 == 0:\n",
    "            end = datetime.now()\n",
    "            time = end - start\n",
    "            print(\"Parsed: %s (%s)\" % (count, time))\n",
    "            start = datetime.now()\n",
    "\n",
    "    return flairs\n",
    "\n",
    "\n",
    "flair_list = grab_flairs_from_subid(post_df)"
   ]
  },
  {
   "cell_type": "code",
   "execution_count": 22,
   "metadata": {},
   "outputs": [
    {
     "output_type": "stream",
     "name": "stdout",
     "text": "21014\n"
    },
    {
     "output_type": "execute_result",
     "data": {
      "text/plain": "                                               title      id  score  \\\n0                AITA for picking up homeless girls?  fxhdfh     52   \n1  UPDATE: AITA for ignoring my brother and not c...  fvj4jw     78   \n2  Aita for throwing away my 33 year old boyfrien...  fshmat    145   \n3  AITA for letting my 12 year old daughter sleep...  fsghbo     84   \n4  AITA for leaving a girl's house after she fail...  fsflpf     64   \n\n   num_comments                                               body  \\\n0           163  I'm a second-year radiology resident in a city...   \n1           310   \\[Original post\\] ([https://www.reddit.com/r/...   \n2          1056  Yes I'm aware of how stupid and ridiculous thi...   \n3           102  Ok so since my daughter has been old enough to...   \n4            78                                          [removed]   \n\n                 date verdict  \n0 2020-04-08 23:30:21    None  \n1 2020-04-05 18:58:42  UPDATE  \n2 2020-03-31 17:53:13    None  \n3 2020-03-31 16:53:09    None  \n4 2020-03-31 16:06:11    None  ",
      "text/html": "<div>\n<style scoped>\n    .dataframe tbody tr th:only-of-type {\n        vertical-align: middle;\n    }\n\n    .dataframe tbody tr th {\n        vertical-align: top;\n    }\n\n    .dataframe thead th {\n        text-align: right;\n    }\n</style>\n<table border=\"1\" class=\"dataframe\">\n  <thead>\n    <tr style=\"text-align: right;\">\n      <th></th>\n      <th>title</th>\n      <th>id</th>\n      <th>score</th>\n      <th>num_comments</th>\n      <th>body</th>\n      <th>date</th>\n      <th>verdict</th>\n    </tr>\n  </thead>\n  <tbody>\n    <tr>\n      <th>0</th>\n      <td>AITA for picking up homeless girls?</td>\n      <td>fxhdfh</td>\n      <td>52</td>\n      <td>163</td>\n      <td>I'm a second-year radiology resident in a city...</td>\n      <td>2020-04-08 23:30:21</td>\n      <td>None</td>\n    </tr>\n    <tr>\n      <th>1</th>\n      <td>UPDATE: AITA for ignoring my brother and not c...</td>\n      <td>fvj4jw</td>\n      <td>78</td>\n      <td>310</td>\n      <td>\\[Original post\\] ([https://www.reddit.com/r/...</td>\n      <td>2020-04-05 18:58:42</td>\n      <td>UPDATE</td>\n    </tr>\n    <tr>\n      <th>2</th>\n      <td>Aita for throwing away my 33 year old boyfrien...</td>\n      <td>fshmat</td>\n      <td>145</td>\n      <td>1056</td>\n      <td>Yes I'm aware of how stupid and ridiculous thi...</td>\n      <td>2020-03-31 17:53:13</td>\n      <td>None</td>\n    </tr>\n    <tr>\n      <th>3</th>\n      <td>AITA for letting my 12 year old daughter sleep...</td>\n      <td>fsghbo</td>\n      <td>84</td>\n      <td>102</td>\n      <td>Ok so since my daughter has been old enough to...</td>\n      <td>2020-03-31 16:53:09</td>\n      <td>None</td>\n    </tr>\n    <tr>\n      <th>4</th>\n      <td>AITA for leaving a girl's house after she fail...</td>\n      <td>fsflpf</td>\n      <td>64</td>\n      <td>78</td>\n      <td>[removed]</td>\n      <td>2020-03-31 16:06:11</td>\n      <td>None</td>\n    </tr>\n  </tbody>\n</table>\n</div>"
     },
     "metadata": {},
     "execution_count": 22
    }
   ],
   "source": [
    "print(len(flair_list))\n",
    "post_df[\"verdict\"] = flair_list\n",
    "post_df.to_csv(\"data_raw/full_post_list.csv\")\n",
    "post_df.head()"
   ]
  }
 ]
}