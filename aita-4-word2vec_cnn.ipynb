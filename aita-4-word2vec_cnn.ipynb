{
 "cells": [
  {
   "cell_type": "code",
   "execution_count": 1,
   "metadata": {},
   "outputs": [
    {
     "output_type": "stream",
     "name": "stderr",
     "text": "C:\\ProgramData\\Anaconda3\\lib\\site-packages\\tqdm\\std.py:658: FutureWarning: The Panel class is removed from pandas. Accessing it from the top-level namespace will also be removed in the next version\n  from pandas import Panel\nunable to import 'smart_open.gcs', disabling that module\nUsing TensorFlow backend.\n"
    }
   ],
   "source": [
    "import pandas as pd\n",
    "import seaborn as sns\n",
    "import numpy as np\n",
    "import matplotlib.pyplot as plt\n",
    "import re\n",
    "from tqdm import tqdm\n",
    "tqdm.pandas(desc=\"progress-bar\")\n",
    "\n",
    "from sklearn import utils\n",
    "from sklearn.model_selection import train_test_split\n",
    "\n",
    "import nltk\n",
    "from nltk.corpus import stopwords\n",
    "\n",
    "from gensim.models import Word2Vec  \n",
    "from gensim.models.doc2vec import TaggedDocument\n",
    "from gensim.models import KeyedVectors\n",
    "\n",
    "import tensorflow as tf\n",
    "from keras.preprocessing.text import Tokenizer\n",
    "from keras.preprocessing.sequence import pad_sequences"
   ]
  },
  {
   "cell_type": "markdown",
   "metadata": {},
   "source": [
    "## Preprocess"
   ]
  },
  {
   "cell_type": "code",
   "execution_count": 2,
   "metadata": {},
   "outputs": [
    {
     "output_type": "stream",
     "name": "stdout",
     "text": "(16390, 4)\n"
    },
    {
     "output_type": "execute_result",
     "data": {
      "text/plain": "  target  binary_target                                              title  \\\n0    NTA              0          aita for calling my ex out on his fb post   \n1    NTA              0  aita for uninviting my brother from my wedding...   \n2    NTA              0  aita for finally poking back at my childfree s...   \n3    NTA              0  aita for refusing my mils offer of free childcare   \n4    NTA              0  aita mil tried to have my baby blessed without...   \n\n                                                body  \n0  so little baby j was born his dad had broken u...  \n1  hi everyone im using a throwaway and i just wa...  \n2  my wifes sister abby is childfree neither my w...  \n3  throwaway due to the specificity of the detail...  \n4  my mil and fil are first time grandparents who...  ",
      "text/html": "<div>\n<style scoped>\n    .dataframe tbody tr th:only-of-type {\n        vertical-align: middle;\n    }\n\n    .dataframe tbody tr th {\n        vertical-align: top;\n    }\n\n    .dataframe thead th {\n        text-align: right;\n    }\n</style>\n<table border=\"1\" class=\"dataframe\">\n  <thead>\n    <tr style=\"text-align: right;\">\n      <th></th>\n      <th>target</th>\n      <th>binary_target</th>\n      <th>title</th>\n      <th>body</th>\n    </tr>\n  </thead>\n  <tbody>\n    <tr>\n      <th>0</th>\n      <td>NTA</td>\n      <td>0</td>\n      <td>aita for calling my ex out on his fb post</td>\n      <td>so little baby j was born his dad had broken u...</td>\n    </tr>\n    <tr>\n      <th>1</th>\n      <td>NTA</td>\n      <td>0</td>\n      <td>aita for uninviting my brother from my wedding...</td>\n      <td>hi everyone im using a throwaway and i just wa...</td>\n    </tr>\n    <tr>\n      <th>2</th>\n      <td>NTA</td>\n      <td>0</td>\n      <td>aita for finally poking back at my childfree s...</td>\n      <td>my wifes sister abby is childfree neither my w...</td>\n    </tr>\n    <tr>\n      <th>3</th>\n      <td>NTA</td>\n      <td>0</td>\n      <td>aita for refusing my mils offer of free childcare</td>\n      <td>throwaway due to the specificity of the detail...</td>\n    </tr>\n    <tr>\n      <th>4</th>\n      <td>NTA</td>\n      <td>0</td>\n      <td>aita mil tried to have my baby blessed without...</td>\n      <td>my mil and fil are first time grandparents who...</td>\n    </tr>\n  </tbody>\n</table>\n</div>"
     },
     "metadata": {},
     "execution_count": 2
    }
   ],
   "source": [
    "aita_raw = pd.read_csv(\"data_output/aita_xy_processed.csv\", index_col=0)\n",
    "\n",
    "def pp_regularize_text(df, body_or_title):\n",
    "    stop_words = []\n",
    "    for word in list(stopwords.words('english')):\n",
    "        word = re.sub(r'[^A-Za-z ]+', '', word)\n",
    "        stop_words.append(word)\n",
    "\n",
    "    text_list = []\n",
    "    for text in df[body_or_title]:\n",
    "        text = text.lower()\n",
    "        text = text.replace('\\n', ' ').replace('\\r', '').replace('’', '\\'')\n",
    "        text = re.sub(r'[^A-Za-z ]+', '', text)\n",
    "        goodtext = text.encode('cp1252', 'ignore')\n",
    "        goodtext = goodtext.decode('utf-8', 'ignore')\n",
    "\n",
    "        token = nltk.word_tokenize(goodtext)\n",
    "        #token = [y for y in token if not y in stop_words]\n",
    "        final_text = (\" \").join(token)\n",
    "\n",
    "        text_list.append(final_text)\n",
    "    df[body_or_title] = text_list\n",
    "    return df\n",
    "\n",
    "aita_raw = pp_regularize_text(aita_raw, \"body\")\n",
    "aita_raw = pp_regularize_text(aita_raw, \"title\")\n",
    "print(aita_raw.shape)\n",
    "aita_raw.head()"
   ]
  },
  {
   "cell_type": "code",
   "execution_count": 3,
   "metadata": {},
   "outputs": [
    {
     "output_type": "stream",
     "name": "stdout",
     "text": "16390\n16390\n"
    }
   ],
   "source": [
    "x_body = list(aita_raw[\"body\"])\n",
    "print(len(x_body))\n",
    "y_target = list(aita_raw[\"binary_target\"])\n",
    "print(len(y_target))"
   ]
  },
  {
   "cell_type": "markdown",
   "metadata": {},
   "source": [
    "## Training Word2Vec"
   ]
  },
  {
   "cell_type": "code",
   "execution_count": 4,
   "metadata": {},
   "outputs": [],
   "source": [
    "def label_sentence(x, label):\n",
    "    labeled_list = []\n",
    "    for count in range(len(x)):\n",
    "        label_count = \"%s_%s\" % (label, count)\n",
    "        labeled_list.append(TaggedDocument(x[count].split(), label_count))\n",
    "    return labeled_list\n",
    "\n",
    "x_tagged = label_sentence(x_body, \"body\")"
   ]
  },
  {
   "cell_type": "code",
   "execution_count": 5,
   "metadata": {},
   "outputs": [
    {
     "output_type": "stream",
     "name": "stderr",
     "text": "100%|██████████| 16390/16390 [00:00<00:00, 1493961.59it/s]\n"
    }
   ],
   "source": [
    "w2v_cbow = Word2Vec(sg=0, size=100, negative=5, window=2, min_count=2)\n",
    "w2v_cbow.build_vocab([x.words for x in tqdm(x_tagged)])"
   ]
  },
  {
   "cell_type": "code",
   "execution_count": 6,
   "metadata": {},
   "outputs": [
    {
     "output_type": "stream",
     "name": "stderr",
     "text": "100%|██████████| 16390/16390 [00:00<00:00, 1494091.47it/s]\n100%|██████████| 16390/16390 [00:00<00:00, 1826274.97it/s]\n100%|██████████| 16390/16390 [00:00<00:00, 1826420.54it/s]\n100%|██████████| 16390/16390 [00:00<00:00, 1826469.06it/s]\n100%|██████████| 16390/16390 [00:00<00:00, 1826420.54it/s]\n100%|██████████| 16390/16390 [00:00<00:00, 657409.39it/s]\n100%|██████████| 16390/16390 [00:00<00:00, 1643429.18it/s]\n100%|██████████| 16390/16390 [00:00<00:00, 1369469.75it/s]\n100%|██████████| 16390/16390 [00:00<00:00, 1369469.75it/s]\n100%|██████████| 16390/16390 [00:00<00:00, 1369578.89it/s]\n100%|██████████| 16390/16390 [00:00<00:00, 1643507.76it/s]\n100%|██████████| 16390/16390 [00:00<00:00, 746802.27it/s]\n100%|██████████| 16390/16390 [00:00<00:00, 1264315.79it/s]\n100%|██████████| 16390/16390 [00:00<00:00, 782603.14it/s]\n100%|██████████| 16390/16390 [00:00<00:00, 1826517.59it/s]\n"
    }
   ],
   "source": [
    "for epoch in range(15):\n",
    "    w2v_cbow.train(utils.shuffle([x.words for x in tqdm(x_tagged)]), total_examples=len(x_tagged), epochs=1)\n",
    "    w2v_cbow.alpha -= 0.002\n",
    "    w2v_cbow.min_alpha = w2v_cbow.alpha"
   ]
  },
  {
   "cell_type": "code",
   "execution_count": 7,
   "metadata": {},
   "outputs": [],
   "source": [
    "w2v_cbow.save('data_output/w2v_cbow.word2vec')"
   ]
  },
  {
   "cell_type": "code",
   "execution_count": 8,
   "metadata": {},
   "outputs": [
    {
     "output_type": "stream",
     "name": "stderr",
     "text": "100%|██████████| 16390/16390 [00:00<00:00, 1095514.69it/s]\n"
    }
   ],
   "source": [
    "w2v_sg = Word2Vec(sg=0, size=100, negative=5, window=2, min_count=2)\n",
    "w2v_sg.build_vocab([x.words for x in tqdm(x_tagged)])"
   ]
  },
  {
   "cell_type": "code",
   "execution_count": 9,
   "metadata": {},
   "outputs": [
    {
     "output_type": "stream",
     "name": "stderr",
     "text": "100%|██████████| 16390/16390 [00:00<00:00, 1364928.87it/s]\n100%|██████████| 16390/16390 [00:00<00:00, 1563230.91it/s]\n100%|██████████| 16390/16390 [00:00<00:00, 1369606.17it/s]\n100%|██████████| 16390/16390 [00:00<00:00, 1095601.99it/s]\n100%|██████████| 16390/16390 [00:00<00:00, 1173737.69it/s]\n100%|██████████| 16390/16390 [00:00<00:00, 864897.43it/s]\n100%|██████████| 16390/16390 [00:00<00:00, 1643389.89it/s]\n100%|██████████| 16390/16390 [00:00<00:00, 1369469.75it/s]\n100%|██████████| 16390/16390 [00:00<00:00, 1825983.92it/s]\n100%|██████████| 16390/16390 [00:00<00:00, 684762.16it/s]\n100%|██████████| 16390/16390 [00:00<00:00, 684816.73it/s]\n100%|██████████| 16390/16390 [00:00<00:00, 1369851.80it/s]\n100%|██████████| 16390/16390 [00:00<00:00, 1369578.89it/s]\n100%|██████████| 16390/16390 [00:00<00:00, 469647.43it/s]\n100%|██████████| 16390/16390 [00:00<00:00, 1441519.90it/s]\n"
    }
   ],
   "source": [
    "for epoch in range(15):\n",
    "    w2v_sg.train(utils.shuffle([x.words for x in tqdm(x_tagged)]), total_examples=len(x_tagged), epochs=1)\n",
    "    w2v_sg.alpha -= 0.002\n",
    "    w2v_sg.min_alpha = w2v_sg.alpha"
   ]
  },
  {
   "cell_type": "code",
   "execution_count": 10,
   "metadata": {},
   "outputs": [],
   "source": [
    "w2v_sg.save('data_output/w2v_sg.word2vec')"
   ]
  },
  {
   "cell_type": "code",
   "execution_count": 11,
   "metadata": {},
   "outputs": [
    {
     "output_type": "stream",
     "name": "stderr",
     "text": "C:\\ProgramData\\Anaconda3\\lib\\site-packages\\ipykernel_launcher.py:1: DeprecationWarning: Call to deprecated `most_similar` (Method will be removed in 4.0.0, use self.wv.most_similar() instead).\n  \"\"\"Entry point for launching an IPython kernel.\n"
    },
    {
     "output_type": "execute_result",
     "data": {
      "text/plain": "[('bitch', 0.7999882698059082),\n ('hypocrite', 0.7760356664657593),\n ('dick', 0.7734907865524292),\n ('brat', 0.7628738880157471),\n ('dickhead', 0.7480695843696594),\n ('douche', 0.747770369052887),\n ('liar', 0.7174259424209595),\n ('creep', 0.7078348398208618),\n ('cunt', 0.701038658618927),\n ('prick', 0.6883631944656372)]"
     },
     "metadata": {},
     "execution_count": 11
    }
   ],
   "source": [
    "w2v_cbow.most_similar(\"jerk\")"
   ]
  },
  {
   "cell_type": "code",
   "execution_count": 12,
   "metadata": {},
   "outputs": [
    {
     "output_type": "stream",
     "name": "stderr",
     "text": "C:\\ProgramData\\Anaconda3\\lib\\site-packages\\ipykernel_launcher.py:1: DeprecationWarning: Call to deprecated `most_similar` (Method will be removed in 4.0.0, use self.wv.most_similar() instead).\n  \"\"\"Entry point for launching an IPython kernel.\n"
    },
    {
     "output_type": "execute_result",
     "data": {
      "text/plain": "[('hypocrite', 0.8088452816009521),\n ('bitch', 0.8079688549041748),\n ('dick', 0.7705961465835571),\n ('creep', 0.762449324131012),\n ('brat', 0.7470883131027222),\n ('dickhead', 0.7465746402740479),\n ('douche', 0.7392672300338745),\n ('prick', 0.7223894000053406),\n ('liar', 0.7180142402648926),\n ('cunt', 0.7178034782409668)]"
     },
     "metadata": {},
     "execution_count": 12
    }
   ],
   "source": [
    "w2v_sg.most_similar(\"jerk\")"
   ]
  },
  {
   "cell_type": "markdown",
   "metadata": {},
   "source": [
    "## Tokenization"
   ]
  },
  {
   "cell_type": "code",
   "execution_count": 13,
   "metadata": {},
   "outputs": [
    {
     "output_type": "stream",
     "name": "stdout",
     "text": "9219 4098\n"
    }
   ],
   "source": [
    "X_train, X_test, y_train, y_test = train_test_split(x_body, y_target, test_size=0.25, random_state=1)\n",
    "X_train, X_val, y_train, y_val = train_test_split(X_train, y_train, test_size=0.25, random_state=1)\n",
    "print(len(X_train), len(X_test))"
   ]
  },
  {
   "cell_type": "code",
   "execution_count": 14,
   "metadata": {},
   "outputs": [
    {
     "output_type": "execute_result",
     "data": {
      "text/plain": "<matplotlib.axes._subplots.AxesSubplot at 0x1bfa3296508>"
     },
     "metadata": {},
     "execution_count": 14
    },
    {
     "output_type": "display_data",
     "data": {
      "text/plain": "<Figure size 432x288 with 1 Axes>",
      "image/svg+xml": "<?xml version=\"1.0\" encoding=\"utf-8\" standalone=\"no\"?>\r\n<!DOCTYPE svg PUBLIC \"-//W3C//DTD SVG 1.1//EN\"\r\n  \"http://www.w3.org/Graphics/SVG/1.1/DTD/svg11.dtd\">\r\n<!-- Created with matplotlib (https://matplotlib.org/) -->\r\n<svg height=\"249.387174pt\" version=\"1.1\" viewBox=\"0 0 391.190625 249.387174\" width=\"391.190625pt\" xmlns=\"http://www.w3.org/2000/svg\" xmlns:xlink=\"http://www.w3.org/1999/xlink\">\r\n <defs>\r\n  <style type=\"text/css\">\r\n*{stroke-linecap:butt;stroke-linejoin:round;}\r\n  </style>\r\n </defs>\r\n <g id=\"figure_1\">\r\n  <g id=\"patch_1\">\r\n   <path d=\"M 0 249.387174 \r\nL 391.190625 249.387174 \r\nL 391.190625 0 \r\nL 0 0 \r\nz\r\n\" style=\"fill:none;\"/>\r\n  </g>\r\n  <g id=\"axes_1\">\r\n   <g id=\"patch_2\">\r\n    <path d=\"M 49.190625 225.509049 \r\nL 383.990625 225.509049 \r\nL 383.990625 8.069049 \r\nL 49.190625 8.069049 \r\nz\r\n\" style=\"fill:#ffffff;\"/>\r\n   </g>\r\n   <g id=\"patch_3\">\r\n    <path clip-path=\"url(#pcf899b1673)\" d=\"M 88.731606 225.509049 \r\nL 95.288479 225.509049 \r\nL 95.288479 224.755096 \r\nL 88.731606 224.755096 \r\nz\r\n\" style=\"fill:#1f77b4;opacity:0.4;\"/>\r\n   </g>\r\n   <g id=\"patch_4\">\r\n    <path clip-path=\"url(#pcf899b1673)\" d=\"M 95.288479 225.509049 \r\nL 101.845352 225.509049 \r\nL 101.845352 222.493237 \r\nL 95.288479 222.493237 \r\nz\r\n\" style=\"fill:#1f77b4;opacity:0.4;\"/>\r\n   </g>\r\n   <g id=\"patch_5\">\r\n    <path clip-path=\"url(#pcf899b1673)\" d=\"M 101.845352 225.509049 \r\nL 108.402225 225.509049 \r\nL 108.402225 218.723473 \r\nL 101.845352 218.723473 \r\nz\r\n\" style=\"fill:#1f77b4;opacity:0.4;\"/>\r\n   </g>\r\n   <g id=\"patch_6\">\r\n    <path clip-path=\"url(#pcf899b1673)\" d=\"M 108.402225 225.509049 \r\nL 114.959097 225.509049 \r\nL 114.959097 198.869382 \r\nL 108.402225 198.869382 \r\nz\r\n\" style=\"fill:#1f77b4;opacity:0.4;\"/>\r\n   </g>\r\n   <g id=\"patch_7\">\r\n    <path clip-path=\"url(#pcf899b1673)\" d=\"M 114.959097 225.509049 \r\nL 121.51597 225.509049 \r\nL 121.51597 175.245526 \r\nL 114.959097 175.245526 \r\nz\r\n\" style=\"fill:#1f77b4;opacity:0.4;\"/>\r\n   </g>\r\n   <g id=\"patch_8\">\r\n    <path clip-path=\"url(#pcf899b1673)\" d=\"M 121.51597 225.509049 \r\nL 128.072843 225.509049 \r\nL 128.072843 137.045248 \r\nL 121.51597 137.045248 \r\nz\r\n\" style=\"fill:#1f77b4;opacity:0.4;\"/>\r\n   </g>\r\n   <g id=\"patch_9\">\r\n    <path clip-path=\"url(#pcf899b1673)\" d=\"M 128.072843 225.509049 \r\nL 134.629716 225.509049 \r\nL 134.629716 114.175345 \r\nL 128.072843 114.175345 \r\nz\r\n\" style=\"fill:#1f77b4;opacity:0.4;\"/>\r\n   </g>\r\n   <g id=\"patch_10\">\r\n    <path clip-path=\"url(#pcf899b1673)\" d=\"M 134.629716 225.509049 \r\nL 141.186588 225.509049 \r\nL 141.186588 95.82916 \r\nL 134.629716 95.82916 \r\nz\r\n\" style=\"fill:#1f77b4;opacity:0.4;\"/>\r\n   </g>\r\n   <g id=\"patch_11\">\r\n    <path clip-path=\"url(#pcf899b1673)\" d=\"M 141.186588 225.509049 \r\nL 147.743461 225.509049 \r\nL 147.743461 81.755373 \r\nL 141.186588 81.755373 \r\nz\r\n\" style=\"fill:#1f77b4;opacity:0.4;\"/>\r\n   </g>\r\n   <g id=\"patch_12\">\r\n    <path clip-path=\"url(#pcf899b1673)\" d=\"M 147.743461 225.509049 \r\nL 154.300334 225.509049 \r\nL 154.300334 58.131517 \r\nL 147.743461 58.131517 \r\nz\r\n\" style=\"fill:#1f77b4;opacity:0.4;\"/>\r\n   </g>\r\n   <g id=\"patch_13\">\r\n    <path clip-path=\"url(#pcf899b1673)\" d=\"M 154.300334 225.509049 \r\nL 160.857207 225.509049 \r\nL 160.857207 45.063002 \r\nL 154.300334 45.063002 \r\nz\r\n\" style=\"fill:#1f77b4;opacity:0.4;\"/>\r\n   </g>\r\n   <g id=\"patch_14\">\r\n    <path clip-path=\"url(#pcf899b1673)\" d=\"M 160.857207 225.509049 \r\nL 167.414079 225.509049 \r\nL 167.414079 34.758979 \r\nL 160.857207 34.758979 \r\nz\r\n\" style=\"fill:#1f77b4;opacity:0.4;\"/>\r\n   </g>\r\n   <g id=\"patch_15\">\r\n    <path clip-path=\"url(#pcf899b1673)\" d=\"M 167.414079 225.509049 \r\nL 173.970952 225.509049 \r\nL 173.970952 43.555096 \r\nL 167.414079 43.555096 \r\nz\r\n\" style=\"fill:#1f77b4;opacity:0.4;\"/>\r\n   </g>\r\n   <g id=\"patch_16\">\r\n    <path clip-path=\"url(#pcf899b1673)\" d=\"M 173.970952 225.509049 \r\nL 180.527825 225.509049 \r\nL 180.527825 18.423334 \r\nL 173.970952 18.423334 \r\nz\r\n\" style=\"fill:#1f77b4;opacity:0.4;\"/>\r\n   </g>\r\n   <g id=\"patch_17\">\r\n    <path clip-path=\"url(#pcf899b1673)\" d=\"M 180.527825 225.509049 \r\nL 187.084698 225.509049 \r\nL 187.084698 53.356483 \r\nL 180.527825 53.356483 \r\nz\r\n\" style=\"fill:#1f77b4;opacity:0.4;\"/>\r\n   </g>\r\n   <g id=\"patch_18\">\r\n    <path clip-path=\"url(#pcf899b1673)\" d=\"M 187.084698 225.509049 \r\nL 193.64157 225.509049 \r\nL 193.64157 46.570907 \r\nL 187.084698 46.570907 \r\nz\r\n\" style=\"fill:#1f77b4;opacity:0.4;\"/>\r\n   </g>\r\n   <g id=\"patch_19\">\r\n    <path clip-path=\"url(#pcf899b1673)\" d=\"M 193.64157 225.509049 \r\nL 200.198443 225.509049 \r\nL 200.198443 32.497121 \r\nL 193.64157 32.497121 \r\nz\r\n\" style=\"fill:#1f77b4;opacity:0.4;\"/>\r\n   </g>\r\n   <g id=\"patch_20\">\r\n    <path clip-path=\"url(#pcf899b1673)\" d=\"M 200.198443 225.509049 \r\nL 206.755316 225.509049 \r\nL 206.755316 51.59726 \r\nL 200.198443 51.59726 \r\nz\r\n\" style=\"fill:#1f77b4;opacity:0.4;\"/>\r\n   </g>\r\n   <g id=\"patch_21\">\r\n    <path clip-path=\"url(#pcf899b1673)\" d=\"M 206.755316 225.509049 \r\nL 213.312189 225.509049 \r\nL 213.312189 62.403917 \r\nL 206.755316 62.403917 \r\nz\r\n\" style=\"fill:#1f77b4;opacity:0.4;\"/>\r\n   </g>\r\n   <g id=\"patch_22\">\r\n    <path clip-path=\"url(#pcf899b1673)\" d=\"M 213.312189 225.509049 \r\nL 219.869061 225.509049 \r\nL 219.869061 60.393376 \r\nL 213.312189 60.393376 \r\nz\r\n\" style=\"fill:#1f77b4;opacity:0.4;\"/>\r\n   </g>\r\n   <g id=\"patch_23\">\r\n    <path clip-path=\"url(#pcf899b1673)\" d=\"M 219.869061 225.509049 \r\nL 226.425934 225.509049 \r\nL 226.425934 83.011961 \r\nL 219.869061 83.011961 \r\nz\r\n\" style=\"fill:#1f77b4;opacity:0.4;\"/>\r\n   </g>\r\n   <g id=\"patch_24\">\r\n    <path clip-path=\"url(#pcf899b1673)\" d=\"M 226.425934 225.509049 \r\nL 232.982807 225.509049 \r\nL 232.982807 97.588383 \r\nL 226.425934 97.588383 \r\nz\r\n\" style=\"fill:#1f77b4;opacity:0.4;\"/>\r\n   </g>\r\n   <g id=\"patch_25\">\r\n    <path clip-path=\"url(#pcf899b1673)\" d=\"M 232.982807 225.509049 \r\nL 239.53968 225.509049 \r\nL 239.53968 100.101559 \r\nL 232.982807 100.101559 \r\nz\r\n\" style=\"fill:#1f77b4;opacity:0.4;\"/>\r\n   </g>\r\n   <g id=\"patch_26\">\r\n    <path clip-path=\"url(#pcf899b1673)\" d=\"M 239.53968 225.509049 \r\nL 246.096552 225.509049 \r\nL 246.096552 117.94511 \r\nL 239.53968 117.94511 \r\nz\r\n\" style=\"fill:#1f77b4;opacity:0.4;\"/>\r\n   </g>\r\n   <g id=\"patch_27\">\r\n    <path clip-path=\"url(#pcf899b1673)\" d=\"M 246.096552 225.509049 \r\nL 252.653425 225.509049 \r\nL 252.653425 120.709603 \r\nL 246.096552 120.709603 \r\nz\r\n\" style=\"fill:#1f77b4;opacity:0.4;\"/>\r\n   </g>\r\n   <g id=\"patch_28\">\r\n    <path clip-path=\"url(#pcf899b1673)\" d=\"M 252.653425 225.509049 \r\nL 259.210298 225.509049 \r\nL 259.210298 120.206968 \r\nL 252.653425 120.206968 \r\nz\r\n\" style=\"fill:#1f77b4;opacity:0.4;\"/>\r\n   </g>\r\n   <g id=\"patch_29\">\r\n    <path clip-path=\"url(#pcf899b1673)\" d=\"M 259.210298 225.509049 \r\nL 265.767171 225.509049 \r\nL 265.767171 129.50572 \r\nL 259.210298 129.50572 \r\nz\r\n\" style=\"fill:#1f77b4;opacity:0.4;\"/>\r\n   </g>\r\n   <g id=\"patch_30\">\r\n    <path clip-path=\"url(#pcf899b1673)\" d=\"M 265.767171 225.509049 \r\nL 272.324043 225.509049 \r\nL 272.324043 133.526802 \r\nL 265.767171 133.526802 \r\nz\r\n\" style=\"fill:#1f77b4;opacity:0.4;\"/>\r\n   </g>\r\n   <g id=\"patch_31\">\r\n    <path clip-path=\"url(#pcf899b1673)\" d=\"M 272.324043 225.509049 \r\nL 278.880916 225.509049 \r\nL 278.880916 140.563695 \r\nL 272.324043 140.563695 \r\nz\r\n\" style=\"fill:#1f77b4;opacity:0.4;\"/>\r\n   </g>\r\n   <g id=\"patch_32\">\r\n    <path clip-path=\"url(#pcf899b1673)\" d=\"M 278.880916 225.509049 \r\nL 285.437789 225.509049 \r\nL 285.437789 140.563695 \r\nL 278.880916 140.563695 \r\nz\r\n\" style=\"fill:#1f77b4;opacity:0.4;\"/>\r\n   </g>\r\n   <g id=\"patch_33\">\r\n    <path clip-path=\"url(#pcf899b1673)\" d=\"M 285.437789 225.509049 \r\nL 291.994662 225.509049 \r\nL 291.994662 87.786996 \r\nL 285.437789 87.786996 \r\nz\r\n\" style=\"fill:#1f77b4;opacity:0.4;\"/>\r\n   </g>\r\n   <g id=\"patch_34\">\r\n    <path clip-path=\"url(#pcf899b1673)\" d=\"M 291.994662 225.509049 \r\nL 298.551534 225.509049 \r\nL 298.551534 82.258008 \r\nL 291.994662 82.258008 \r\nz\r\n\" style=\"fill:#1f77b4;opacity:0.4;\"/>\r\n   </g>\r\n   <g id=\"patch_35\">\r\n    <path clip-path=\"url(#pcf899b1673)\" d=\"M 298.551534 225.509049 \r\nL 305.108407 225.509049 \r\nL 305.108407 95.577842 \r\nL 298.551534 95.577842 \r\nz\r\n\" style=\"fill:#1f77b4;opacity:0.4;\"/>\r\n   </g>\r\n   <g id=\"patch_36\">\r\n    <path clip-path=\"url(#pcf899b1673)\" d=\"M 305.108407 225.509049 \r\nL 311.66528 225.509049 \r\nL 311.66528 153.129576 \r\nL 305.108407 153.129576 \r\nz\r\n\" style=\"fill:#1f77b4;opacity:0.4;\"/>\r\n   </g>\r\n   <g id=\"patch_37\">\r\n    <path clip-path=\"url(#pcf899b1673)\" d=\"M 311.66528 225.509049 \r\nL 318.222153 225.509049 \r\nL 318.222153 203.393099 \r\nL 311.66528 203.393099 \r\nz\r\n\" style=\"fill:#1f77b4;opacity:0.4;\"/>\r\n   </g>\r\n   <g id=\"patch_38\">\r\n    <path clip-path=\"url(#pcf899b1673)\" d=\"M 318.222153 225.509049 \r\nL 324.779025 225.509049 \r\nL 324.779025 220.734014 \r\nL 318.222153 220.734014 \r\nz\r\n\" style=\"fill:#1f77b4;opacity:0.4;\"/>\r\n   </g>\r\n   <g id=\"patch_39\">\r\n    <path clip-path=\"url(#pcf899b1673)\" d=\"M 324.779025 225.509049 \r\nL 331.335898 225.509049 \r\nL 331.335898 224.252461 \r\nL 324.779025 224.252461 \r\nz\r\n\" style=\"fill:#1f77b4;opacity:0.4;\"/>\r\n   </g>\r\n   <g id=\"patch_40\">\r\n    <path clip-path=\"url(#pcf899b1673)\" d=\"M 331.335898 225.509049 \r\nL 337.892771 225.509049 \r\nL 337.892771 224.755096 \r\nL 331.335898 224.755096 \r\nz\r\n\" style=\"fill:#1f77b4;opacity:0.4;\"/>\r\n   </g>\r\n   <g id=\"patch_41\">\r\n    <path clip-path=\"url(#pcf899b1673)\" d=\"M 337.892771 225.509049 \r\nL 344.449644 225.509049 \r\nL 344.449644 224.503778 \r\nL 337.892771 224.503778 \r\nz\r\n\" style=\"fill:#1f77b4;opacity:0.4;\"/>\r\n   </g>\r\n   <g id=\"matplotlib.axis_1\">\r\n    <g id=\"xtick_1\">\r\n     <g id=\"line2d_1\">\r\n      <defs>\r\n       <path d=\"M 0 0 \r\nL 0 3.5 \r\n\" id=\"m46536e6b78\" style=\"stroke:#000000;stroke-width:0.8;\"/>\r\n      </defs>\r\n      <g>\r\n       <use style=\"stroke:#000000;stroke-width:0.8;\" x=\"50.203926\" xlink:href=\"#m46536e6b78\" y=\"225.509049\"/>\r\n      </g>\r\n     </g>\r\n     <g id=\"text_1\">\r\n      <!-- −100 -->\r\n      <defs>\r\n       <path d=\"M 10.59375 35.5 \r\nL 73.1875 35.5 \r\nL 73.1875 27.203125 \r\nL 10.59375 27.203125 \r\nz\r\n\" id=\"DejaVuSans-8722\"/>\r\n       <path d=\"M 12.40625 8.296875 \r\nL 28.515625 8.296875 \r\nL 28.515625 63.921875 \r\nL 10.984375 60.40625 \r\nL 10.984375 69.390625 \r\nL 28.421875 72.90625 \r\nL 38.28125 72.90625 \r\nL 38.28125 8.296875 \r\nL 54.390625 8.296875 \r\nL 54.390625 0 \r\nL 12.40625 0 \r\nz\r\n\" id=\"DejaVuSans-49\"/>\r\n       <path d=\"M 31.78125 66.40625 \r\nQ 24.171875 66.40625 20.328125 58.90625 \r\nQ 16.5 51.421875 16.5 36.375 \r\nQ 16.5 21.390625 20.328125 13.890625 \r\nQ 24.171875 6.390625 31.78125 6.390625 \r\nQ 39.453125 6.390625 43.28125 13.890625 \r\nQ 47.125 21.390625 47.125 36.375 \r\nQ 47.125 51.421875 43.28125 58.90625 \r\nQ 39.453125 66.40625 31.78125 66.40625 \r\nz\r\nM 31.78125 74.21875 \r\nQ 44.046875 74.21875 50.515625 64.515625 \r\nQ 56.984375 54.828125 56.984375 36.375 \r\nQ 56.984375 17.96875 50.515625 8.265625 \r\nQ 44.046875 -1.421875 31.78125 -1.421875 \r\nQ 19.53125 -1.421875 13.0625 8.265625 \r\nQ 6.59375 17.96875 6.59375 36.375 \r\nQ 6.59375 54.828125 13.0625 64.515625 \r\nQ 19.53125 74.21875 31.78125 74.21875 \r\nz\r\n\" id=\"DejaVuSans-48\"/>\r\n      </defs>\r\n      <g transform=\"translate(36.470332 240.107486)scale(0.1 -0.1)\">\r\n       <use xlink:href=\"#DejaVuSans-8722\"/>\r\n       <use x=\"83.789062\" xlink:href=\"#DejaVuSans-49\"/>\r\n       <use x=\"147.412109\" xlink:href=\"#DejaVuSans-48\"/>\r\n       <use x=\"211.035156\" xlink:href=\"#DejaVuSans-48\"/>\r\n      </g>\r\n     </g>\r\n    </g>\r\n    <g id=\"xtick_2\">\r\n     <g id=\"line2d_2\">\r\n      <g>\r\n       <use style=\"stroke:#000000;stroke-width:0.8;\" x=\"87.976162\" xlink:href=\"#m46536e6b78\" y=\"225.509049\"/>\r\n      </g>\r\n     </g>\r\n     <g id=\"text_2\">\r\n      <!-- 0 -->\r\n      <g transform=\"translate(84.794912 240.107486)scale(0.1 -0.1)\">\r\n       <use xlink:href=\"#DejaVuSans-48\"/>\r\n      </g>\r\n     </g>\r\n    </g>\r\n    <g id=\"xtick_3\">\r\n     <g id=\"line2d_3\">\r\n      <g>\r\n       <use style=\"stroke:#000000;stroke-width:0.8;\" x=\"125.748398\" xlink:href=\"#m46536e6b78\" y=\"225.509049\"/>\r\n      </g>\r\n     </g>\r\n     <g id=\"text_3\">\r\n      <!-- 100 -->\r\n      <g transform=\"translate(116.204648 240.107486)scale(0.1 -0.1)\">\r\n       <use xlink:href=\"#DejaVuSans-49\"/>\r\n       <use x=\"63.623047\" xlink:href=\"#DejaVuSans-48\"/>\r\n       <use x=\"127.246094\" xlink:href=\"#DejaVuSans-48\"/>\r\n      </g>\r\n     </g>\r\n    </g>\r\n    <g id=\"xtick_4\">\r\n     <g id=\"line2d_4\">\r\n      <g>\r\n       <use style=\"stroke:#000000;stroke-width:0.8;\" x=\"163.520633\" xlink:href=\"#m46536e6b78\" y=\"225.509049\"/>\r\n      </g>\r\n     </g>\r\n     <g id=\"text_4\">\r\n      <!-- 200 -->\r\n      <defs>\r\n       <path d=\"M 19.1875 8.296875 \r\nL 53.609375 8.296875 \r\nL 53.609375 0 \r\nL 7.328125 0 \r\nL 7.328125 8.296875 \r\nQ 12.9375 14.109375 22.625 23.890625 \r\nQ 32.328125 33.6875 34.8125 36.53125 \r\nQ 39.546875 41.84375 41.421875 45.53125 \r\nQ 43.3125 49.21875 43.3125 52.78125 \r\nQ 43.3125 58.59375 39.234375 62.25 \r\nQ 35.15625 65.921875 28.609375 65.921875 \r\nQ 23.96875 65.921875 18.8125 64.3125 \r\nQ 13.671875 62.703125 7.8125 59.421875 \r\nL 7.8125 69.390625 \r\nQ 13.765625 71.78125 18.9375 73 \r\nQ 24.125 74.21875 28.421875 74.21875 \r\nQ 39.75 74.21875 46.484375 68.546875 \r\nQ 53.21875 62.890625 53.21875 53.421875 \r\nQ 53.21875 48.921875 51.53125 44.890625 \r\nQ 49.859375 40.875 45.40625 35.40625 \r\nQ 44.1875 33.984375 37.640625 27.21875 \r\nQ 31.109375 20.453125 19.1875 8.296875 \r\nz\r\n\" id=\"DejaVuSans-50\"/>\r\n      </defs>\r\n      <g transform=\"translate(153.976883 240.107486)scale(0.1 -0.1)\">\r\n       <use xlink:href=\"#DejaVuSans-50\"/>\r\n       <use x=\"63.623047\" xlink:href=\"#DejaVuSans-48\"/>\r\n       <use x=\"127.246094\" xlink:href=\"#DejaVuSans-48\"/>\r\n      </g>\r\n     </g>\r\n    </g>\r\n    <g id=\"xtick_5\">\r\n     <g id=\"line2d_5\">\r\n      <g>\r\n       <use style=\"stroke:#000000;stroke-width:0.8;\" x=\"201.292869\" xlink:href=\"#m46536e6b78\" y=\"225.509049\"/>\r\n      </g>\r\n     </g>\r\n     <g id=\"text_5\">\r\n      <!-- 300 -->\r\n      <defs>\r\n       <path d=\"M 40.578125 39.3125 \r\nQ 47.65625 37.796875 51.625 33 \r\nQ 55.609375 28.21875 55.609375 21.1875 \r\nQ 55.609375 10.40625 48.1875 4.484375 \r\nQ 40.765625 -1.421875 27.09375 -1.421875 \r\nQ 22.515625 -1.421875 17.65625 -0.515625 \r\nQ 12.796875 0.390625 7.625 2.203125 \r\nL 7.625 11.71875 \r\nQ 11.71875 9.328125 16.59375 8.109375 \r\nQ 21.484375 6.890625 26.8125 6.890625 \r\nQ 36.078125 6.890625 40.9375 10.546875 \r\nQ 45.796875 14.203125 45.796875 21.1875 \r\nQ 45.796875 27.640625 41.28125 31.265625 \r\nQ 36.765625 34.90625 28.71875 34.90625 \r\nL 20.21875 34.90625 \r\nL 20.21875 43.015625 \r\nL 29.109375 43.015625 \r\nQ 36.375 43.015625 40.234375 45.921875 \r\nQ 44.09375 48.828125 44.09375 54.296875 \r\nQ 44.09375 59.90625 40.109375 62.90625 \r\nQ 36.140625 65.921875 28.71875 65.921875 \r\nQ 24.65625 65.921875 20.015625 65.03125 \r\nQ 15.375 64.15625 9.8125 62.3125 \r\nL 9.8125 71.09375 \r\nQ 15.4375 72.65625 20.34375 73.4375 \r\nQ 25.25 74.21875 29.59375 74.21875 \r\nQ 40.828125 74.21875 47.359375 69.109375 \r\nQ 53.90625 64.015625 53.90625 55.328125 \r\nQ 53.90625 49.265625 50.4375 45.09375 \r\nQ 46.96875 40.921875 40.578125 39.3125 \r\nz\r\n\" id=\"DejaVuSans-51\"/>\r\n      </defs>\r\n      <g transform=\"translate(191.749119 240.107486)scale(0.1 -0.1)\">\r\n       <use xlink:href=\"#DejaVuSans-51\"/>\r\n       <use x=\"63.623047\" xlink:href=\"#DejaVuSans-48\"/>\r\n       <use x=\"127.246094\" xlink:href=\"#DejaVuSans-48\"/>\r\n      </g>\r\n     </g>\r\n    </g>\r\n    <g id=\"xtick_6\">\r\n     <g id=\"line2d_6\">\r\n      <g>\r\n       <use style=\"stroke:#000000;stroke-width:0.8;\" x=\"239.065105\" xlink:href=\"#m46536e6b78\" y=\"225.509049\"/>\r\n      </g>\r\n     </g>\r\n     <g id=\"text_6\">\r\n      <!-- 400 -->\r\n      <defs>\r\n       <path d=\"M 37.796875 64.3125 \r\nL 12.890625 25.390625 \r\nL 37.796875 25.390625 \r\nz\r\nM 35.203125 72.90625 \r\nL 47.609375 72.90625 \r\nL 47.609375 25.390625 \r\nL 58.015625 25.390625 \r\nL 58.015625 17.1875 \r\nL 47.609375 17.1875 \r\nL 47.609375 0 \r\nL 37.796875 0 \r\nL 37.796875 17.1875 \r\nL 4.890625 17.1875 \r\nL 4.890625 26.703125 \r\nz\r\n\" id=\"DejaVuSans-52\"/>\r\n      </defs>\r\n      <g transform=\"translate(229.521355 240.107486)scale(0.1 -0.1)\">\r\n       <use xlink:href=\"#DejaVuSans-52\"/>\r\n       <use x=\"63.623047\" xlink:href=\"#DejaVuSans-48\"/>\r\n       <use x=\"127.246094\" xlink:href=\"#DejaVuSans-48\"/>\r\n      </g>\r\n     </g>\r\n    </g>\r\n    <g id=\"xtick_7\">\r\n     <g id=\"line2d_7\">\r\n      <g>\r\n       <use style=\"stroke:#000000;stroke-width:0.8;\" x=\"276.837341\" xlink:href=\"#m46536e6b78\" y=\"225.509049\"/>\r\n      </g>\r\n     </g>\r\n     <g id=\"text_7\">\r\n      <!-- 500 -->\r\n      <defs>\r\n       <path d=\"M 10.796875 72.90625 \r\nL 49.515625 72.90625 \r\nL 49.515625 64.59375 \r\nL 19.828125 64.59375 \r\nL 19.828125 46.734375 \r\nQ 21.96875 47.46875 24.109375 47.828125 \r\nQ 26.265625 48.1875 28.421875 48.1875 \r\nQ 40.625 48.1875 47.75 41.5 \r\nQ 54.890625 34.8125 54.890625 23.390625 \r\nQ 54.890625 11.625 47.5625 5.09375 \r\nQ 40.234375 -1.421875 26.90625 -1.421875 \r\nQ 22.3125 -1.421875 17.546875 -0.640625 \r\nQ 12.796875 0.140625 7.71875 1.703125 \r\nL 7.71875 11.625 \r\nQ 12.109375 9.234375 16.796875 8.0625 \r\nQ 21.484375 6.890625 26.703125 6.890625 \r\nQ 35.15625 6.890625 40.078125 11.328125 \r\nQ 45.015625 15.765625 45.015625 23.390625 \r\nQ 45.015625 31 40.078125 35.4375 \r\nQ 35.15625 39.890625 26.703125 39.890625 \r\nQ 22.75 39.890625 18.8125 39.015625 \r\nQ 14.890625 38.140625 10.796875 36.28125 \r\nz\r\n\" id=\"DejaVuSans-53\"/>\r\n      </defs>\r\n      <g transform=\"translate(267.293591 240.107486)scale(0.1 -0.1)\">\r\n       <use xlink:href=\"#DejaVuSans-53\"/>\r\n       <use x=\"63.623047\" xlink:href=\"#DejaVuSans-48\"/>\r\n       <use x=\"127.246094\" xlink:href=\"#DejaVuSans-48\"/>\r\n      </g>\r\n     </g>\r\n    </g>\r\n    <g id=\"xtick_8\">\r\n     <g id=\"line2d_8\">\r\n      <g>\r\n       <use style=\"stroke:#000000;stroke-width:0.8;\" x=\"314.609577\" xlink:href=\"#m46536e6b78\" y=\"225.509049\"/>\r\n      </g>\r\n     </g>\r\n     <g id=\"text_8\">\r\n      <!-- 600 -->\r\n      <defs>\r\n       <path d=\"M 33.015625 40.375 \r\nQ 26.375 40.375 22.484375 35.828125 \r\nQ 18.609375 31.296875 18.609375 23.390625 \r\nQ 18.609375 15.53125 22.484375 10.953125 \r\nQ 26.375 6.390625 33.015625 6.390625 \r\nQ 39.65625 6.390625 43.53125 10.953125 \r\nQ 47.40625 15.53125 47.40625 23.390625 \r\nQ 47.40625 31.296875 43.53125 35.828125 \r\nQ 39.65625 40.375 33.015625 40.375 \r\nz\r\nM 52.59375 71.296875 \r\nL 52.59375 62.3125 \r\nQ 48.875 64.0625 45.09375 64.984375 \r\nQ 41.3125 65.921875 37.59375 65.921875 \r\nQ 27.828125 65.921875 22.671875 59.328125 \r\nQ 17.53125 52.734375 16.796875 39.40625 \r\nQ 19.671875 43.65625 24.015625 45.921875 \r\nQ 28.375 48.1875 33.59375 48.1875 \r\nQ 44.578125 48.1875 50.953125 41.515625 \r\nQ 57.328125 34.859375 57.328125 23.390625 \r\nQ 57.328125 12.15625 50.6875 5.359375 \r\nQ 44.046875 -1.421875 33.015625 -1.421875 \r\nQ 20.359375 -1.421875 13.671875 8.265625 \r\nQ 6.984375 17.96875 6.984375 36.375 \r\nQ 6.984375 53.65625 15.1875 63.9375 \r\nQ 23.390625 74.21875 37.203125 74.21875 \r\nQ 40.921875 74.21875 44.703125 73.484375 \r\nQ 48.484375 72.75 52.59375 71.296875 \r\nz\r\n\" id=\"DejaVuSans-54\"/>\r\n      </defs>\r\n      <g transform=\"translate(305.065827 240.107486)scale(0.1 -0.1)\">\r\n       <use xlink:href=\"#DejaVuSans-54\"/>\r\n       <use x=\"63.623047\" xlink:href=\"#DejaVuSans-48\"/>\r\n       <use x=\"127.246094\" xlink:href=\"#DejaVuSans-48\"/>\r\n      </g>\r\n     </g>\r\n    </g>\r\n    <g id=\"xtick_9\">\r\n     <g id=\"line2d_9\">\r\n      <g>\r\n       <use style=\"stroke:#000000;stroke-width:0.8;\" x=\"352.381813\" xlink:href=\"#m46536e6b78\" y=\"225.509049\"/>\r\n      </g>\r\n     </g>\r\n     <g id=\"text_9\">\r\n      <!-- 700 -->\r\n      <defs>\r\n       <path d=\"M 8.203125 72.90625 \r\nL 55.078125 72.90625 \r\nL 55.078125 68.703125 \r\nL 28.609375 0 \r\nL 18.3125 0 \r\nL 43.21875 64.59375 \r\nL 8.203125 64.59375 \r\nz\r\n\" id=\"DejaVuSans-55\"/>\r\n      </defs>\r\n      <g transform=\"translate(342.838063 240.107486)scale(0.1 -0.1)\">\r\n       <use xlink:href=\"#DejaVuSans-55\"/>\r\n       <use x=\"63.623047\" xlink:href=\"#DejaVuSans-48\"/>\r\n       <use x=\"127.246094\" xlink:href=\"#DejaVuSans-48\"/>\r\n      </g>\r\n     </g>\r\n    </g>\r\n   </g>\r\n   <g id=\"matplotlib.axis_2\">\r\n    <g id=\"ytick_1\">\r\n     <g id=\"line2d_10\">\r\n      <defs>\r\n       <path d=\"M 0 0 \r\nL -3.5 0 \r\n\" id=\"m9288b05714\" style=\"stroke:#000000;stroke-width:0.8;\"/>\r\n      </defs>\r\n      <g>\r\n       <use style=\"stroke:#000000;stroke-width:0.8;\" x=\"49.190625\" xlink:href=\"#m9288b05714\" y=\"225.509049\"/>\r\n      </g>\r\n     </g>\r\n     <g id=\"text_10\">\r\n      <!-- 0.0000 -->\r\n      <defs>\r\n       <path d=\"M 10.6875 12.40625 \r\nL 21 12.40625 \r\nL 21 0 \r\nL 10.6875 0 \r\nz\r\n\" id=\"DejaVuSans-46\"/>\r\n      </defs>\r\n      <g transform=\"translate(7.2 229.308267)scale(0.1 -0.1)\">\r\n       <use xlink:href=\"#DejaVuSans-48\"/>\r\n       <use x=\"63.623047\" xlink:href=\"#DejaVuSans-46\"/>\r\n       <use x=\"95.410156\" xlink:href=\"#DejaVuSans-48\"/>\r\n       <use x=\"159.033203\" xlink:href=\"#DejaVuSans-48\"/>\r\n       <use x=\"222.65625\" xlink:href=\"#DejaVuSans-48\"/>\r\n       <use x=\"286.279297\" xlink:href=\"#DejaVuSans-48\"/>\r\n      </g>\r\n     </g>\r\n    </g>\r\n    <g id=\"ytick_2\">\r\n     <g id=\"line2d_11\">\r\n      <g>\r\n       <use style=\"stroke:#000000;stroke-width:0.8;\" x=\"49.190625\" xlink:href=\"#m9288b05714\" y=\"189.75741\"/>\r\n      </g>\r\n     </g>\r\n     <g id=\"text_11\">\r\n      <!-- 0.0005 -->\r\n      <g transform=\"translate(7.2 193.556629)scale(0.1 -0.1)\">\r\n       <use xlink:href=\"#DejaVuSans-48\"/>\r\n       <use x=\"63.623047\" xlink:href=\"#DejaVuSans-46\"/>\r\n       <use x=\"95.410156\" xlink:href=\"#DejaVuSans-48\"/>\r\n       <use x=\"159.033203\" xlink:href=\"#DejaVuSans-48\"/>\r\n       <use x=\"222.65625\" xlink:href=\"#DejaVuSans-48\"/>\r\n       <use x=\"286.279297\" xlink:href=\"#DejaVuSans-53\"/>\r\n      </g>\r\n     </g>\r\n    </g>\r\n    <g id=\"ytick_3\">\r\n     <g id=\"line2d_12\">\r\n      <g>\r\n       <use style=\"stroke:#000000;stroke-width:0.8;\" x=\"49.190625\" xlink:href=\"#m9288b05714\" y=\"154.005772\"/>\r\n      </g>\r\n     </g>\r\n     <g id=\"text_12\">\r\n      <!-- 0.0010 -->\r\n      <g transform=\"translate(7.2 157.804991)scale(0.1 -0.1)\">\r\n       <use xlink:href=\"#DejaVuSans-48\"/>\r\n       <use x=\"63.623047\" xlink:href=\"#DejaVuSans-46\"/>\r\n       <use x=\"95.410156\" xlink:href=\"#DejaVuSans-48\"/>\r\n       <use x=\"159.033203\" xlink:href=\"#DejaVuSans-48\"/>\r\n       <use x=\"222.65625\" xlink:href=\"#DejaVuSans-49\"/>\r\n       <use x=\"286.279297\" xlink:href=\"#DejaVuSans-48\"/>\r\n      </g>\r\n     </g>\r\n    </g>\r\n    <g id=\"ytick_4\">\r\n     <g id=\"line2d_13\">\r\n      <g>\r\n       <use style=\"stroke:#000000;stroke-width:0.8;\" x=\"49.190625\" xlink:href=\"#m9288b05714\" y=\"118.254134\"/>\r\n      </g>\r\n     </g>\r\n     <g id=\"text_13\">\r\n      <!-- 0.0015 -->\r\n      <g transform=\"translate(7.2 122.053352)scale(0.1 -0.1)\">\r\n       <use xlink:href=\"#DejaVuSans-48\"/>\r\n       <use x=\"63.623047\" xlink:href=\"#DejaVuSans-46\"/>\r\n       <use x=\"95.410156\" xlink:href=\"#DejaVuSans-48\"/>\r\n       <use x=\"159.033203\" xlink:href=\"#DejaVuSans-48\"/>\r\n       <use x=\"222.65625\" xlink:href=\"#DejaVuSans-49\"/>\r\n       <use x=\"286.279297\" xlink:href=\"#DejaVuSans-53\"/>\r\n      </g>\r\n     </g>\r\n    </g>\r\n    <g id=\"ytick_5\">\r\n     <g id=\"line2d_14\">\r\n      <g>\r\n       <use style=\"stroke:#000000;stroke-width:0.8;\" x=\"49.190625\" xlink:href=\"#m9288b05714\" y=\"82.502495\"/>\r\n      </g>\r\n     </g>\r\n     <g id=\"text_14\">\r\n      <!-- 0.0020 -->\r\n      <g transform=\"translate(7.2 86.301714)scale(0.1 -0.1)\">\r\n       <use xlink:href=\"#DejaVuSans-48\"/>\r\n       <use x=\"63.623047\" xlink:href=\"#DejaVuSans-46\"/>\r\n       <use x=\"95.410156\" xlink:href=\"#DejaVuSans-48\"/>\r\n       <use x=\"159.033203\" xlink:href=\"#DejaVuSans-48\"/>\r\n       <use x=\"222.65625\" xlink:href=\"#DejaVuSans-50\"/>\r\n       <use x=\"286.279297\" xlink:href=\"#DejaVuSans-48\"/>\r\n      </g>\r\n     </g>\r\n    </g>\r\n    <g id=\"ytick_6\">\r\n     <g id=\"line2d_15\">\r\n      <g>\r\n       <use style=\"stroke:#000000;stroke-width:0.8;\" x=\"49.190625\" xlink:href=\"#m9288b05714\" y=\"46.750857\"/>\r\n      </g>\r\n     </g>\r\n     <g id=\"text_15\">\r\n      <!-- 0.0025 -->\r\n      <g transform=\"translate(7.2 50.550076)scale(0.1 -0.1)\">\r\n       <use xlink:href=\"#DejaVuSans-48\"/>\r\n       <use x=\"63.623047\" xlink:href=\"#DejaVuSans-46\"/>\r\n       <use x=\"95.410156\" xlink:href=\"#DejaVuSans-48\"/>\r\n       <use x=\"159.033203\" xlink:href=\"#DejaVuSans-48\"/>\r\n       <use x=\"222.65625\" xlink:href=\"#DejaVuSans-50\"/>\r\n       <use x=\"286.279297\" xlink:href=\"#DejaVuSans-53\"/>\r\n      </g>\r\n     </g>\r\n    </g>\r\n    <g id=\"ytick_7\">\r\n     <g id=\"line2d_16\">\r\n      <g>\r\n       <use style=\"stroke:#000000;stroke-width:0.8;\" x=\"49.190625\" xlink:href=\"#m9288b05714\" y=\"10.999219\"/>\r\n      </g>\r\n     </g>\r\n     <g id=\"text_16\">\r\n      <!-- 0.0030 -->\r\n      <g transform=\"translate(7.2 14.798437)scale(0.1 -0.1)\">\r\n       <use xlink:href=\"#DejaVuSans-48\"/>\r\n       <use x=\"63.623047\" xlink:href=\"#DejaVuSans-46\"/>\r\n       <use x=\"95.410156\" xlink:href=\"#DejaVuSans-48\"/>\r\n       <use x=\"159.033203\" xlink:href=\"#DejaVuSans-48\"/>\r\n       <use x=\"222.65625\" xlink:href=\"#DejaVuSans-51\"/>\r\n       <use x=\"286.279297\" xlink:href=\"#DejaVuSans-48\"/>\r\n      </g>\r\n     </g>\r\n    </g>\r\n   </g>\r\n   <g id=\"line2d_17\">\r\n    <path clip-path=\"url(#pcf899b1673)\" d=\"M 64.408807 225.505754 \r\nL 76.391627 225.407275 \r\nL 81.184755 225.221822 \r\nL 85.977883 224.81667 \r\nL 88.374447 224.464992 \r\nL 90.771012 223.942788 \r\nL 93.167576 223.15964 \r\nL 95.56414 221.989728 \r\nL 97.960704 220.276987 \r\nL 100.357268 217.851735 \r\nL 102.753832 214.556339 \r\nL 105.150396 210.272478 \r\nL 107.54696 204.94083 \r\nL 109.943524 198.567336 \r\nL 112.340088 191.217165 \r\nL 114.736652 183.003651 \r\nL 117.133216 174.080208 \r\nL 121.926344 154.902707 \r\nL 126.719473 135.555233 \r\nL 129.116037 126.400786 \r\nL 131.512601 117.793066 \r\nL 133.909165 109.762051 \r\nL 136.305729 102.242313 \r\nL 141.098857 88.234456 \r\nL 145.891985 75.041694 \r\nL 148.288549 68.819843 \r\nL 150.685113 63.009238 \r\nL 153.081677 57.738173 \r\nL 155.478241 53.093066 \r\nL 157.874805 49.104301 \r\nL 160.271369 45.755974 \r\nL 162.667934 43.00964 \r\nL 165.064498 40.829527 \r\nL 167.461062 39.19925 \r\nL 169.857626 38.123876 \r\nL 172.25419 37.615049 \r\nL 174.650754 37.66217 \r\nL 177.047318 38.200316 \r\nL 179.443882 39.092292 \r\nL 184.23701 41.13651 \r\nL 186.633574 41.921447 \r\nL 189.030138 42.449188 \r\nL 193.823266 43.184818 \r\nL 196.21983 43.827698 \r\nL 198.616395 44.94794 \r\nL 201.012959 46.67351 \r\nL 203.409523 49.023908 \r\nL 205.806087 51.927608 \r\nL 208.202651 55.26672 \r\nL 210.599215 58.924983 \r\nL 215.392343 66.889366 \r\nL 220.185471 75.422107 \r\nL 229.771727 92.717474 \r\nL 234.564855 100.801869 \r\nL 236.96142 104.551825 \r\nL 239.357984 108.025894 \r\nL 241.754548 111.171534 \r\nL 244.151112 113.967143 \r\nL 246.547676 116.435709 \r\nL 248.94424 118.642642 \r\nL 253.737368 122.620511 \r\nL 260.92706 128.254147 \r\nL 263.323624 129.994806 \r\nL 265.720188 131.546494 \r\nL 268.116752 132.77013 \r\nL 270.513316 133.463032 \r\nL 272.909881 133.364602 \r\nL 275.306445 132.196303 \r\nL 277.703009 129.736876 \r\nL 280.099573 125.916558 \r\nL 282.496137 120.900668 \r\nL 287.289265 109.297532 \r\nL 289.685829 104.258789 \r\nL 292.082393 100.902575 \r\nL 294.478957 100.009756 \r\nL 296.875521 102.131071 \r\nL 299.272085 107.499384 \r\nL 301.668649 115.984673 \r\nL 304.065213 127.099099 \r\nL 306.461777 140.059368 \r\nL 311.254906 167.650212 \r\nL 313.65147 180.439428 \r\nL 316.048034 191.655095 \r\nL 318.444598 200.965326 \r\nL 320.841162 208.305 \r\nL 323.237726 213.813431 \r\nL 325.63429 217.755795 \r\nL 328.030854 220.450413 \r\nL 330.427418 222.213483 \r\nL 332.823982 223.323922 \r\nL 335.220546 224.005957 \r\nL 337.61711 224.425293 \r\nL 342.410238 224.882464 \r\nL 349.599931 225.247226 \r\nL 359.186187 225.468469 \r\nL 368.772443 225.506076 \r\nL 368.772443 225.506076 \r\n\" style=\"fill:none;stroke:#1f77b4;stroke-linecap:square;stroke-width:1.5;\"/>\r\n   </g>\r\n   <g id=\"patch_42\">\r\n    <path d=\"M 49.190625 225.509049 \r\nL 49.190625 8.069049 \r\n\" style=\"fill:none;stroke:#000000;stroke-linecap:square;stroke-linejoin:miter;stroke-width:0.8;\"/>\r\n   </g>\r\n   <g id=\"patch_43\">\r\n    <path d=\"M 383.990625 225.509049 \r\nL 383.990625 8.069049 \r\n\" style=\"fill:none;stroke:#000000;stroke-linecap:square;stroke-linejoin:miter;stroke-width:0.8;\"/>\r\n   </g>\r\n   <g id=\"patch_44\">\r\n    <path d=\"M 49.190625 225.509049 \r\nL 383.990625 225.509049 \r\n\" style=\"fill:none;stroke:#000000;stroke-linecap:square;stroke-linejoin:miter;stroke-width:0.8;\"/>\r\n   </g>\r\n   <g id=\"patch_45\">\r\n    <path d=\"M 49.190625 8.069049 \r\nL 383.990625 8.069049 \r\n\" style=\"fill:none;stroke:#000000;stroke-linecap:square;stroke-linejoin:miter;stroke-width:0.8;\"/>\r\n   </g>\r\n  </g>\r\n </g>\r\n <defs>\r\n  <clipPath id=\"pcf899b1673\">\r\n   <rect height=\"217.44\" width=\"334.8\" x=\"49.190625\" y=\"8.069049\"/>\r\n  </clipPath>\r\n </defs>\r\n</svg>\r\n",
      "image/png": "[encoded data removed]"
     },
     "metadata": {
      "needs_background": "light"
     }
    }
   ],
   "source": [
    "length = []\n",
    "for x in x_body:\n",
    "    length.append(len(x.split()))\n",
    "sns.distplot(length)"
   ]
  },
  {
   "cell_type": "code",
   "execution_count": 15,
   "metadata": {},
   "outputs": [],
   "source": [
    "def tokenize(df, body_or_title):\n",
    "    tokenizer = Tokenizer(num_words=100000)\n",
    "    tokenizer.fit_on_texts(df[body_or_title])\n",
    "    return tokenizer\n",
    "\n",
    "def pp_token_sequence_pad(list_docs, tokenizer):\n",
    "    seq = tokenizer.texts_to_sequences(list_docs)\n",
    "    seq = pad_sequences(seq, maxlen=600)\n",
    "    return seq"
   ]
  },
  {
   "cell_type": "code",
   "execution_count": 16,
   "metadata": {},
   "outputs": [],
   "source": [
    "tokenizer = tokenize(aita_raw, \"body\")\n",
    "seq_train = pp_token_sequence_pad(X_train, tokenizer)\n",
    "seq_test = pp_token_sequence_pad(X_test, tokenizer)"
   ]
  },
  {
   "cell_type": "code",
   "execution_count": 17,
   "metadata": {},
   "outputs": [
    {
     "output_type": "execute_result",
     "data": {
      "text/plain": "'some backstory my father isnt a part of my life at all he divorced my mom when i was but even then i was indifferent i was indignant for a while because it was particularly hard on my mom but it didnt affect me personally that much because he was largely absent to begin with one further step removed didnt change my life were cordial but dont see each other i have seen my father once in the last ten years and literally only for ten minutes in passing wasnt planned he lives on the other side of the country i had a son two years ago i never told him because hes not involved in my life last week the wife and i had our wedding anniversary and my cousin babysat for us i learned after the fact my father was in the area and my cousin brought my son to him for a visit they planned this in advance apparently and my father didnt come to me directly because he thought id say no and i would have you cant forge a relationship with your grandson if you failed to with your son i never would have found out this meeting transpired if i didnt see him in a facebook post my cousin made with photo i blew up at my cousin and told her shes not to be involved in our lives anymore aita for parting ways with my cousin over her actions'"
     },
     "metadata": {},
     "execution_count": 17
    }
   ],
   "source": [
    "X_test[4]"
   ]
  },
  {
   "cell_type": "code",
   "execution_count": 18,
   "metadata": {},
   "outputs": [
    {
     "output_type": "execute_result",
     "data": {
      "text/plain": "array([    0,     0,     0,     0,     0,     0,     0,     0,     0,\n           0,     0,     0,     0,     0,     0,     0,     0,     0,\n           0,     0,     0,     0,     0,     0,     0,     0,     0,\n           0,     0,     0,     0,     0,     0,     0,     0,     0,\n           0,     0,     0,     0,     0,     0,     0,     0,     0,\n           0,     0,     0,     0,     0,     0,     0,     0,     0,\n           0,     0,     0,     0,     0,     0,     0,     0,     0,\n           0,     0,     0,     0,     0,     0,     0,     0,     0,\n           0,     0,     0,     0,     0,     0,     0,     0,     0,\n           0,     0,     0,     0,     0,     0,     0,     0,     0,\n           0,     0,     0,     0,     0,     0,     0,     0,     0,\n           0,     0,     0,     0,     0,     0,     0,     0,     0,\n           0,     0,     0,     0,     0,     0,     0,     0,     0,\n           0,     0,     0,     0,     0,     0,     0,     0,     0,\n           0,     0,     0,     0,     0,     0,     0,     0,     0,\n           0,     0,     0,     0,     0,     0,     0,     0,     0,\n           0,     0,     0,     0,     0,     0,     0,     0,     0,\n           0,     0,     0,     0,     0,     0,     0,     0,     0,\n           0,     0,     0,     0,     0,     0,     0,     0,     0,\n           0,     0,     0,     0,     0,     0,     0,     0,     0,\n           0,     0,     0,     0,     0,     0,     0,     0,     0,\n           0,     0,     0,     0,     0,     0,     0,     0,     0,\n           0,     0,     0,     0,     0,     0,     0,     0,     0,\n           0,     0,     0,     0,     0,     0,     0,     0,     0,\n           0,     0,     0,     0,     0,     0,     0,     0,     0,\n           0,     0,     0,     0,     0,     0,     0,     0,     0,\n           0,     0,     0,     0,     0,     0,     0,     0,     0,\n           0,     0,     0,     0,     0,     0,     0,     0,     0,\n           0,     0,     0,     0,     0,     0,     0,     0,     0,\n           0,     0,     0,     0,     0,     0,     0,     0,     0,\n           0,     0,     0,     0,     0,     0,     0,     0,     0,\n           0,     0,     0,     0,     0,     0,     0,     0,     0,\n           0,     0,     0,     0,     0,     0,     0,     0,     0,\n           0,     0,     0,     0,     0,     0,     0,     0,     0,\n           0,     0,     0,     0,     0,     0,     0,     0,     0,\n           0,     0,     0,     0,     0,     0,     0,     0,     0,\n           0,     0,     0,     0,     0,     0,     0,     0,     0,\n           0,     0,     0,     0,     0,     0,     0,     0,     0,\n           0,     0,     0,     0,     0,     0,     0,     0,     0,\n           0,     0,     0,    77,  1038,     6,   317,   280,     5,\n         298,     9,     6,   195,    26,    46,    16,  1008,     6,\n         111,    41,     1,    12,    18,    82,    75,     1,    12,\n        6661,     1,    12, 11553,    14,     5,   120,    40,    11,\n          12,  1487,   336,    24,     6,   111,    18,    11,    62,\n        2257,    13,   925,     7,   128,    40,    16,    12,  4685,\n        5503,     3,  1591,    17,    61,  1123,   831,  1918,    62,\n         422,     6,   195,    57,  5882,    18,    44,   132,   263,\n          79,     1,    23,   500,     6,   317,   296,    15,     4,\n         143,  1544,    97,     2,   474,   106,    14,  1544,   316,\n          15,  1919,   159,   714,    16,   471,    24,     4,    79,\n         364,     9,     4,   594,     1,    38,     5,   205,   147,\n          97,   149,     1,   102,    43,    27,    40,   121,    25,\n         728,    15,     6,   195,   143,   170,     4,   134,     2,\n           1,    38,    54,   211,  2202,     2,     6,   582,  5361,\n          14,    87,     1,  1285,    76,     4,   435,     6,   317,\n          12,    15,     4,   604,     2,     6,   582,   425,     6,\n         205,     3,    27,    14,     5,   496,    33,   714,    21,\n          15,  1635,   511,     2,     6,   317,    62,   162,     3,\n          13,  1159,    40,    16,   178,   231,   139,    70,     2,\n           1,    45,    23,    60,   150, 18387,     5,   229,    17,\n         227,  3644,    34,    60,  1971,     3,    17,   227,   205,\n           1,   102,    45,    23,   271,    32,    21,   811,  8696,\n          34,     1,    62,   132,    27,    15,     5,   700,   503,\n           6,   582,   151,    17,  1647,     1,  1518,    35,    26,\n           6,   582,     2,    43,    10,    88,    25,     3,    29,\n         728,    15,    54,   471,   403,   109,    14, 16441,  1243,\n          17,     6,   582,    84,    10,  1502])"
     },
     "metadata": {},
     "execution_count": 18
    }
   ],
   "source": [
    "seq_test[4]"
   ]
  },
  {
   "cell_type": "markdown",
   "metadata": {},
   "source": [
    "## W2V Dictonary to Docs"
   ]
  },
  {
   "cell_type": "code",
   "execution_count": 19,
   "metadata": {},
   "outputs": [],
   "source": [
    "w2v_cbow = KeyedVectors.load('data_output/w2v_cbow.word2vec')\n",
    "w2v_sg = KeyedVectors.load('data_output/w2v_sg.word2vec')"
   ]
  },
  {
   "cell_type": "code",
   "execution_count": 20,
   "metadata": {},
   "outputs": [
    {
     "output_type": "stream",
     "name": "stdout",
     "text": "25284\n25284\n"
    }
   ],
   "source": [
    "print(len(w2v_cbow.wv.vocab.keys()))\n",
    "print(len(w2v_sg.wv.vocab.keys()))"
   ]
  },
  {
   "cell_type": "code",
   "execution_count": 21,
   "metadata": {},
   "outputs": [
    {
     "output_type": "stream",
     "name": "stdout",
     "text": "25284\n"
    }
   ],
   "source": [
    "w2v_dict = {}\n",
    "for w in w2v_cbow.wv.vocab.keys():\n",
    "    w2v_dict[w] = np.append(w2v_cbow.wv[w],w2v_sg.wv[w])\n",
    "print(len(w2v_dict))"
   ]
  },
  {
   "cell_type": "code",
   "execution_count": 22,
   "metadata": {},
   "outputs": [
    {
     "output_type": "execute_result",
     "data": {
      "text/plain": "(100000, 200)"
     },
     "metadata": {},
     "execution_count": 22
    }
   ],
   "source": [
    "num_words = 100000\n",
    "embedding_matrix = np.zeros((num_words, 200))\n",
    "for word, i in tokenizer.word_index.items():\n",
    "    if i >= num_words:\n",
    "        continue\n",
    "    embedding_vector = w2v_dict.get(word)\n",
    "    if embedding_vector is not None:\n",
    "        embedding_matrix[i] = embedding_vector\n",
    "embedding_matrix.shape"
   ]
  },
  {
   "cell_type": "code",
   "execution_count": 23,
   "metadata": {},
   "outputs": [
    {
     "output_type": "execute_result",
     "data": {
      "text/plain": "True"
     },
     "metadata": {},
     "execution_count": 23
    }
   ],
   "source": [
    "np.array_equal(embedding_matrix[1502] ,w2v_dict.get('actions'))"
   ]
  },
  {
   "cell_type": "markdown",
   "metadata": {},
   "source": [
    "## CNN"
   ]
  },
  {
   "cell_type": "code",
   "execution_count": 24,
   "metadata": {},
   "outputs": [],
   "source": [
    "seed = 7\n",
    "\n",
    "from keras.models import Sequential\n",
    "from keras.layers import Dense, Dropout\n",
    "from keras.layers import Flatten\n",
    "from keras.layers.embeddings import Embedding"
   ]
  },
  {
   "cell_type": "code",
   "execution_count": 26,
   "metadata": {},
   "outputs": [
    {
     "output_type": "stream",
     "name": "stdout",
     "text": "Train on 9219 samples, validate on 4098 samples\nEpoch 1/5\n - 119s - loss: 1.3305 - accuracy: 0.7344 - val_loss: 0.6484 - val_accuracy: 0.7311\nEpoch 2/5\n - 121s - loss: 0.6069 - accuracy: 0.7444 - val_loss: 0.5835 - val_accuracy: 0.7311\nEpoch 3/5\n - 111s - loss: 0.5455 - accuracy: 0.7444 - val_loss: 0.5976 - val_accuracy: 0.7311\nEpoch 4/5\n - 111s - loss: 0.4346 - accuracy: 0.7444 - val_loss: 0.7019 - val_accuracy: 0.7311\nEpoch 5/5\n - 108s - loss: 0.3304 - accuracy: 0.7444 - val_loss: 0.8276 - val_accuracy: 0.7311\n"
    },
    {
     "output_type": "execute_result",
     "data": {
      "text/plain": "<keras.callbacks.callbacks.History at 0x1bfa1399a08>"
     },
     "metadata": {},
     "execution_count": 26
    }
   ],
   "source": [
    "model_ptw2v = Sequential()\n",
    "e = Embedding(100000, 200, weights=[embedding_matrix], input_length=600, trainable=False)\n",
    "model_ptw2v.add(e)\n",
    "model_ptw2v.add(Flatten())\n",
    "model_ptw2v.add(Dense(256, activation='relu'))\n",
    "model_ptw2v.add(Dense(1, activation='sigmoid'))\n",
    "model_ptw2v.compile(loss='binary_crossentropy', optimizer='adam', metrics=['accuracy'])\n",
    "model_ptw2v.fit(seq_train, y_train, validation_data=(seq_test, y_test), epochs=5, batch_size=32, verbose=2)"
   ]
  },
  {
   "cell_type": "code",
   "execution_count": null,
   "metadata": {},
   "outputs": [],
   "source": [
    "\n",
    "model_ptw2v = Sequential()\n",
    "e = Embedding(100000, 200, weights=[embedding_matrix], input_length=45, trainable=True)\n",
    "model_ptw2v.add(e)\n",
    "model_ptw2v.add(Flatten())\n",
    "model_ptw2v.add(Dense(256, activation='relu'))\n",
    "model_ptw2v.add(Dense(1, activation='sigmoid'))\n",
    "model_ptw2v.compile(loss='binary_crossentropy', optimizer='adam', metrics=['accuracy'])\n",
    "model_ptw2v.fit(x_train_seq, y_train, validation_data=(x_val_seq, y_validation), epochs=5, batch_size=32, verbose=2)"
   ]
  }
 ],
 "metadata": {
  "language_info": {
   "codemirror_mode": {
    "name": "ipython",
    "version": 3
   },
   "file_extension": ".py",
   "mimetype": "text/x-python",
   "name": "python",
   "nbconvert_exporter": "python",
   "pygments_lexer": "ipython3",
   "version": "3.7.7-final"
  },
  "orig_nbformat": 2,
  "kernelspec": {
   "name": "python37464bitbaseconda283db1cc85e247fb8163a5e3375dfbda",
   "display_name": "Python 3.7.4 64-bit ('base': conda)"
  }
 },
 "nbformat": 4,
 "nbformat_minor": 2
}