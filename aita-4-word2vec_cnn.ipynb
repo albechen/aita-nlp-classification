{
 "cells": [
  {
   "cell_type": "code",
   "execution_count": 2,
   "metadata": {},
   "outputs": [
    {
     "output_type": "stream",
     "name": "stderr",
     "text": "unable to import 'smart_open.gcs', disabling that module\nUsing TensorFlow backend.\n"
    }
   ],
   "source": [
    "import pandas as pd\n",
    "import seaborn as sns\n",
    "import numpy as np\n",
    "import matplotlib.pyplot as plt\n",
    "import re\n",
    "from tqdm import tqdm\n",
    "tqdm.pandas(desc=\"progress-bar\")\n",
    "\n",
    "from sklearn import utils\n",
    "from sklearn.model_selection import train_test_split\n",
    "\n",
    "import nltk\n",
    "from nltk.corpus import stopwords\n",
    "\n",
    "from gensim.models import Word2Vec  \n",
    "from gensim.models.doc2vec import TaggedDocument\n",
    "from gensim.models import KeyedVectors\n",
    "\n",
    "import tensorflow as tf\n",
    "from keras.preprocessing.text import Tokenizer\n",
    "from keras.preprocessing.sequence import pad_sequences"
   ]
  },
  {
   "cell_type": "markdown",
   "metadata": {},
   "source": [
    "## Preprocess"
   ]
  },
  {
   "cell_type": "code",
   "execution_count": 3,
   "metadata": {},
   "outputs": [
    {
     "output_type": "stream",
     "name": "stdout",
     "text": "(20800, 4)\n"
    },
    {
     "output_type": "execute_result",
     "data": {
      "text/plain": "  target  binary_target                                              title  \\\n0    NTA              0  aita renting house telling neighbors go landlo...   \n1    NTA              0            aita boyfriend let get breast reduction   \n2    NTA              0  aita parents took wardrobe away punishment sai...   \n3    YTA              1  aita going week long vacation without wife yea...   \n4    NTA              0  wibta warned current coworkers new problematic...   \n\n                                                body  \n0  house rent neighbors complaints property maint...  \n1  tldr large breasts caused nothing back pain bo...  \n2  got trouble school fall im junior high school ...  \n3  ill try make short im wife f married years met...  \n4  im senior broadcast producer manager announced...  ",
      "text/html": "<div>\n<style scoped>\n    .dataframe tbody tr th:only-of-type {\n        vertical-align: middle;\n    }\n\n    .dataframe tbody tr th {\n        vertical-align: top;\n    }\n\n    .dataframe thead th {\n        text-align: right;\n    }\n</style>\n<table border=\"1\" class=\"dataframe\">\n  <thead>\n    <tr style=\"text-align: right;\">\n      <th></th>\n      <th>target</th>\n      <th>binary_target</th>\n      <th>title</th>\n      <th>body</th>\n    </tr>\n  </thead>\n  <tbody>\n    <tr>\n      <th>0</th>\n      <td>NTA</td>\n      <td>0</td>\n      <td>aita renting house telling neighbors go landlo...</td>\n      <td>house rent neighbors complaints property maint...</td>\n    </tr>\n    <tr>\n      <th>1</th>\n      <td>NTA</td>\n      <td>0</td>\n      <td>aita boyfriend let get breast reduction</td>\n      <td>tldr large breasts caused nothing back pain bo...</td>\n    </tr>\n    <tr>\n      <th>2</th>\n      <td>NTA</td>\n      <td>0</td>\n      <td>aita parents took wardrobe away punishment sai...</td>\n      <td>got trouble school fall im junior high school ...</td>\n    </tr>\n    <tr>\n      <th>3</th>\n      <td>YTA</td>\n      <td>1</td>\n      <td>aita going week long vacation without wife yea...</td>\n      <td>ill try make short im wife f married years met...</td>\n    </tr>\n    <tr>\n      <th>4</th>\n      <td>NTA</td>\n      <td>0</td>\n      <td>wibta warned current coworkers new problematic...</td>\n      <td>im senior broadcast producer manager announced...</td>\n    </tr>\n  </tbody>\n</table>\n</div>"
     },
     "metadata": {},
     "execution_count": 3
    }
   ],
   "source": [
    "aita_raw = pd.read_csv(\"data/processed/aita_xy_cleaned_full.csv\", index_col=0)\n",
    "\n",
    "def pp_regularize_text(df, body_or_title):\n",
    "    stop_words = []\n",
    "    for word in list(stopwords.words('english')):\n",
    "        word = re.sub(r'[^A-Za-z ]+', '', word)\n",
    "        stop_words.append(word)\n",
    "\n",
    "    text_list = []\n",
    "    for text in df[body_or_title]:\n",
    "        text = text.lower()\n",
    "        text = text.replace('\\n', ' ').replace('\\r', '').replace('’', '\\'')\n",
    "        text = re.sub(r'[^A-Za-z ]+', '', text)\n",
    "        goodtext = text.encode('cp1252', 'ignore')\n",
    "        goodtext = goodtext.decode('utf-8', 'ignore')\n",
    "\n",
    "        token = nltk.word_tokenize(goodtext)\n",
    "        token = [y for y in token if not y in stop_words]\n",
    "        final_text = (\" \").join(token)\n",
    "\n",
    "        text_list.append(final_text)\n",
    "    df[body_or_title] = text_list\n",
    "    return df\n",
    "\n",
    "aita_raw = pp_regularize_text(aita_raw, \"body\")\n",
    "aita_raw = pp_regularize_text(aita_raw, \"title\")\n",
    "print(aita_raw.shape)\n",
    "aita_raw.head()"
   ]
  },
  {
   "cell_type": "code",
   "execution_count": 4,
   "metadata": {},
   "outputs": [
    {
     "output_type": "execute_result",
     "data": {
      "text/plain": "        title\ntarget       \nNTA      4115\nYTA      4115",
      "text/html": "<div>\n<style scoped>\n    .dataframe tbody tr th:only-of-type {\n        vertical-align: middle;\n    }\n\n    .dataframe tbody tr th {\n        vertical-align: top;\n    }\n\n    .dataframe thead th {\n        text-align: right;\n    }\n</style>\n<table border=\"1\" class=\"dataframe\">\n  <thead>\n    <tr style=\"text-align: right;\">\n      <th></th>\n      <th>title</th>\n    </tr>\n    <tr>\n      <th>target</th>\n      <th></th>\n    </tr>\n  </thead>\n  <tbody>\n    <tr>\n      <th>NTA</th>\n      <td>4115</td>\n    </tr>\n    <tr>\n      <th>YTA</th>\n      <td>4115</td>\n    </tr>\n  </tbody>\n</table>\n</div>"
     },
     "metadata": {},
     "execution_count": 4
    }
   ],
   "source": [
    "def undersample_and_limit_targets(df):\n",
    "    minor = df[df[\"target\"] == \"YTA\"]\n",
    "    major = df[df[\"target\"] == \"NTA\"]\n",
    "    major = major.sample(n=len(minor))\n",
    "    us_df = pd.concat([minor, major])\n",
    "    return us_df\n",
    "\n",
    "us_df = undersample_and_limit_targets(aita_raw)\n",
    "us_df[[\"target\", \"title\"]].groupby(\"target\").count()"
   ]
  },
  {
   "cell_type": "code",
   "execution_count": 5,
   "metadata": {},
   "outputs": [
    {
     "output_type": "stream",
     "name": "stdout",
     "text": "20800\n20800\n"
    }
   ],
   "source": [
    "x_body = list(aita_raw[\"body\"])\n",
    "print(len(x_body))\n",
    "y_target = list(aita_raw[\"binary_target\"])\n",
    "print(len(y_target))"
   ]
  },
  {
   "cell_type": "markdown",
   "metadata": {},
   "source": [
    "## Training Word2Vec"
   ]
  },
  {
   "cell_type": "code",
   "execution_count": 6,
   "metadata": {},
   "outputs": [],
   "source": [
    "def label_sentence(x, label):\n",
    "    labeled_list = []\n",
    "    for count in range(len(x)):\n",
    "        label_count = \"%s_%s\" % (label, count)\n",
    "        labeled_list.append(TaggedDocument(x[count].split(), label_count))\n",
    "    return labeled_list\n",
    "\n",
    "x_tagged = label_sentence(x_body, \"body\")"
   ]
  },
  {
   "cell_type": "code",
   "execution_count": 7,
   "metadata": {},
   "outputs": [
    {
     "output_type": "stream",
     "name": "stderr",
     "text": "100%|██████████| 20800/20800 [00:00<00:00, 1667237.24it/s]\n"
    }
   ],
   "source": [
    "w2v_cbow = Word2Vec(sg=0, size=100, negative=5, window=2, min_count=2)\n",
    "w2v_cbow.build_vocab([x.words for x in tqdm(x_tagged)])"
   ]
  },
  {
   "cell_type": "code",
   "execution_count": 8,
   "metadata": {},
   "outputs": [
    {
     "output_type": "stream",
     "name": "stderr",
     "text": "100%|██████████| 20800/20800 [00:00<00:00, 1485619.56it/s]\n100%|██████████| 20800/20800 [00:00<00:00, 2599568.63it/s]\n100%|██████████| 20800/20800 [00:00<00:00, 1895977.82it/s]\n100%|██████████| 20800/20800 [00:00<00:00, 2317110.39it/s]\n100%|██████████| 20800/20800 [00:00<00:00, 2979458.46it/s]\n100%|██████████| 20800/20800 [00:00<00:00, 2994183.45it/s]\n100%|██████████| 20800/20800 [00:00<00:00, 2085620.92it/s]\n100%|██████████| 20800/20800 [00:00<00:00, 2322415.10it/s]\n100%|██████████| 20800/20800 [00:00<00:00, 2096698.39it/s]\n100%|██████████| 20800/20800 [00:00<00:00, 2317479.70it/s]\n100%|██████████| 20800/20800 [00:00<00:00, 2317356.58it/s]\n100%|██████████| 20800/20800 [00:00<00:00, 2607181.97it/s]\n100%|██████████| 20800/20800 [00:00<00:00, 2322847.95it/s]\n100%|██████████| 20800/20800 [00:00<00:00, 1395105.43it/s]\n100%|██████████| 20800/20800 [00:00<00:00, 2087417.41it/s]\n"
    }
   ],
   "source": [
    "for epoch in range(15):\n",
    "    w2v_cbow.train(utils.shuffle([x.words for x in tqdm(x_tagged)]), total_examples=len(x_tagged), epochs=1)\n",
    "    w2v_cbow.alpha -= 0.002\n",
    "    w2v_cbow.min_alpha = w2v_cbow.alpha"
   ]
  },
  {
   "cell_type": "code",
   "execution_count": 15,
   "metadata": {},
   "outputs": [],
   "source": [
    "w2v_cbow.save('data/processed/w2v_cbow.word2vec')"
   ]
  },
  {
   "cell_type": "code",
   "execution_count": 16,
   "metadata": {},
   "outputs": [
    {
     "output_type": "stream",
     "name": "stderr",
     "text": "100%|██████████| 20800/20800 [00:00<00:00, 1737775.10it/s]\n"
    }
   ],
   "source": [
    "w2v_sg = Word2Vec(sg=0, size=100, negative=5, window=2, min_count=2)\n",
    "w2v_sg.build_vocab([x.words for x in tqdm(x_tagged)])"
   ]
  },
  {
   "cell_type": "code",
   "execution_count": 17,
   "metadata": {},
   "outputs": [
    {
     "output_type": "stream",
     "name": "stderr",
     "text": "100%|██████████| 20800/20800 [00:00<00:00, 1303454.65it/s]\n100%|██████████| 20800/20800 [00:00<00:00, 1158647.51it/s]\n100%|██████████| 20800/20800 [00:00<00:00, 2085620.92it/s]\n100%|██████████| 20800/20800 [00:00<00:00, 1896019.02it/s]\n100%|██████████| 20800/20800 [00:00<00:00, 2078614.36it/s]\n100%|██████████| 20800/20800 [00:00<00:00, 1303474.13it/s]\n100%|██████████| 20800/20800 [00:00<00:00, 1896101.44it/s]\n100%|██████████| 20800/20800 [00:00<00:00, 1738017.44it/s]\n100%|██████████| 20800/20800 [00:00<00:00, 1738467.67it/s]\n100%|██████████| 20800/20800 [00:00<00:00, 1896019.02it/s]\n100%|██████████| 20800/20800 [00:00<00:00, 1737809.71it/s]\n100%|██████████| 20800/20800 [00:00<00:00, 1737982.81it/s]\n100%|██████████| 20800/20800 [00:00<00:00, 1737948.19it/s]\n100%|██████████| 20800/20800 [00:00<00:00, 1896060.23it/s]\n100%|██████████| 20800/20800 [00:00<00:00, 1887813.46it/s]\n"
    }
   ],
   "source": [
    "for epoch in range(15):\n",
    "    w2v_sg.train(utils.shuffle([x.words for x in tqdm(x_tagged)]), total_examples=len(x_tagged), epochs=1)\n",
    "    w2v_sg.alpha -= 0.002\n",
    "    w2v_sg.min_alpha = w2v_sg.alpha"
   ]
  },
  {
   "cell_type": "code",
   "execution_count": 31,
   "metadata": {},
   "outputs": [],
   "source": [
    "w2v_sg.save('data/processed/w2v_sg.word2vec')"
   ]
  },
  {
   "cell_type": "code",
   "execution_count": 32,
   "metadata": {},
   "outputs": [
    {
     "output_type": "execute_result",
     "data": {
      "text/plain": "[('ah', 0.7965837717056274),\n ('dick', 0.7795826196670532),\n ('hypocrite', 0.7074277400970459),\n ('ahole', 0.7033635973930359),\n ('bitch', 0.6969475150108337),\n ('douche', 0.6944093108177185),\n ('idiot', 0.6936898231506348),\n ('asshole', 0.6820759177207947),\n ('overreacted', 0.6750144958496094),\n ('creep', 0.6704512238502502)]"
     },
     "metadata": {},
     "execution_count": 32
    }
   ],
   "source": [
    "w2v_cbow.most_similar(\"jerk\")"
   ]
  },
  {
   "cell_type": "code",
   "execution_count": 33,
   "metadata": {},
   "outputs": [
    {
     "output_type": "execute_result",
     "data": {
      "text/plain": "[('dick', 0.7928402423858643),\n ('ah', 0.7912259101867676),\n ('ahole', 0.7249943614006042),\n ('bitch', 0.7207160592079163),\n ('idiot', 0.7031358480453491),\n ('asshole', 0.6907906532287598),\n ('selfish', 0.6898930072784424),\n ('immature', 0.6855732202529907),\n ('douche', 0.6800611019134521),\n ('overreacting', 0.6691429615020752)]"
     },
     "metadata": {},
     "execution_count": 33
    }
   ],
   "source": [
    "w2v_sg.most_similar(\"jerk\")"
   ]
  },
  {
   "cell_type": "markdown",
   "metadata": {},
   "source": [
    "## Tokenization"
   ]
  },
  {
   "cell_type": "code",
   "execution_count": 34,
   "metadata": {},
   "outputs": [
    {
     "output_type": "stream",
     "name": "stdout",
     "text": "11700 5200\n"
    }
   ],
   "source": [
    "X_train, X_test, y_train, y_test = train_test_split(x_body, y_target, test_size=0.25, random_state=1)\n",
    "X_train, X_val, y_train, y_val = train_test_split(X_train, y_train, test_size=0.25, random_state=1)\n",
    "print(len(X_train), len(X_test))"
   ]
  },
  {
   "cell_type": "code",
   "execution_count": 35,
   "metadata": {},
   "outputs": [
    {
     "output_type": "execute_result",
     "data": {
      "text/plain": "<matplotlib.axes._subplots.AxesSubplot at 0x1dec64b23c8>"
     },
     "metadata": {},
     "execution_count": 35
    },
    {
     "output_type": "display_data",
     "data": {
      "text/plain": "<Figure size 432x288 with 1 Axes>",
      "image/svg+xml": "<?xml version=\"1.0\" encoding=\"utf-8\" standalone=\"no\"?>\r\n<!DOCTYPE svg PUBLIC \"-//W3C//DTD SVG 1.1//EN\"\r\n  \"http://www.w3.org/Graphics/SVG/1.1/DTD/svg11.dtd\">\r\n<!-- Created with matplotlib (https://matplotlib.org/) -->\r\n<svg height=\"248.518125pt\" version=\"1.1\" viewBox=\"0 0 384.828125 248.518125\" width=\"384.828125pt\" xmlns=\"http://www.w3.org/2000/svg\" xmlns:xlink=\"http://www.w3.org/1999/xlink\">\r\n <defs>\r\n  <style type=\"text/css\">\r\n*{stroke-linecap:butt;stroke-linejoin:round;}\r\n  </style>\r\n </defs>\r\n <g id=\"figure_1\">\r\n  <g id=\"patch_1\">\r\n   <path d=\"M 0 248.518125 \r\nL 384.828125 248.518125 \r\nL 384.828125 0 \r\nL 0 0 \r\nz\r\n\" style=\"fill:none;\"/>\r\n  </g>\r\n  <g id=\"axes_1\">\r\n   <g id=\"patch_2\">\r\n    <path d=\"M 42.828125 224.64 \r\nL 377.628125 224.64 \r\nL 377.628125 7.2 \r\nL 42.828125 7.2 \r\nz\r\n\" style=\"fill:#ffffff;\"/>\r\n   </g>\r\n   <g id=\"patch_3\">\r\n    <path clip-path=\"url(#p4695c6acf3)\" d=\"M 81.08556 224.64 \r\nL 87.235206 224.64 \r\nL 87.235206 222.462443 \r\nL 81.08556 222.462443 \r\nz\r\n\" style=\"fill:#1f77b4;opacity:0.4;\"/>\r\n   </g>\r\n   <g id=\"patch_4\">\r\n    <path clip-path=\"url(#p4695c6acf3)\" d=\"M 87.235206 224.64 \r\nL 93.384852 224.64 \r\nL 93.384852 219.413862 \r\nL 87.235206 219.413862 \r\nz\r\n\" style=\"fill:#1f77b4;opacity:0.4;\"/>\r\n   </g>\r\n   <g id=\"patch_5\">\r\n    <path clip-path=\"url(#p4695c6acf3)\" d=\"M 93.384852 224.64 \r\nL 99.534498 224.64 \r\nL 99.534498 205.041983 \r\nL 93.384852 205.041983 \r\nz\r\n\" style=\"fill:#1f77b4;opacity:0.4;\"/>\r\n   </g>\r\n   <g id=\"patch_6\">\r\n    <path clip-path=\"url(#p4695c6acf3)\" d=\"M 99.534498 224.64 \r\nL 105.684144 224.64 \r\nL 105.684144 190.234592 \r\nL 99.534498 190.234592 \r\nz\r\n\" style=\"fill:#1f77b4;opacity:0.4;\"/>\r\n   </g>\r\n   <g id=\"patch_7\">\r\n    <path clip-path=\"url(#p4695c6acf3)\" d=\"M 105.684144 224.64 \r\nL 111.83379 224.64 \r\nL 111.83379 165.410437 \r\nL 105.684144 165.410437 \r\nz\r\n\" style=\"fill:#1f77b4;opacity:0.4;\"/>\r\n   </g>\r\n   <g id=\"patch_8\">\r\n    <path clip-path=\"url(#p4695c6acf3)\" d=\"M 111.83379 224.64 \r\nL 117.983436 224.64 \r\nL 117.983436 137.10219 \r\nL 111.83379 137.10219 \r\nz\r\n\" style=\"fill:#1f77b4;opacity:0.4;\"/>\r\n   </g>\r\n   <g id=\"patch_9\">\r\n    <path clip-path=\"url(#p4695c6acf3)\" d=\"M 117.983436 224.64 \r\nL 124.133082 224.64 \r\nL 124.133082 117.504173 \r\nL 117.983436 117.504173 \r\nz\r\n\" style=\"fill:#1f77b4;opacity:0.4;\"/>\r\n   </g>\r\n   <g id=\"patch_10\">\r\n    <path clip-path=\"url(#p4695c6acf3)\" d=\"M 124.133082 224.64 \r\nL 130.282728 224.64 \r\nL 130.282728 88.107147 \r\nL 124.133082 88.107147 \r\nz\r\n\" style=\"fill:#1f77b4;opacity:0.4;\"/>\r\n   </g>\r\n   <g id=\"patch_11\">\r\n    <path clip-path=\"url(#p4695c6acf3)\" d=\"M 130.282728 224.64 \r\nL 136.432373 224.64 \r\nL 136.432373 81.792231 \r\nL 130.282728 81.792231 \r\nz\r\n\" style=\"fill:#1f77b4;opacity:0.4;\"/>\r\n   </g>\r\n   <g id=\"patch_12\">\r\n    <path clip-path=\"url(#p4695c6acf3)\" d=\"M 136.432373 224.64 \r\nL 142.582019 224.64 \r\nL 142.582019 79.614673 \r\nL 136.432373 79.614673 \r\nz\r\n\" style=\"fill:#1f77b4;opacity:0.4;\"/>\r\n   </g>\r\n   <g id=\"patch_13\">\r\n    <path clip-path=\"url(#p4695c6acf3)\" d=\"M 142.582019 224.64 \r\nL 148.731665 224.64 \r\nL 148.731665 43.467219 \r\nL 142.582019 43.467219 \r\nz\r\n\" style=\"fill:#1f77b4;opacity:0.4;\"/>\r\n   </g>\r\n   <g id=\"patch_14\">\r\n    <path clip-path=\"url(#p4695c6acf3)\" d=\"M 148.731665 224.64 \r\nL 154.881311 224.64 \r\nL 154.881311 44.773754 \r\nL 148.731665 44.773754 \r\nz\r\n\" style=\"fill:#1f77b4;opacity:0.4;\"/>\r\n   </g>\r\n   <g id=\"patch_15\">\r\n    <path clip-path=\"url(#p4695c6acf3)\" d=\"M 154.881311 224.64 \r\nL 161.030957 224.64 \r\nL 161.030957 45.209265 \r\nL 154.881311 45.209265 \r\nz\r\n\" style=\"fill:#1f77b4;opacity:0.4;\"/>\r\n   </g>\r\n   <g id=\"patch_16\">\r\n    <path clip-path=\"url(#p4695c6acf3)\" d=\"M 161.030957 224.64 \r\nL 167.180603 224.64 \r\nL 167.180603 31.272898 \r\nL 161.030957 31.272898 \r\nz\r\n\" style=\"fill:#1f77b4;opacity:0.4;\"/>\r\n   </g>\r\n   <g id=\"patch_17\">\r\n    <path clip-path=\"url(#p4695c6acf3)\" d=\"M 167.180603 224.64 \r\nL 173.330249 224.64 \r\nL 173.330249 29.748607 \r\nL 167.180603 29.748607 \r\nz\r\n\" style=\"fill:#1f77b4;opacity:0.4;\"/>\r\n   </g>\r\n   <g id=\"patch_18\">\r\n    <path clip-path=\"url(#p4695c6acf3)\" d=\"M 173.330249 224.64 \r\nL 179.479895 224.64 \r\nL 179.479895 17.554286 \r\nL 173.330249 17.554286 \r\nz\r\n\" style=\"fill:#1f77b4;opacity:0.4;\"/>\r\n   </g>\r\n   <g id=\"patch_19\">\r\n    <path clip-path=\"url(#p4695c6acf3)\" d=\"M 179.479895 224.64 \r\nL 185.629541 224.64 \r\nL 185.629541 58.27461 \r\nL 179.479895 58.27461 \r\nz\r\n\" style=\"fill:#1f77b4;opacity:0.4;\"/>\r\n   </g>\r\n   <g id=\"patch_20\">\r\n    <path clip-path=\"url(#p4695c6acf3)\" d=\"M 185.629541 224.64 \r\nL 191.779187 224.64 \r\nL 191.779187 38.458837 \r\nL 185.629541 38.458837 \r\nz\r\n\" style=\"fill:#1f77b4;opacity:0.4;\"/>\r\n   </g>\r\n   <g id=\"patch_21\">\r\n    <path clip-path=\"url(#p4695c6acf3)\" d=\"M 191.779187 224.64 \r\nL 197.928833 224.64 \r\nL 197.928833 40.418639 \r\nL 191.779187 40.418639 \r\nz\r\n\" style=\"fill:#1f77b4;opacity:0.4;\"/>\r\n   </g>\r\n   <g id=\"patch_22\">\r\n    <path clip-path=\"url(#p4695c6acf3)\" d=\"M 197.928833 224.64 \r\nL 204.078479 224.64 \r\nL 204.078479 79.614673 \r\nL 197.928833 79.614673 \r\nz\r\n\" style=\"fill:#1f77b4;opacity:0.4;\"/>\r\n   </g>\r\n   <g id=\"patch_23\">\r\n    <path clip-path=\"url(#p4695c6acf3)\" d=\"M 204.078479 224.64 \r\nL 210.228125 224.64 \r\nL 210.228125 52.612961 \r\nL 204.078479 52.612961 \r\nz\r\n\" style=\"fill:#1f77b4;opacity:0.4;\"/>\r\n   </g>\r\n   <g id=\"patch_24\">\r\n    <path clip-path=\"url(#p4695c6acf3)\" d=\"M 210.228125 224.64 \r\nL 216.377771 224.64 \r\nL 216.377771 62.847481 \r\nL 210.228125 62.847481 \r\nz\r\n\" style=\"fill:#1f77b4;opacity:0.4;\"/>\r\n   </g>\r\n   <g id=\"patch_25\">\r\n    <path clip-path=\"url(#p4695c6acf3)\" d=\"M 216.377771 224.64 \r\nL 222.527417 224.64 \r\nL 222.527417 91.808995 \r\nL 216.377771 91.808995 \r\nz\r\n\" style=\"fill:#1f77b4;opacity:0.4;\"/>\r\n   </g>\r\n   <g id=\"patch_26\">\r\n    <path clip-path=\"url(#p4695c6acf3)\" d=\"M 222.527417 224.64 \r\nL 228.677063 224.64 \r\nL 228.677063 84.623055 \r\nL 222.527417 84.623055 \r\nz\r\n\" style=\"fill:#1f77b4;opacity:0.4;\"/>\r\n   </g>\r\n   <g id=\"patch_27\">\r\n    <path clip-path=\"url(#p4695c6acf3)\" d=\"M 228.677063 224.64 \r\nL 234.826709 224.64 \r\nL 234.826709 98.559423 \r\nL 228.677063 98.559423 \r\nz\r\n\" style=\"fill:#1f77b4;opacity:0.4;\"/>\r\n   </g>\r\n   <g id=\"patch_28\">\r\n    <path clip-path=\"url(#p4695c6acf3)\" d=\"M 234.826709 224.64 \r\nL 240.976355 224.64 \r\nL 240.976355 124.690113 \r\nL 234.826709 124.690113 \r\nz\r\n\" style=\"fill:#1f77b4;opacity:0.4;\"/>\r\n   </g>\r\n   <g id=\"patch_29\">\r\n    <path clip-path=\"url(#p4695c6acf3)\" d=\"M 240.976355 224.64 \r\nL 247.126001 224.64 \r\nL 247.126001 101.172492 \r\nL 240.976355 101.172492 \r\nz\r\n\" style=\"fill:#1f77b4;opacity:0.4;\"/>\r\n   </g>\r\n   <g id=\"patch_30\">\r\n    <path clip-path=\"url(#p4695c6acf3)\" d=\"M 247.126001 224.64 \r\nL 253.275647 224.64 \r\nL 253.275647 104.221073 \r\nL 247.126001 104.221073 \r\nz\r\n\" style=\"fill:#1f77b4;opacity:0.4;\"/>\r\n   </g>\r\n   <g id=\"patch_31\">\r\n    <path clip-path=\"url(#p4695c6acf3)\" d=\"M 253.275647 224.64 \r\nL 259.425293 224.64 \r\nL 259.425293 112.931302 \r\nL 253.275647 112.931302 \r\nz\r\n\" style=\"fill:#1f77b4;opacity:0.4;\"/>\r\n   </g>\r\n   <g id=\"patch_32\">\r\n    <path clip-path=\"url(#p4695c6acf3)\" d=\"M 259.425293 224.64 \r\nL 265.574939 224.64 \r\nL 265.574939 111.624768 \r\nL 259.425293 111.624768 \r\nz\r\n\" style=\"fill:#1f77b4;opacity:0.4;\"/>\r\n   </g>\r\n   <g id=\"patch_33\">\r\n    <path clip-path=\"url(#p4695c6acf3)\" d=\"M 265.574939 224.64 \r\nL 271.724585 224.64 \r\nL 271.724585 83.098765 \r\nL 265.574939 83.098765 \r\nz\r\n\" style=\"fill:#1f77b4;opacity:0.4;\"/>\r\n   </g>\r\n   <g id=\"patch_34\">\r\n    <path clip-path=\"url(#p4695c6acf3)\" d=\"M 271.724585 224.64 \r\nL 277.874231 224.64 \r\nL 277.874231 73.735268 \r\nL 271.724585 73.735268 \r\nz\r\n\" style=\"fill:#1f77b4;opacity:0.4;\"/>\r\n   </g>\r\n   <g id=\"patch_35\">\r\n    <path clip-path=\"url(#p4695c6acf3)\" d=\"M 277.874231 224.64 \r\nL 284.023877 224.64 \r\nL 284.023877 107.269653 \r\nL 277.874231 107.269653 \r\nz\r\n\" style=\"fill:#1f77b4;opacity:0.4;\"/>\r\n   </g>\r\n   <g id=\"patch_36\">\r\n    <path clip-path=\"url(#p4695c6acf3)\" d=\"M 284.023877 224.64 \r\nL 290.173522 224.64 \r\nL 290.173522 125.996647 \r\nL 284.023877 125.996647 \r\nz\r\n\" style=\"fill:#1f77b4;opacity:0.4;\"/>\r\n   </g>\r\n   <g id=\"patch_37\">\r\n    <path clip-path=\"url(#p4695c6acf3)\" d=\"M 290.173522 224.64 \r\nL 296.323168 224.64 \r\nL 296.323168 161.708589 \r\nL 290.173522 161.708589 \r\nz\r\n\" style=\"fill:#1f77b4;opacity:0.4;\"/>\r\n   </g>\r\n   <g id=\"patch_38\">\r\n    <path clip-path=\"url(#p4695c6acf3)\" d=\"M 296.323168 224.64 \r\nL 302.472814 224.64 \r\nL 302.472814 190.887859 \r\nL 296.323168 190.887859 \r\nz\r\n\" style=\"fill:#1f77b4;opacity:0.4;\"/>\r\n   </g>\r\n   <g id=\"patch_39\">\r\n    <path clip-path=\"url(#p4695c6acf3)\" d=\"M 302.472814 224.64 \r\nL 308.62246 224.64 \r\nL 308.62246 195.46073 \r\nL 302.472814 195.46073 \r\nz\r\n\" style=\"fill:#1f77b4;opacity:0.4;\"/>\r\n   </g>\r\n   <g id=\"patch_40\">\r\n    <path clip-path=\"url(#p4695c6acf3)\" d=\"M 308.62246 224.64 \r\nL 314.772106 224.64 \r\nL 314.772106 207.001785 \r\nL 308.62246 207.001785 \r\nz\r\n\" style=\"fill:#1f77b4;opacity:0.4;\"/>\r\n   </g>\r\n   <g id=\"patch_41\">\r\n    <path clip-path=\"url(#p4695c6acf3)\" d=\"M 314.772106 224.64 \r\nL 320.921752 224.64 \r\nL 320.921752 215.494259 \r\nL 314.772106 215.494259 \r\nz\r\n\" style=\"fill:#1f77b4;opacity:0.4;\"/>\r\n   </g>\r\n   <g id=\"patch_42\">\r\n    <path clip-path=\"url(#p4695c6acf3)\" d=\"M 320.921752 224.64 \r\nL 327.071398 224.64 \r\nL 327.071398 218.978351 \r\nL 320.921752 218.978351 \r\nz\r\n\" style=\"fill:#1f77b4;opacity:0.4;\"/>\r\n   </g>\r\n   <g id=\"patch_43\">\r\n    <path clip-path=\"url(#p4695c6acf3)\" d=\"M 327.071398 224.64 \r\nL 333.221044 224.64 \r\nL 333.221044 221.155908 \r\nL 327.071398 221.155908 \r\nz\r\n\" style=\"fill:#1f77b4;opacity:0.4;\"/>\r\n   </g>\r\n   <g id=\"patch_44\">\r\n    <path clip-path=\"url(#p4695c6acf3)\" d=\"M 333.221044 224.64 \r\nL 339.37069 224.64 \r\nL 339.37069 224.204489 \r\nL 333.221044 224.204489 \r\nz\r\n\" style=\"fill:#1f77b4;opacity:0.4;\"/>\r\n   </g>\r\n   <g id=\"matplotlib.axis_1\">\r\n    <g id=\"xtick_1\">\r\n     <g id=\"line2d_1\">\r\n      <defs>\r\n       <path d=\"M 0 0 \r\nL 0 3.5 \r\n\" id=\"m076e189876\" style=\"stroke:#000000;stroke-width:0.8;\"/>\r\n      </defs>\r\n      <g>\r\n       <use style=\"stroke:#000000;stroke-width:0.8;\" x=\"75.488049\" xlink:href=\"#m076e189876\" y=\"224.64\"/>\r\n      </g>\r\n     </g>\r\n     <g id=\"text_1\">\r\n      <!-- 0 -->\r\n      <defs>\r\n       <path d=\"M 31.78125 66.40625 \r\nQ 24.171875 66.40625 20.328125 58.90625 \r\nQ 16.5 51.421875 16.5 36.375 \r\nQ 16.5 21.390625 20.328125 13.890625 \r\nQ 24.171875 6.390625 31.78125 6.390625 \r\nQ 39.453125 6.390625 43.28125 13.890625 \r\nQ 47.125 21.390625 47.125 36.375 \r\nQ 47.125 51.421875 43.28125 58.90625 \r\nQ 39.453125 66.40625 31.78125 66.40625 \r\nz\r\nM 31.78125 74.21875 \r\nQ 44.046875 74.21875 50.515625 64.515625 \r\nQ 56.984375 54.828125 56.984375 36.375 \r\nQ 56.984375 17.96875 50.515625 8.265625 \r\nQ 44.046875 -1.421875 31.78125 -1.421875 \r\nQ 19.53125 -1.421875 13.0625 8.265625 \r\nQ 6.59375 17.96875 6.59375 36.375 \r\nQ 6.59375 54.828125 13.0625 64.515625 \r\nQ 19.53125 74.21875 31.78125 74.21875 \r\nz\r\n\" id=\"DejaVuSans-48\"/>\r\n      </defs>\r\n      <g transform=\"translate(72.306799 239.238437)scale(0.1 -0.1)\">\r\n       <use xlink:href=\"#DejaVuSans-48\"/>\r\n      </g>\r\n     </g>\r\n    </g>\r\n    <g id=\"xtick_2\">\r\n     <g id=\"line2d_2\">\r\n      <g>\r\n       <use style=\"stroke:#000000;stroke-width:0.8;\" x=\"115.470268\" xlink:href=\"#m076e189876\" y=\"224.64\"/>\r\n      </g>\r\n     </g>\r\n     <g id=\"text_2\">\r\n      <!-- 50 -->\r\n      <defs>\r\n       <path d=\"M 10.796875 72.90625 \r\nL 49.515625 72.90625 \r\nL 49.515625 64.59375 \r\nL 19.828125 64.59375 \r\nL 19.828125 46.734375 \r\nQ 21.96875 47.46875 24.109375 47.828125 \r\nQ 26.265625 48.1875 28.421875 48.1875 \r\nQ 40.625 48.1875 47.75 41.5 \r\nQ 54.890625 34.8125 54.890625 23.390625 \r\nQ 54.890625 11.625 47.5625 5.09375 \r\nQ 40.234375 -1.421875 26.90625 -1.421875 \r\nQ 22.3125 -1.421875 17.546875 -0.640625 \r\nQ 12.796875 0.140625 7.71875 1.703125 \r\nL 7.71875 11.625 \r\nQ 12.109375 9.234375 16.796875 8.0625 \r\nQ 21.484375 6.890625 26.703125 6.890625 \r\nQ 35.15625 6.890625 40.078125 11.328125 \r\nQ 45.015625 15.765625 45.015625 23.390625 \r\nQ 45.015625 31 40.078125 35.4375 \r\nQ 35.15625 39.890625 26.703125 39.890625 \r\nQ 22.75 39.890625 18.8125 39.015625 \r\nQ 14.890625 38.140625 10.796875 36.28125 \r\nz\r\n\" id=\"DejaVuSans-53\"/>\r\n      </defs>\r\n      <g transform=\"translate(109.107768 239.238437)scale(0.1 -0.1)\">\r\n       <use xlink:href=\"#DejaVuSans-53\"/>\r\n       <use x=\"63.623047\" xlink:href=\"#DejaVuSans-48\"/>\r\n      </g>\r\n     </g>\r\n    </g>\r\n    <g id=\"xtick_3\">\r\n     <g id=\"line2d_3\">\r\n      <g>\r\n       <use style=\"stroke:#000000;stroke-width:0.8;\" x=\"155.452486\" xlink:href=\"#m076e189876\" y=\"224.64\"/>\r\n      </g>\r\n     </g>\r\n     <g id=\"text_3\">\r\n      <!-- 100 -->\r\n      <defs>\r\n       <path d=\"M 12.40625 8.296875 \r\nL 28.515625 8.296875 \r\nL 28.515625 63.921875 \r\nL 10.984375 60.40625 \r\nL 10.984375 69.390625 \r\nL 28.421875 72.90625 \r\nL 38.28125 72.90625 \r\nL 38.28125 8.296875 \r\nL 54.390625 8.296875 \r\nL 54.390625 0 \r\nL 12.40625 0 \r\nz\r\n\" id=\"DejaVuSans-49\"/>\r\n      </defs>\r\n      <g transform=\"translate(145.908736 239.238437)scale(0.1 -0.1)\">\r\n       <use xlink:href=\"#DejaVuSans-49\"/>\r\n       <use x=\"63.623047\" xlink:href=\"#DejaVuSans-48\"/>\r\n       <use x=\"127.246094\" xlink:href=\"#DejaVuSans-48\"/>\r\n      </g>\r\n     </g>\r\n    </g>\r\n    <g id=\"xtick_4\">\r\n     <g id=\"line2d_4\">\r\n      <g>\r\n       <use style=\"stroke:#000000;stroke-width:0.8;\" x=\"195.434704\" xlink:href=\"#m076e189876\" y=\"224.64\"/>\r\n      </g>\r\n     </g>\r\n     <g id=\"text_4\">\r\n      <!-- 150 -->\r\n      <g transform=\"translate(185.890954 239.238437)scale(0.1 -0.1)\">\r\n       <use xlink:href=\"#DejaVuSans-49\"/>\r\n       <use x=\"63.623047\" xlink:href=\"#DejaVuSans-53\"/>\r\n       <use x=\"127.246094\" xlink:href=\"#DejaVuSans-48\"/>\r\n      </g>\r\n     </g>\r\n    </g>\r\n    <g id=\"xtick_5\">\r\n     <g id=\"line2d_5\">\r\n      <g>\r\n       <use style=\"stroke:#000000;stroke-width:0.8;\" x=\"235.416923\" xlink:href=\"#m076e189876\" y=\"224.64\"/>\r\n      </g>\r\n     </g>\r\n     <g id=\"text_5\">\r\n      <!-- 200 -->\r\n      <defs>\r\n       <path d=\"M 19.1875 8.296875 \r\nL 53.609375 8.296875 \r\nL 53.609375 0 \r\nL 7.328125 0 \r\nL 7.328125 8.296875 \r\nQ 12.9375 14.109375 22.625 23.890625 \r\nQ 32.328125 33.6875 34.8125 36.53125 \r\nQ 39.546875 41.84375 41.421875 45.53125 \r\nQ 43.3125 49.21875 43.3125 52.78125 \r\nQ 43.3125 58.59375 39.234375 62.25 \r\nQ 35.15625 65.921875 28.609375 65.921875 \r\nQ 23.96875 65.921875 18.8125 64.3125 \r\nQ 13.671875 62.703125 7.8125 59.421875 \r\nL 7.8125 69.390625 \r\nQ 13.765625 71.78125 18.9375 73 \r\nQ 24.125 74.21875 28.421875 74.21875 \r\nQ 39.75 74.21875 46.484375 68.546875 \r\nQ 53.21875 62.890625 53.21875 53.421875 \r\nQ 53.21875 48.921875 51.53125 44.890625 \r\nQ 49.859375 40.875 45.40625 35.40625 \r\nQ 44.1875 33.984375 37.640625 27.21875 \r\nQ 31.109375 20.453125 19.1875 8.296875 \r\nz\r\n\" id=\"DejaVuSans-50\"/>\r\n      </defs>\r\n      <g transform=\"translate(225.873173 239.238437)scale(0.1 -0.1)\">\r\n       <use xlink:href=\"#DejaVuSans-50\"/>\r\n       <use x=\"63.623047\" xlink:href=\"#DejaVuSans-48\"/>\r\n       <use x=\"127.246094\" xlink:href=\"#DejaVuSans-48\"/>\r\n      </g>\r\n     </g>\r\n    </g>\r\n    <g id=\"xtick_6\">\r\n     <g id=\"line2d_6\">\r\n      <g>\r\n       <use style=\"stroke:#000000;stroke-width:0.8;\" x=\"275.399141\" xlink:href=\"#m076e189876\" y=\"224.64\"/>\r\n      </g>\r\n     </g>\r\n     <g id=\"text_6\">\r\n      <!-- 250 -->\r\n      <g transform=\"translate(265.855391 239.238437)scale(0.1 -0.1)\">\r\n       <use xlink:href=\"#DejaVuSans-50\"/>\r\n       <use x=\"63.623047\" xlink:href=\"#DejaVuSans-53\"/>\r\n       <use x=\"127.246094\" xlink:href=\"#DejaVuSans-48\"/>\r\n      </g>\r\n     </g>\r\n    </g>\r\n    <g id=\"xtick_7\">\r\n     <g id=\"line2d_7\">\r\n      <g>\r\n       <use style=\"stroke:#000000;stroke-width:0.8;\" x=\"315.381359\" xlink:href=\"#m076e189876\" y=\"224.64\"/>\r\n      </g>\r\n     </g>\r\n     <g id=\"text_7\">\r\n      <!-- 300 -->\r\n      <defs>\r\n       <path d=\"M 40.578125 39.3125 \r\nQ 47.65625 37.796875 51.625 33 \r\nQ 55.609375 28.21875 55.609375 21.1875 \r\nQ 55.609375 10.40625 48.1875 4.484375 \r\nQ 40.765625 -1.421875 27.09375 -1.421875 \r\nQ 22.515625 -1.421875 17.65625 -0.515625 \r\nQ 12.796875 0.390625 7.625 2.203125 \r\nL 7.625 11.71875 \r\nQ 11.71875 9.328125 16.59375 8.109375 \r\nQ 21.484375 6.890625 26.8125 6.890625 \r\nQ 36.078125 6.890625 40.9375 10.546875 \r\nQ 45.796875 14.203125 45.796875 21.1875 \r\nQ 45.796875 27.640625 41.28125 31.265625 \r\nQ 36.765625 34.90625 28.71875 34.90625 \r\nL 20.21875 34.90625 \r\nL 20.21875 43.015625 \r\nL 29.109375 43.015625 \r\nQ 36.375 43.015625 40.234375 45.921875 \r\nQ 44.09375 48.828125 44.09375 54.296875 \r\nQ 44.09375 59.90625 40.109375 62.90625 \r\nQ 36.140625 65.921875 28.71875 65.921875 \r\nQ 24.65625 65.921875 20.015625 65.03125 \r\nQ 15.375 64.15625 9.8125 62.3125 \r\nL 9.8125 71.09375 \r\nQ 15.4375 72.65625 20.34375 73.4375 \r\nQ 25.25 74.21875 29.59375 74.21875 \r\nQ 40.828125 74.21875 47.359375 69.109375 \r\nQ 53.90625 64.015625 53.90625 55.328125 \r\nQ 53.90625 49.265625 50.4375 45.09375 \r\nQ 46.96875 40.921875 40.578125 39.3125 \r\nz\r\n\" id=\"DejaVuSans-51\"/>\r\n      </defs>\r\n      <g transform=\"translate(305.837609 239.238437)scale(0.1 -0.1)\">\r\n       <use xlink:href=\"#DejaVuSans-51\"/>\r\n       <use x=\"63.623047\" xlink:href=\"#DejaVuSans-48\"/>\r\n       <use x=\"127.246094\" xlink:href=\"#DejaVuSans-48\"/>\r\n      </g>\r\n     </g>\r\n    </g>\r\n    <g id=\"xtick_8\">\r\n     <g id=\"line2d_8\">\r\n      <g>\r\n       <use style=\"stroke:#000000;stroke-width:0.8;\" x=\"355.363577\" xlink:href=\"#m076e189876\" y=\"224.64\"/>\r\n      </g>\r\n     </g>\r\n     <g id=\"text_8\">\r\n      <!-- 350 -->\r\n      <g transform=\"translate(345.819827 239.238437)scale(0.1 -0.1)\">\r\n       <use xlink:href=\"#DejaVuSans-51\"/>\r\n       <use x=\"63.623047\" xlink:href=\"#DejaVuSans-53\"/>\r\n       <use x=\"127.246094\" xlink:href=\"#DejaVuSans-48\"/>\r\n      </g>\r\n     </g>\r\n    </g>\r\n   </g>\r\n   <g id=\"matplotlib.axis_2\">\r\n    <g id=\"ytick_1\">\r\n     <g id=\"line2d_9\">\r\n      <defs>\r\n       <path d=\"M 0 0 \r\nL -3.5 0 \r\n\" id=\"mcc00a2ee9f\" style=\"stroke:#000000;stroke-width:0.8;\"/>\r\n      </defs>\r\n      <g>\r\n       <use style=\"stroke:#000000;stroke-width:0.8;\" x=\"42.828125\" xlink:href=\"#mcc00a2ee9f\" y=\"224.64\"/>\r\n      </g>\r\n     </g>\r\n     <g id=\"text_9\">\r\n      <!-- 0.000 -->\r\n      <defs>\r\n       <path d=\"M 10.6875 12.40625 \r\nL 21 12.40625 \r\nL 21 0 \r\nL 10.6875 0 \r\nz\r\n\" id=\"DejaVuSans-46\"/>\r\n      </defs>\r\n      <g transform=\"translate(7.2 228.439219)scale(0.1 -0.1)\">\r\n       <use xlink:href=\"#DejaVuSans-48\"/>\r\n       <use x=\"63.623047\" xlink:href=\"#DejaVuSans-46\"/>\r\n       <use x=\"95.410156\" xlink:href=\"#DejaVuSans-48\"/>\r\n       <use x=\"159.033203\" xlink:href=\"#DejaVuSans-48\"/>\r\n       <use x=\"222.65625\" xlink:href=\"#DejaVuSans-48\"/>\r\n      </g>\r\n     </g>\r\n    </g>\r\n    <g id=\"ytick_2\">\r\n     <g id=\"line2d_10\">\r\n      <g>\r\n       <use style=\"stroke:#000000;stroke-width:0.8;\" x=\"42.828125\" xlink:href=\"#mcc00a2ee9f\" y=\"189.807376\"/>\r\n      </g>\r\n     </g>\r\n     <g id=\"text_10\">\r\n      <!-- 0.001 -->\r\n      <g transform=\"translate(7.2 193.606595)scale(0.1 -0.1)\">\r\n       <use xlink:href=\"#DejaVuSans-48\"/>\r\n       <use x=\"63.623047\" xlink:href=\"#DejaVuSans-46\"/>\r\n       <use x=\"95.410156\" xlink:href=\"#DejaVuSans-48\"/>\r\n       <use x=\"159.033203\" xlink:href=\"#DejaVuSans-48\"/>\r\n       <use x=\"222.65625\" xlink:href=\"#DejaVuSans-49\"/>\r\n      </g>\r\n     </g>\r\n    </g>\r\n    <g id=\"ytick_3\">\r\n     <g id=\"line2d_11\">\r\n      <g>\r\n       <use style=\"stroke:#000000;stroke-width:0.8;\" x=\"42.828125\" xlink:href=\"#mcc00a2ee9f\" y=\"154.974752\"/>\r\n      </g>\r\n     </g>\r\n     <g id=\"text_11\">\r\n      <!-- 0.002 -->\r\n      <g transform=\"translate(7.2 158.773971)scale(0.1 -0.1)\">\r\n       <use xlink:href=\"#DejaVuSans-48\"/>\r\n       <use x=\"63.623047\" xlink:href=\"#DejaVuSans-46\"/>\r\n       <use x=\"95.410156\" xlink:href=\"#DejaVuSans-48\"/>\r\n       <use x=\"159.033203\" xlink:href=\"#DejaVuSans-48\"/>\r\n       <use x=\"222.65625\" xlink:href=\"#DejaVuSans-50\"/>\r\n      </g>\r\n     </g>\r\n    </g>\r\n    <g id=\"ytick_4\">\r\n     <g id=\"line2d_12\">\r\n      <g>\r\n       <use style=\"stroke:#000000;stroke-width:0.8;\" x=\"42.828125\" xlink:href=\"#mcc00a2ee9f\" y=\"120.142128\"/>\r\n      </g>\r\n     </g>\r\n     <g id=\"text_12\">\r\n      <!-- 0.003 -->\r\n      <g transform=\"translate(7.2 123.941347)scale(0.1 -0.1)\">\r\n       <use xlink:href=\"#DejaVuSans-48\"/>\r\n       <use x=\"63.623047\" xlink:href=\"#DejaVuSans-46\"/>\r\n       <use x=\"95.410156\" xlink:href=\"#DejaVuSans-48\"/>\r\n       <use x=\"159.033203\" xlink:href=\"#DejaVuSans-48\"/>\r\n       <use x=\"222.65625\" xlink:href=\"#DejaVuSans-51\"/>\r\n      </g>\r\n     </g>\r\n    </g>\r\n    <g id=\"ytick_5\">\r\n     <g id=\"line2d_13\">\r\n      <g>\r\n       <use style=\"stroke:#000000;stroke-width:0.8;\" x=\"42.828125\" xlink:href=\"#mcc00a2ee9f\" y=\"85.309504\"/>\r\n      </g>\r\n     </g>\r\n     <g id=\"text_13\">\r\n      <!-- 0.004 -->\r\n      <defs>\r\n       <path d=\"M 37.796875 64.3125 \r\nL 12.890625 25.390625 \r\nL 37.796875 25.390625 \r\nz\r\nM 35.203125 72.90625 \r\nL 47.609375 72.90625 \r\nL 47.609375 25.390625 \r\nL 58.015625 25.390625 \r\nL 58.015625 17.1875 \r\nL 47.609375 17.1875 \r\nL 47.609375 0 \r\nL 37.796875 0 \r\nL 37.796875 17.1875 \r\nL 4.890625 17.1875 \r\nL 4.890625 26.703125 \r\nz\r\n\" id=\"DejaVuSans-52\"/>\r\n      </defs>\r\n      <g transform=\"translate(7.2 89.108723)scale(0.1 -0.1)\">\r\n       <use xlink:href=\"#DejaVuSans-48\"/>\r\n       <use x=\"63.623047\" xlink:href=\"#DejaVuSans-46\"/>\r\n       <use x=\"95.410156\" xlink:href=\"#DejaVuSans-48\"/>\r\n       <use x=\"159.033203\" xlink:href=\"#DejaVuSans-48\"/>\r\n       <use x=\"222.65625\" xlink:href=\"#DejaVuSans-52\"/>\r\n      </g>\r\n     </g>\r\n    </g>\r\n    <g id=\"ytick_6\">\r\n     <g id=\"line2d_14\">\r\n      <g>\r\n       <use style=\"stroke:#000000;stroke-width:0.8;\" x=\"42.828125\" xlink:href=\"#mcc00a2ee9f\" y=\"50.476881\"/>\r\n      </g>\r\n     </g>\r\n     <g id=\"text_14\">\r\n      <!-- 0.005 -->\r\n      <g transform=\"translate(7.2 54.276099)scale(0.1 -0.1)\">\r\n       <use xlink:href=\"#DejaVuSans-48\"/>\r\n       <use x=\"63.623047\" xlink:href=\"#DejaVuSans-46\"/>\r\n       <use x=\"95.410156\" xlink:href=\"#DejaVuSans-48\"/>\r\n       <use x=\"159.033203\" xlink:href=\"#DejaVuSans-48\"/>\r\n       <use x=\"222.65625\" xlink:href=\"#DejaVuSans-53\"/>\r\n      </g>\r\n     </g>\r\n    </g>\r\n    <g id=\"ytick_7\">\r\n     <g id=\"line2d_15\">\r\n      <g>\r\n       <use style=\"stroke:#000000;stroke-width:0.8;\" x=\"42.828125\" xlink:href=\"#mcc00a2ee9f\" y=\"15.644257\"/>\r\n      </g>\r\n     </g>\r\n     <g id=\"text_15\">\r\n      <!-- 0.006 -->\r\n      <defs>\r\n       <path d=\"M 33.015625 40.375 \r\nQ 26.375 40.375 22.484375 35.828125 \r\nQ 18.609375 31.296875 18.609375 23.390625 \r\nQ 18.609375 15.53125 22.484375 10.953125 \r\nQ 26.375 6.390625 33.015625 6.390625 \r\nQ 39.65625 6.390625 43.53125 10.953125 \r\nQ 47.40625 15.53125 47.40625 23.390625 \r\nQ 47.40625 31.296875 43.53125 35.828125 \r\nQ 39.65625 40.375 33.015625 40.375 \r\nz\r\nM 52.59375 71.296875 \r\nL 52.59375 62.3125 \r\nQ 48.875 64.0625 45.09375 64.984375 \r\nQ 41.3125 65.921875 37.59375 65.921875 \r\nQ 27.828125 65.921875 22.671875 59.328125 \r\nQ 17.53125 52.734375 16.796875 39.40625 \r\nQ 19.671875 43.65625 24.015625 45.921875 \r\nQ 28.375 48.1875 33.59375 48.1875 \r\nQ 44.578125 48.1875 50.953125 41.515625 \r\nQ 57.328125 34.859375 57.328125 23.390625 \r\nQ 57.328125 12.15625 50.6875 5.359375 \r\nQ 44.046875 -1.421875 33.015625 -1.421875 \r\nQ 20.359375 -1.421875 13.671875 8.265625 \r\nQ 6.984375 17.96875 6.984375 36.375 \r\nQ 6.984375 53.65625 15.1875 63.9375 \r\nQ 23.390625 74.21875 37.203125 74.21875 \r\nQ 40.921875 74.21875 44.703125 73.484375 \r\nQ 48.484375 72.75 52.59375 71.296875 \r\nz\r\n\" id=\"DejaVuSans-54\"/>\r\n      </defs>\r\n      <g transform=\"translate(7.2 19.443475)scale(0.1 -0.1)\">\r\n       <use xlink:href=\"#DejaVuSans-48\"/>\r\n       <use x=\"63.623047\" xlink:href=\"#DejaVuSans-46\"/>\r\n       <use x=\"95.410156\" xlink:href=\"#DejaVuSans-48\"/>\r\n       <use x=\"159.033203\" xlink:href=\"#DejaVuSans-48\"/>\r\n       <use x=\"222.65625\" xlink:href=\"#DejaVuSans-54\"/>\r\n      </g>\r\n     </g>\r\n    </g>\r\n   </g>\r\n   <g id=\"line2d_16\">\r\n    <path clip-path=\"url(#p4695c6acf3)\" d=\"M 58.046307 224.636404 \r\nL 67.632563 224.539047 \r\nL 72.425691 224.267424 \r\nL 74.822255 223.982148 \r\nL 77.218819 223.531217 \r\nL 79.615383 222.843928 \r\nL 82.011947 221.828637 \r\nL 84.408512 220.372555 \r\nL 86.805076 218.347639 \r\nL 89.20164 215.62398 \r\nL 91.598204 212.088918 \r\nL 93.994768 207.66696 \r\nL 96.391332 202.334264 \r\nL 98.787896 196.122636 \r\nL 101.18446 189.111349 \r\nL 103.581024 181.409803 \r\nL 105.977588 173.138648 \r\nL 110.770716 155.375695 \r\nL 117.960408 127.914076 \r\nL 120.356973 119.321673 \r\nL 122.753537 111.320492 \r\nL 125.150101 103.985889 \r\nL 127.546665 97.278507 \r\nL 129.943229 91.064666 \r\nL 134.736357 79.463089 \r\nL 139.529485 68.428466 \r\nL 141.926049 63.212543 \r\nL 144.322613 58.318814 \r\nL 146.719177 53.817032 \r\nL 149.115741 49.748766 \r\nL 151.512305 46.148465 \r\nL 153.908869 43.06536 \r\nL 156.305434 40.55973 \r\nL 158.701998 38.667686 \r\nL 161.098562 37.358073 \r\nL 163.495126 36.519 \r\nL 165.89169 35.995099 \r\nL 168.288254 35.659514 \r\nL 170.684818 35.475777 \r\nL 173.081382 35.508041 \r\nL 175.477946 35.872427 \r\nL 177.87451 36.66186 \r\nL 180.271074 37.892566 \r\nL 182.667638 39.502013 \r\nL 185.064202 41.391124 \r\nL 187.460766 43.475606 \r\nL 192.253895 48.080189 \r\nL 199.443587 55.668128 \r\nL 209.029843 65.818433 \r\nL 211.426407 68.65883 \r\nL 213.822971 71.778341 \r\nL 216.219535 75.208178 \r\nL 218.616099 78.937686 \r\nL 223.409227 87.035538 \r\nL 228.202355 95.14944 \r\nL 230.59892 98.803979 \r\nL 232.995484 101.978074 \r\nL 235.392048 104.563238 \r\nL 237.788612 106.522726 \r\nL 240.185176 107.901814 \r\nL 242.58174 108.809921 \r\nL 244.978304 109.371862 \r\nL 247.374868 109.664666 \r\nL 249.771432 109.671454 \r\nL 252.167996 109.280543 \r\nL 254.56456 108.335223 \r\nL 256.961124 106.712676 \r\nL 259.357688 104.398315 \r\nL 261.754252 101.53055 \r\nL 264.150816 98.409134 \r\nL 266.547381 95.471558 \r\nL 268.943945 93.24181 \r\nL 271.340509 92.254307 \r\nL 273.737073 92.963196 \r\nL 276.133637 95.659869 \r\nL 278.530201 100.425098 \r\nL 280.926765 107.128466 \r\nL 283.323329 115.466136 \r\nL 285.719893 125.015209 \r\nL 292.909585 156.000923 \r\nL 295.306149 165.563089 \r\nL 297.702713 174.179189 \r\nL 300.099277 181.712044 \r\nL 302.495842 188.16634 \r\nL 304.892406 193.65465 \r\nL 307.28897 198.343468 \r\nL 309.685534 202.398309 \r\nL 312.082098 205.946011 \r\nL 314.478662 209.06305 \r\nL 316.875226 211.78659 \r\nL 319.27179 214.136621 \r\nL 321.668354 216.1361 \r\nL 324.064918 217.820538 \r\nL 326.461482 219.2356 \r\nL 328.858046 220.4273 \r\nL 331.25461 221.432011 \r\nL 333.651174 222.272058 \r\nL 336.047738 222.958542 \r\nL 338.444303 223.498675 \r\nL 340.840867 223.90294 \r\nL 345.633995 224.378022 \r\nL 350.427123 224.565243 \r\nL 360.013379 224.636617 \r\nL 362.409943 224.637743 \r\nL 362.409943 224.637743 \r\n\" style=\"fill:none;stroke:#1f77b4;stroke-linecap:square;stroke-width:1.5;\"/>\r\n   </g>\r\n   <g id=\"patch_45\">\r\n    <path d=\"M 42.828125 224.64 \r\nL 42.828125 7.2 \r\n\" style=\"fill:none;stroke:#000000;stroke-linecap:square;stroke-linejoin:miter;stroke-width:0.8;\"/>\r\n   </g>\r\n   <g id=\"patch_46\">\r\n    <path d=\"M 377.628125 224.64 \r\nL 377.628125 7.2 \r\n\" style=\"fill:none;stroke:#000000;stroke-linecap:square;stroke-linejoin:miter;stroke-width:0.8;\"/>\r\n   </g>\r\n   <g id=\"patch_47\">\r\n    <path d=\"M 42.828125 224.64 \r\nL 377.628125 224.64 \r\n\" style=\"fill:none;stroke:#000000;stroke-linecap:square;stroke-linejoin:miter;stroke-width:0.8;\"/>\r\n   </g>\r\n   <g id=\"patch_48\">\r\n    <path d=\"M 42.828125 7.2 \r\nL 377.628125 7.2 \r\n\" style=\"fill:none;stroke:#000000;stroke-linecap:square;stroke-linejoin:miter;stroke-width:0.8;\"/>\r\n   </g>\r\n  </g>\r\n </g>\r\n <defs>\r\n  <clipPath id=\"p4695c6acf3\">\r\n   <rect height=\"217.44\" width=\"334.8\" x=\"42.828125\" y=\"7.2\"/>\r\n  </clipPath>\r\n </defs>\r\n</svg>\r\n",
      "image/png": "[encoded data removed]"
     },
     "metadata": {
      "needs_background": "light"
     }
    }
   ],
   "source": [
    "length = []\n",
    "for x in x_body:\n",
    "    length.append(len(x.split()))\n",
    "sns.distplot(length)"
   ]
  },
  {
   "cell_type": "code",
   "execution_count": 36,
   "metadata": {},
   "outputs": [],
   "source": [
    "def tokenize(df, body_or_title):\n",
    "    tokenizer = Tokenizer(num_words=100000)\n",
    "    tokenizer.fit_on_texts(df[body_or_title])\n",
    "    return tokenizer\n",
    "\n",
    "def pp_token_sequence_pad(list_docs, tokenizer):\n",
    "    seq = tokenizer.texts_to_sequences(list_docs)\n",
    "    seq = pad_sequences(seq, maxlen=300)\n",
    "    return seq"
   ]
  },
  {
   "cell_type": "code",
   "execution_count": 37,
   "metadata": {},
   "outputs": [],
   "source": [
    "tokenizer = tokenize(aita_raw, \"body\")\n",
    "seq_train = pp_token_sequence_pad(X_train, tokenizer)\n",
    "seq_val = pp_token_sequence_pad(X_val, tokenizer)\n",
    "seq_test = pp_token_sequence_pad(X_test, tokenizer)"
   ]
  },
  {
   "cell_type": "code",
   "execution_count": 38,
   "metadata": {},
   "outputs": [
    {
     "output_type": "execute_result",
     "data": {
      "text/plain": "'happened last saturday want start giving background year old male living three women one man four bedroom house split rent four ways live moderate walking distance university one us attend alabama originally california la specific lease early next year planning ditching day fucking intolerable people woken minimum four days week somebody shouting something somebody else girl boyfriend frequent meltdowns occasionally take onto front lawn causing neighbors surrounding houses come stare humiliating guy lives house people get shouting matches regularly whenever start go room close door put headphones ignore neighbors crap blame naturally often deemed guilty association last saturday around morning began one arguments playing wow happily room loud time even concentrate woman shouted leaving usual pretending pack shit car boyfriend followed started typical shouting match front lawn point shit frankly could give less fuck put raggedy pair boxers wife beater fully accentuated gut chest hair grabbed beer fridge went sipping watching went within five feet started shouting things like hit face dangit girl im telling boy aint right middleupper class suburbia basically neighbors watching put heavy southern drawl two redirected anger ended becoming three person shouting match playing part drunk minutes later made completely think im huge dickhead knew would hate members house teamed theyre looking someone take part lease honestly give single crap im wondering may asshole situation'"
     },
     "metadata": {},
     "execution_count": 38
    }
   ],
   "source": [
    "X_test[4]"
   ]
  },
  {
   "cell_type": "code",
   "execution_count": 39,
   "metadata": {},
   "outputs": [
    {
     "output_type": "execute_result",
     "data": {
      "text/plain": "array([    0,     0,     0,     0,     0,     0,     0,     0,     0,\n           0,     0,     0,     0,     0,     0,     0,     0,     0,\n           0,     0,     0,     0,     0,     0,     0,     0,     0,\n           0,     0,     0,     0,     0,     0,     0,     0,     0,\n           0,     0,     0,     0,     0,     0,     0,     0,     0,\n           0,     0,     0,     0,     0,     0,     0,     0,     0,\n           0,     0,     0,     0,     0,     0,     0,     0,     0,\n           0,     0,     0,     0,     0,     0,     0,     0,     0,\n           0,     0,     0,     0,     0,     0,     0,     0,     0,\n         181,    59,   952,     9,   220,   327,   486,    43,    97,\n         840,   208,   276,   539,     8,   293,   713,   559,    41,\n         588,   349,   713,  1052,   106,  8380,   543,  1395,   751,\n           8,    23,   881, 10687,  1360,  2791,  4903,  1245,  1164,\n         363,   114,    43,   421,  6049,    31,   434, 16292,    24,\n        2863,  1623,   713,   115,    81,  2141,  1998,    46,  2141,\n         200,   157,   137,  3069,  8073,  1175,    51,  1118,   272,\n        3059,  1494,   928,  4687,  1751,    75,  3086,  5522,   132,\n         340,    41,    24,     6,  1998,  5442,  1252,   494,   220,\n          13,    79,   203,   238,    99,  1951,  1097,   928,  1715,\n        1501,  1545,   314,  5406,   814,  7215,    59,   952,    57,\n         245,   800,     8,  1792,   451,  1590,  2225,    79,   648,\n           7,    16,  6910,   270,  3032,   370,  1155,  2989,  1734,\n         229,   116,   137,  1536,    61,  2013,  1998,  1896,   272,\n        3059,   109,   229,  1690,    28,   107,   332,   419,    99,\n       21692,  1788,  5927,    58,  7408,   870, 25813,  4182,  2484,\n         407,  1556,  1249,  1512,    45, 13154,   546,    45,   774,\n         827,  1060,    61,  1998,    48,     2,   657,   397, 36825,\n         157,     1,   141,   660,  4754,    78, 36826,   344, 19994,\n         187,   928,   546,    99,  1705,  4628, 20944,    64, 14885,\n        1387,   268,  1588,   276,   142,  1998,  1896,   451,   191,\n         682,   221,   118,    62,   308,    19,     1,   404,  5038,\n         216,     5,   470,   845,    41, 21295,   211,   246,   124,\n          51,   191,  1164,   274,   107,   437,  1715,     1,   869,\n         360,    39,   180])"
     },
     "metadata": {},
     "execution_count": 39
    }
   ],
   "source": [
    "seq_test[4]"
   ]
  },
  {
   "cell_type": "markdown",
   "metadata": {},
   "source": [
    "## W2V Dictonary to Docs"
   ]
  },
  {
   "cell_type": "code",
   "execution_count": 42,
   "metadata": {},
   "outputs": [],
   "source": [
    "w2v_cbow = KeyedVectors.load('data/processed/w2v_cbow.word2vec')\n",
    "w2v_sg = KeyedVectors.load('data/processed/w2v_sg.word2vec')"
   ]
  },
  {
   "cell_type": "code",
   "execution_count": 43,
   "metadata": {},
   "outputs": [
    {
     "output_type": "stream",
     "name": "stdout",
     "text": "28542\n28542\n"
    }
   ],
   "source": [
    "print(len(w2v_cbow.wv.vocab.keys()))\n",
    "print(len(w2v_sg.wv.vocab.keys()))"
   ]
  },
  {
   "cell_type": "code",
   "execution_count": 44,
   "metadata": {},
   "outputs": [
    {
     "output_type": "stream",
     "name": "stdout",
     "text": "28542\n"
    }
   ],
   "source": [
    "w2v_dict = {}\n",
    "for w in w2v_cbow.wv.vocab.keys():\n",
    "    w2v_dict[w] = np.append(w2v_cbow.wv[w],w2v_sg.wv[w])\n",
    "print(len(w2v_dict))"
   ]
  },
  {
   "cell_type": "code",
   "execution_count": 45,
   "metadata": {},
   "outputs": [
    {
     "output_type": "execute_result",
     "data": {
      "text/plain": "(100000, 200)"
     },
     "metadata": {},
     "execution_count": 45
    }
   ],
   "source": [
    "num_words = 100000\n",
    "embedding_matrix = np.zeros((num_words, 200))\n",
    "for word, i in tokenizer.word_index.items():\n",
    "    if i >= num_words:\n",
    "        continue\n",
    "    embedding_vector = w2v_dict.get(word)\n",
    "    if embedding_vector is not None:\n",
    "        embedding_matrix[i] = embedding_vector\n",
    "embedding_matrix.shape"
   ]
  },
  {
   "cell_type": "code",
   "execution_count": 47,
   "metadata": {},
   "outputs": [
    {
     "output_type": "execute_result",
     "data": {
      "text/plain": "False"
     },
     "metadata": {},
     "execution_count": 47
    }
   ],
   "source": [
    "np.array_equal(embedding_matrix[170] ,w2v_dict.get('situation'))"
   ]
  },
  {
   "cell_type": "code",
   "execution_count": 46,
   "metadata": {},
   "outputs": [
    {
     "output_type": "execute_result",
     "data": {
      "text/plain": "True"
     },
     "metadata": {},
     "execution_count": 46
    }
   ],
   "source": [
    "np.array_equal(embedding_matrix[180] ,w2v_dict.get('situation'))"
   ]
  },
  {
   "cell_type": "markdown",
   "metadata": {},
   "source": [
    "## CNN"
   ]
  },
  {
   "cell_type": "code",
   "execution_count": 48,
   "metadata": {},
   "outputs": [],
   "source": [
    "seed = 7\n",
    "\n",
    "from keras.models import Sequential\n",
    "from keras.layers import Dense, Dropout\n",
    "from keras.layers import Flatten\n",
    "from keras.layers.embeddings import Embedding"
   ]
  },
  {
   "cell_type": "code",
   "execution_count": 49,
   "metadata": {},
   "outputs": [
    {
     "output_type": "stream",
     "name": "stdout",
     "text": "Train on 11700 samples, validate on 3900 samples\nEpoch 1/5\n - 63s - loss: 1.8813 - accuracy: 0.6464 - val_loss: 0.8635 - val_accuracy: 0.5751\nEpoch 2/5\n - 64s - loss: 0.4899 - accuracy: 0.7866 - val_loss: 0.7654 - val_accuracy: 0.6200\nEpoch 3/5\n - 64s - loss: 0.3270 - accuracy: 0.8562 - val_loss: 0.9419 - val_accuracy: 0.5654\nEpoch 4/5\n - 64s - loss: 0.2800 - accuracy: 0.8764 - val_loss: 1.2326 - val_accuracy: 0.7526\nEpoch 5/5\n - 65s - loss: 0.2640 - accuracy: 0.8863 - val_loss: 0.9092 - val_accuracy: 0.6459\n"
    },
    {
     "output_type": "execute_result",
     "data": {
      "text/plain": "<keras.callbacks.callbacks.History at 0x1dece9f2408>"
     },
     "metadata": {},
     "execution_count": 49
    }
   ],
   "source": [
    "model_ptw2v = Sequential()\n",
    "e = Embedding(100000, 200, weights=[embedding_matrix], input_length=300, trainable=False)\n",
    "model_ptw2v.add(e)\n",
    "model_ptw2v.add(Flatten())\n",
    "model_ptw2v.add(Dense(256, activation='relu'))\n",
    "model_ptw2v.add(Dense(1, activation='sigmoid'))\n",
    "model_ptw2v.compile(loss='binary_crossentropy', optimizer='adam', metrics=['accuracy'])\n",
    "model_ptw2v.fit(seq_train, y_train, validation_data=(seq_val, y_val), epochs=5, batch_size=32, verbose=2)"
   ]
  },
  {
   "cell_type": "code",
   "execution_count": 50,
   "metadata": {},
   "outputs": [
    {
     "output_type": "stream",
     "name": "stdout",
     "text": "Train on 11700 samples, validate on 3900 samples\nEpoch 1/5\n - 170s - loss: 1.0730 - accuracy: 0.7040 - val_loss: 0.5494 - val_accuracy: 0.7628\nEpoch 2/5\n - 159s - loss: 0.4878 - accuracy: 0.7697 - val_loss: 0.7499 - val_accuracy: 0.7628\nEpoch 3/5\n - 159s - loss: 0.3623 - accuracy: 0.8395 - val_loss: 0.7398 - val_accuracy: 0.7564\nEpoch 4/5\n - 158s - loss: 0.2115 - accuracy: 0.9162 - val_loss: 0.9805 - val_accuracy: 0.7295\nEpoch 5/5\n - 159s - loss: 0.0996 - accuracy: 0.9675 - val_loss: 1.2546 - val_accuracy: 0.7338\n"
    },
    {
     "output_type": "execute_result",
     "data": {
      "text/plain": "<keras.callbacks.callbacks.History at 0x1dec220dc08>"
     },
     "metadata": {},
     "execution_count": 50
    }
   ],
   "source": [
    "model_ptw2v = Sequential()\n",
    "e = Embedding(100000, 200, weights=[embedding_matrix], input_length=300, trainable=True)\n",
    "model_ptw2v.add(e)\n",
    "model_ptw2v.add(Flatten())\n",
    "model_ptw2v.add(Dense(256, activation='relu'))\n",
    "model_ptw2v.add(Dense(1, activation='sigmoid'))\n",
    "model_ptw2v.compile(loss='binary_crossentropy', optimizer='adam', metrics=['accuracy'])\n",
    "model_ptw2v.fit(seq_train, y_train, validation_data=(seq_val, y_val), epochs=5, batch_size=32, verbose=2)"
   ]
  },
  {
   "cell_type": "code",
   "execution_count": null,
   "metadata": {},
   "outputs": [],
   "source": []
  }
 ],
 "metadata": {
  "language_info": {
   "codemirror_mode": {
    "name": "ipython",
    "version": 3
   },
   "file_extension": ".py",
   "mimetype": "text/x-python",
   "name": "python",
   "nbconvert_exporter": "python",
   "pygments_lexer": "ipython3",
   "version": "3.7.7-final"
  },
  "orig_nbformat": 2,
  "kernelspec": {
   "name": "python37464bitbaseconda283db1cc85e247fb8163a5e3375dfbda",
   "display_name": "Python 3.7.4 64-bit ('base': conda)"
  }
 },
 "nbformat": 4,
 "nbformat_minor": 2
}