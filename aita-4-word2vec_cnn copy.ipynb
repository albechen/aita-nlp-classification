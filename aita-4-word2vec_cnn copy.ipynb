{
 "cells": [
  {
   "cell_type": "code",
   "execution_count": 28,
   "metadata": {},
   "outputs": [],
   "source": [
    "import pandas as pd\n",
    "import seaborn as sns\n",
    "import numpy as np\n",
    "import matplotlib.pyplot as plt\n",
    "import re\n",
    "from tqdm import tqdm\n",
    "tqdm.pandas(desc=\"progress-bar\")\n",
    "\n",
    "from sklearn import utils\n",
    "from sklearn.model_selection import train_test_split\n",
    "\n",
    "import nltk\n",
    "from nltk.corpus import stopwords\n",
    "\n",
    "from gensim.models import Word2Vec  \n",
    "from gensim.models.doc2vec import TaggedDocument\n",
    "from gensim.models import KeyedVectors\n",
    "\n",
    "import tensorflow as tf\n",
    "from keras.preprocessing.text import Tokenizer\n",
    "from keras.preprocessing.sequence import pad_sequences"
   ]
  },
  {
   "cell_type": "markdown",
   "metadata": {},
   "source": [
    "## Preprocess"
   ]
  },
  {
   "cell_type": "code",
   "execution_count": 29,
   "metadata": {},
   "outputs": [
    {
     "output_type": "stream",
     "name": "stdout",
     "text": "(20800, 4)\n"
    },
    {
     "output_type": "execute_result",
     "data": {
      "text/plain": "  target  binary_target                                              title  \\\n0    NTA              0  aita renting house telling neighbors go landlo...   \n1    NTA              0            aita boyfriend let get breast reduction   \n2    NTA              0  aita parents took wardrobe away punishment sai...   \n3    YTA              1  aita going week long vacation without wife yea...   \n4    NTA              0  wibta warned current coworkers new problematic...   \n\n                                                body  \n0  house rent neighbors complaints property maint...  \n1  tldr large breasts caused nothing back pain bo...  \n2  got trouble school fall im junior high school ...  \n3  ill try make short im wife f married years met...  \n4  im senior broadcast producer manager announced...  ",
      "text/html": "<div>\n<style scoped>\n    .dataframe tbody tr th:only-of-type {\n        vertical-align: middle;\n    }\n\n    .dataframe tbody tr th {\n        vertical-align: top;\n    }\n\n    .dataframe thead th {\n        text-align: right;\n    }\n</style>\n<table border=\"1\" class=\"dataframe\">\n  <thead>\n    <tr style=\"text-align: right;\">\n      <th></th>\n      <th>target</th>\n      <th>binary_target</th>\n      <th>title</th>\n      <th>body</th>\n    </tr>\n  </thead>\n  <tbody>\n    <tr>\n      <th>0</th>\n      <td>NTA</td>\n      <td>0</td>\n      <td>aita renting house telling neighbors go landlo...</td>\n      <td>house rent neighbors complaints property maint...</td>\n    </tr>\n    <tr>\n      <th>1</th>\n      <td>NTA</td>\n      <td>0</td>\n      <td>aita boyfriend let get breast reduction</td>\n      <td>tldr large breasts caused nothing back pain bo...</td>\n    </tr>\n    <tr>\n      <th>2</th>\n      <td>NTA</td>\n      <td>0</td>\n      <td>aita parents took wardrobe away punishment sai...</td>\n      <td>got trouble school fall im junior high school ...</td>\n    </tr>\n    <tr>\n      <th>3</th>\n      <td>YTA</td>\n      <td>1</td>\n      <td>aita going week long vacation without wife yea...</td>\n      <td>ill try make short im wife f married years met...</td>\n    </tr>\n    <tr>\n      <th>4</th>\n      <td>NTA</td>\n      <td>0</td>\n      <td>wibta warned current coworkers new problematic...</td>\n      <td>im senior broadcast producer manager announced...</td>\n    </tr>\n  </tbody>\n</table>\n</div>"
     },
     "metadata": {},
     "execution_count": 29
    }
   ],
   "source": [
    "aita_raw = pd.read_csv(\"data/processed/aita_xy_cleaned_full.csv\", index_col=0)\n",
    "\n",
    "def pp_regularize_text(df, body_or_title):\n",
    "    stop_words = []\n",
    "    for word in list(stopwords.words('english')):\n",
    "        word = re.sub(r'[^A-Za-z ]+', '', word)\n",
    "        stop_words.append(word)\n",
    "\n",
    "    text_list = []\n",
    "    for text in df[body_or_title]:\n",
    "        text = text.lower()\n",
    "        text = text.replace('\\n', ' ').replace('\\r', '').replace('’', '\\'')\n",
    "        text = re.sub(r'[^A-Za-z ]+', '', text)\n",
    "        goodtext = text.encode('cp1252', 'ignore')\n",
    "        goodtext = goodtext.decode('utf-8', 'ignore')\n",
    "\n",
    "        token = nltk.word_tokenize(goodtext)\n",
    "        token = [y for y in token if not y in stop_words]\n",
    "        final_text = (\" \").join(token)\n",
    "\n",
    "        text_list.append(final_text)\n",
    "    df[body_or_title] = text_list\n",
    "    return df\n",
    "\n",
    "aita_raw = pp_regularize_text(aita_raw, \"body\")\n",
    "aita_raw = pp_regularize_text(aita_raw, \"title\")\n",
    "print(aita_raw.shape)\n",
    "aita_raw.head()"
   ]
  },
  {
   "cell_type": "code",
   "execution_count": 30,
   "metadata": {},
   "outputs": [
    {
     "output_type": "execute_result",
     "data": {
      "text/plain": "        title\ntarget       \nNTA      4115\nYTA      4115",
      "text/html": "<div>\n<style scoped>\n    .dataframe tbody tr th:only-of-type {\n        vertical-align: middle;\n    }\n\n    .dataframe tbody tr th {\n        vertical-align: top;\n    }\n\n    .dataframe thead th {\n        text-align: right;\n    }\n</style>\n<table border=\"1\" class=\"dataframe\">\n  <thead>\n    <tr style=\"text-align: right;\">\n      <th></th>\n      <th>title</th>\n    </tr>\n    <tr>\n      <th>target</th>\n      <th></th>\n    </tr>\n  </thead>\n  <tbody>\n    <tr>\n      <th>NTA</th>\n      <td>4115</td>\n    </tr>\n    <tr>\n      <th>YTA</th>\n      <td>4115</td>\n    </tr>\n  </tbody>\n</table>\n</div>"
     },
     "metadata": {},
     "execution_count": 30
    }
   ],
   "source": [
    "def undersample_and_limit_targets(df):\n",
    "    minor = df[df[\"target\"] == \"YTA\"]\n",
    "    major = df[df[\"target\"] == \"NTA\"]\n",
    "    major = major.sample(n=len(minor))\n",
    "    us_df = pd.concat([minor, major])\n",
    "    return us_df\n",
    "\n",
    "us_df = undersample_and_limit_targets(aita_raw)\n",
    "us_df[[\"target\", \"title\"]].groupby(\"target\").count()"
   ]
  },
  {
   "cell_type": "code",
   "execution_count": 31,
   "metadata": {},
   "outputs": [
    {
     "output_type": "stream",
     "name": "stdout",
     "text": "20800\n20800\n"
    }
   ],
   "source": [
    "x_title = list(aita_raw[\"title\"])\n",
    "print(len(x_title))\n",
    "y_target = list(aita_raw[\"binary_target\"])\n",
    "print(len(y_target))"
   ]
  },
  {
   "cell_type": "markdown",
   "metadata": {},
   "source": [
    "## Training Word2Vec"
   ]
  },
  {
   "cell_type": "code",
   "execution_count": 32,
   "metadata": {},
   "outputs": [],
   "source": [
    "def label_sentence(x, label):\n",
    "    labeled_list = []\n",
    "    for count in range(len(x)):\n",
    "        label_count = \"%s_%s\" % (label, count)\n",
    "        labeled_list.append(TaggedDocument(x[count].split(), label_count))\n",
    "    return labeled_list\n",
    "\n",
    "x_tagged = label_sentence(x_title, \"title\")"
   ]
  },
  {
   "cell_type": "code",
   "execution_count": 33,
   "metadata": {},
   "outputs": [
    {
     "output_type": "stream",
     "name": "stderr",
     "text": "100%|██████████| 20800/20800 [00:00<00:00, 1734044.71it/s]\n"
    }
   ],
   "source": [
    "w2v_cbow = Word2Vec(sg=0, size=100, negative=5, window=2, min_count=2)\n",
    "w2v_cbow.build_vocab([x.words for x in tqdm(x_tagged)])"
   ]
  },
  {
   "cell_type": "code",
   "execution_count": 34,
   "metadata": {},
   "outputs": [
    {
     "output_type": "stream",
     "name": "stderr",
     "text": "100%|██████████| 20800/20800 [00:00<00:00, 1604087.80it/s]\n100%|██████████| 20800/20800 [00:00<00:00, 1903216.11it/s]\n100%|██████████| 20800/20800 [00:00<00:00, 1740409.82it/s]\n100%|██████████| 20800/20800 [00:00<00:00, 2328178.99it/s]\n100%|██████████| 20800/20800 [00:00<00:00, 2609365.41it/s]\n100%|██████████| 20800/20800 [00:00<00:00, 2316987.31it/s]\n100%|██████████| 20800/20800 [00:00<00:00, 2079704.48it/s]\n100%|██████████| 20800/20800 [00:00<00:00, 2316925.78it/s]\n100%|██████████| 20800/20800 [00:00<00:00, 1895565.86it/s]\n100%|██████████| 20800/20800 [00:00<00:00, 2317725.97it/s]\n100%|██████████| 20800/20800 [00:00<00:00, 2601506.58it/s]\n100%|██████████| 20800/20800 [00:00<00:00, 2607026.15it/s]\n100%|██████████| 20800/20800 [00:00<00:00, 2317171.93it/s]\n100%|██████████| 20800/20800 [00:00<00:00, 2316987.31it/s]\n100%|██████████| 20800/20800 [00:00<00:00, 2317356.58it/s]\n"
    }
   ],
   "source": [
    "for epoch in range(15):\n",
    "    w2v_cbow.train(utils.shuffle([x.words for x in tqdm(x_tagged)]), total_examples=len(x_tagged), epochs=1)\n",
    "    w2v_cbow.alpha -= 0.002\n",
    "    w2v_cbow.min_alpha = w2v_cbow.alpha"
   ]
  },
  {
   "cell_type": "code",
   "execution_count": 35,
   "metadata": {},
   "outputs": [],
   "source": [
    "w2v_cbow.save('data/processed/title_w2v_cbow.word2vec')"
   ]
  },
  {
   "cell_type": "code",
   "execution_count": 36,
   "metadata": {},
   "outputs": [
    {
     "output_type": "stream",
     "name": "stderr",
     "text": "100%|██████████| 20800/20800 [00:00<00:00, 1489780.11it/s]\n"
    }
   ],
   "source": [
    "w2v_sg = Word2Vec(sg=0, size=100, negative=5, window=2, min_count=2)\n",
    "w2v_sg.build_vocab([x.words for x in tqdm(x_tagged)])"
   ]
  },
  {
   "cell_type": "code",
   "execution_count": 37,
   "metadata": {},
   "outputs": [
    {
     "output_type": "stream",
     "name": "stderr",
     "text": "100%|██████████| 20800/20800 [00:00<00:00, 1485265.47it/s]\n100%|██████████| 20800/20800 [00:00<00:00, 2303893.18it/s]\n100%|██████████| 20800/20800 [00:00<00:00, 2904952.16it/s]\n100%|██████████| 20800/20800 [00:00<00:00, 2311707.34it/s]\n100%|██████████| 20800/20800 [00:00<00:00, 2316802.72it/s]\n100%|██████████| 20800/20800 [00:00<00:00, 2960149.40it/s]\n100%|██████████| 20800/20800 [00:00<00:00, 2979458.46it/s]\n100%|██████████| 20800/20800 [00:00<00:00, 2590306.51it/s]\n100%|██████████| 20800/20800 [00:00<00:00, 2992540.16it/s]\n100%|██████████| 20800/20800 [00:00<00:00, 2979661.98it/s]\n100%|██████████| 20800/20800 [00:00<00:00, 2317295.03it/s]\n100%|██████████| 20800/20800 [00:00<00:00, 1737948.19it/s]\n100%|██████████| 20800/20800 [00:00<00:00, 1390325.32it/s]\n100%|██████████| 20800/20800 [00:00<00:00, 1604382.79it/s]\n100%|██████████| 20800/20800 [00:00<00:00, 2326378.58it/s]\n"
    }
   ],
   "source": [
    "for epoch in range(15):\n",
    "    w2v_sg.train(utils.shuffle([x.words for x in tqdm(x_tagged)]), total_examples=len(x_tagged), epochs=1)\n",
    "    w2v_sg.alpha -= 0.002\n",
    "    w2v_sg.min_alpha = w2v_sg.alpha"
   ]
  },
  {
   "cell_type": "code",
   "execution_count": 38,
   "metadata": {},
   "outputs": [],
   "source": [
    "w2v_sg.save('data/processed/title_w2v_sg.word2vec')"
   ]
  },
  {
   "cell_type": "code",
   "execution_count": 39,
   "metadata": {},
   "outputs": [
    {
     "output_type": "execute_result",
     "data": {
      "text/plain": "[('tone', 0.9972714781761169),\n ('addicted', 0.9961615204811096),\n ('nobody', 0.996076226234436),\n ('absolutely', 0.9960623979568481),\n ('tall', 0.9960193037986755),\n ('deeply', 0.9959238767623901),\n ('worst', 0.9957020282745361),\n ('ass', 0.9956629872322083),\n ('learning', 0.9956308603286743),\n ('depression', 0.9952794313430786)]"
     },
     "metadata": {},
     "execution_count": 39
    }
   ],
   "source": [
    "w2v_cbow.most_similar(\"jerk\")"
   ]
  },
  {
   "cell_type": "code",
   "execution_count": 40,
   "metadata": {},
   "outputs": [
    {
     "output_type": "execute_result",
     "data": {
      "text/plain": "[('american', 0.9966417551040649),\n ('tone', 0.995862603187561),\n ('skinny', 0.9954395890235901),\n ('phrase', 0.9946831464767456),\n ('understanding', 0.9946610927581787),\n ('serious', 0.9945024251937866),\n ('gon', 0.9944620132446289),\n ('depression', 0.9944514632225037),\n ('air', 0.9944502115249634),\n ('miscarriage', 0.994377076625824)]"
     },
     "metadata": {},
     "execution_count": 40
    }
   ],
   "source": [
    "w2v_sg.most_similar(\"jerk\")"
   ]
  },
  {
   "cell_type": "markdown",
   "metadata": {},
   "source": [
    "## Tokenization"
   ]
  },
  {
   "cell_type": "code",
   "execution_count": 54,
   "metadata": {},
   "outputs": [
    {
     "output_type": "stream",
     "name": "stdout",
     "text": "11700 5200\n"
    }
   ],
   "source": [
    "X_train, X_test, y_train, y_test = train_test_split(x_title, y_target, test_size=0.25, random_state=1)\n",
    "X_train, X_val, y_train, y_val = train_test_split(X_train, y_train, test_size=0.25, random_state=1)\n",
    "print(len(X_train), len(X_test))"
   ]
  },
  {
   "cell_type": "code",
   "execution_count": 55,
   "metadata": {},
   "outputs": [
    {
     "output_type": "execute_result",
     "data": {
      "text/plain": "<matplotlib.axes._subplots.AxesSubplot at 0x1723553cb88>"
     },
     "metadata": {},
     "execution_count": 55
    },
    {
     "output_type": "display_data",
     "data": {
      "text/plain": "<Figure size 432x288 with 1 Axes>",
      "image/svg+xml": "<?xml version=\"1.0\" encoding=\"utf-8\" standalone=\"no\"?>\r\n<!DOCTYPE svg PUBLIC \"-//W3C//DTD SVG 1.1//EN\"\r\n  \"http://www.w3.org/Graphics/SVG/1.1/DTD/svg11.dtd\">\r\n<!-- Created with matplotlib (https://matplotlib.org/) -->\r\n<svg height=\"248.518125pt\" version=\"1.1\" viewBox=\"0 0 378.465625 248.518125\" width=\"378.465625pt\" xmlns=\"http://www.w3.org/2000/svg\" xmlns:xlink=\"http://www.w3.org/1999/xlink\">\r\n <defs>\r\n  <style type=\"text/css\">\r\n*{stroke-linecap:butt;stroke-linejoin:round;}\r\n  </style>\r\n </defs>\r\n <g id=\"figure_1\">\r\n  <g id=\"patch_1\">\r\n   <path d=\"M 0 248.518125 \r\nL 378.465625 248.518125 \r\nL 378.465625 0 \r\nL 0 0 \r\nz\r\n\" style=\"fill:none;\"/>\r\n  </g>\r\n  <g id=\"axes_1\">\r\n   <g id=\"patch_2\">\r\n    <path d=\"M 36.465625 224.64 \r\nL 371.265625 224.64 \r\nL 371.265625 7.2 \r\nL 36.465625 7.2 \r\nz\r\n\" style=\"fill:#ffffff;\"/>\r\n   </g>\r\n   <g id=\"patch_3\">\r\n    <path clip-path=\"url(#p4e841b8051)\" d=\"M 62.222031 224.64 \r\nL 67.887775 224.64 \r\nL 67.887775 224.388377 \r\nL 62.222031 224.388377 \r\nz\r\n\" style=\"fill:#1f77b4;opacity:0.4;\"/>\r\n   </g>\r\n   <g id=\"patch_4\">\r\n    <path clip-path=\"url(#p4e841b8051)\" d=\"M 67.887775 224.64 \r\nL 73.553519 224.64 \r\nL 73.553519 220.664357 \r\nL 67.887775 220.664357 \r\nz\r\n\" style=\"fill:#1f77b4;opacity:0.4;\"/>\r\n   </g>\r\n   <g id=\"patch_5\">\r\n    <path clip-path=\"url(#p4e841b8051)\" d=\"M 73.553519 224.64 \r\nL 79.219262 224.64 \r\nL 79.219262 224.64 \r\nL 73.553519 224.64 \r\nz\r\n\" style=\"fill:#1f77b4;opacity:0.4;\"/>\r\n   </g>\r\n   <g id=\"patch_6\">\r\n    <path clip-path=\"url(#p4e841b8051)\" d=\"M 79.219262 224.64 \r\nL 84.885006 224.64 \r\nL 84.885006 185.588113 \r\nL 79.219262 185.588113 \r\nz\r\n\" style=\"fill:#1f77b4;opacity:0.4;\"/>\r\n   </g>\r\n   <g id=\"patch_7\">\r\n    <path clip-path=\"url(#p4e841b8051)\" d=\"M 84.885006 224.64 \r\nL 90.55075 224.64 \r\nL 90.55075 224.64 \r\nL 84.885006 224.64 \r\nz\r\n\" style=\"fill:#1f77b4;opacity:0.4;\"/>\r\n   </g>\r\n   <g id=\"patch_8\">\r\n    <path clip-path=\"url(#p4e841b8051)\" d=\"M 90.55075 224.64 \r\nL 96.216494 224.64 \r\nL 96.216494 104.615838 \r\nL 90.55075 104.615838 \r\nz\r\n\" style=\"fill:#1f77b4;opacity:0.4;\"/>\r\n   </g>\r\n   <g id=\"patch_9\">\r\n    <path clip-path=\"url(#p4e841b8051)\" d=\"M 96.216494 224.64 \r\nL 101.882237 224.64 \r\nL 101.882237 224.64 \r\nL 96.216494 224.64 \r\nz\r\n\" style=\"fill:#1f77b4;opacity:0.4;\"/>\r\n   </g>\r\n   <g id=\"patch_10\">\r\n    <path clip-path=\"url(#p4e841b8051)\" d=\"M 101.882237 224.64 \r\nL 107.547981 224.64 \r\nL 107.547981 25.958493 \r\nL 101.882237 25.958493 \r\nz\r\n\" style=\"fill:#1f77b4;opacity:0.4;\"/>\r\n   </g>\r\n   <g id=\"patch_11\">\r\n    <path clip-path=\"url(#p4e841b8051)\" d=\"M 107.547981 224.64 \r\nL 113.213725 224.64 \r\nL 113.213725 224.64 \r\nL 107.547981 224.64 \r\nz\r\n\" style=\"fill:#1f77b4;opacity:0.4;\"/>\r\n   </g>\r\n   <g id=\"patch_12\">\r\n    <path clip-path=\"url(#p4e841b8051)\" d=\"M 113.213725 224.64 \r\nL 118.879469 224.64 \r\nL 118.879469 17.554286 \r\nL 113.213725 17.554286 \r\nz\r\n\" style=\"fill:#1f77b4;opacity:0.4;\"/>\r\n   </g>\r\n   <g id=\"patch_13\">\r\n    <path clip-path=\"url(#p4e841b8051)\" d=\"M 118.879469 224.64 \r\nL 124.545212 224.64 \r\nL 124.545212 224.64 \r\nL 118.879469 224.64 \r\nz\r\n\" style=\"fill:#1f77b4;opacity:0.4;\"/>\r\n   </g>\r\n   <g id=\"patch_14\">\r\n    <path clip-path=\"url(#p4e841b8051)\" d=\"M 124.545212 224.64 \r\nL 130.210956 224.64 \r\nL 130.210956 52.680854 \r\nL 124.545212 52.680854 \r\nz\r\n\" style=\"fill:#1f77b4;opacity:0.4;\"/>\r\n   </g>\r\n   <g id=\"patch_15\">\r\n    <path clip-path=\"url(#p4e841b8051)\" d=\"M 130.210956 224.64 \r\nL 135.8767 224.64 \r\nL 135.8767 224.64 \r\nL 130.210956 224.64 \r\nz\r\n\" style=\"fill:#1f77b4;opacity:0.4;\"/>\r\n   </g>\r\n   <g id=\"patch_16\">\r\n    <path clip-path=\"url(#p4e841b8051)\" d=\"M 135.8767 224.64 \r\nL 141.542444 224.64 \r\nL 141.542444 104.31389 \r\nL 135.8767 104.31389 \r\nz\r\n\" style=\"fill:#1f77b4;opacity:0.4;\"/>\r\n   </g>\r\n   <g id=\"patch_17\">\r\n    <path clip-path=\"url(#p4e841b8051)\" d=\"M 141.542444 224.64 \r\nL 147.208187 224.64 \r\nL 147.208187 224.64 \r\nL 141.542444 224.64 \r\nz\r\n\" style=\"fill:#1f77b4;opacity:0.4;\"/>\r\n   </g>\r\n   <g id=\"patch_18\">\r\n    <path clip-path=\"url(#p4e841b8051)\" d=\"M 147.208187 224.64 \r\nL 152.873931 224.64 \r\nL 152.873931 150.864142 \r\nL 147.208187 150.864142 \r\nz\r\n\" style=\"fill:#1f77b4;opacity:0.4;\"/>\r\n   </g>\r\n   <g id=\"patch_19\">\r\n    <path clip-path=\"url(#p4e841b8051)\" d=\"M 152.873931 224.64 \r\nL 158.539675 224.64 \r\nL 158.539675 224.64 \r\nL 152.873931 224.64 \r\nz\r\n\" style=\"fill:#1f77b4;opacity:0.4;\"/>\r\n   </g>\r\n   <g id=\"patch_20\">\r\n    <path clip-path=\"url(#p4e841b8051)\" d=\"M 158.539675 224.64 \r\nL 164.205419 224.64 \r\nL 164.205419 180.354355 \r\nL 158.539675 180.354355 \r\nz\r\n\" style=\"fill:#1f77b4;opacity:0.4;\"/>\r\n   </g>\r\n   <g id=\"patch_21\">\r\n    <path clip-path=\"url(#p4e841b8051)\" d=\"M 164.205419 224.64 \r\nL 169.871162 224.64 \r\nL 169.871162 224.64 \r\nL 164.205419 224.64 \r\nz\r\n\" style=\"fill:#1f77b4;opacity:0.4;\"/>\r\n   </g>\r\n   <g id=\"patch_22\">\r\n    <path clip-path=\"url(#p4e841b8051)\" d=\"M 169.871162 224.64 \r\nL 175.536906 224.64 \r\nL 175.536906 196.659524 \r\nL 169.871162 196.659524 \r\nz\r\n\" style=\"fill:#1f77b4;opacity:0.4;\"/>\r\n   </g>\r\n   <g id=\"patch_23\">\r\n    <path clip-path=\"url(#p4e841b8051)\" d=\"M 175.536906 224.64 \r\nL 181.20265 224.64 \r\nL 181.20265 224.64 \r\nL 175.536906 224.64 \r\nz\r\n\" style=\"fill:#1f77b4;opacity:0.4;\"/>\r\n   </g>\r\n   <g id=\"patch_24\">\r\n    <path clip-path=\"url(#p4e841b8051)\" d=\"M 181.20265 224.64 \r\nL 186.868394 224.64 \r\nL 186.868394 209.341323 \r\nL 181.20265 209.341323 \r\nz\r\n\" style=\"fill:#1f77b4;opacity:0.4;\"/>\r\n   </g>\r\n   <g id=\"patch_25\">\r\n    <path clip-path=\"url(#p4e841b8051)\" d=\"M 186.868394 224.64 \r\nL 192.534137 224.64 \r\nL 192.534137 224.64 \r\nL 186.868394 224.64 \r\nz\r\n\" style=\"fill:#1f77b4;opacity:0.4;\"/>\r\n   </g>\r\n   <g id=\"patch_26\">\r\n    <path clip-path=\"url(#p4e841b8051)\" d=\"M 192.534137 224.64 \r\nL 198.199881 224.64 \r\nL 198.199881 215.631897 \r\nL 192.534137 215.631897 \r\nz\r\n\" style=\"fill:#1f77b4;opacity:0.4;\"/>\r\n   </g>\r\n   <g id=\"patch_27\">\r\n    <path clip-path=\"url(#p4e841b8051)\" d=\"M 198.199881 224.64 \r\nL 203.865625 224.64 \r\nL 203.865625 224.64 \r\nL 198.199881 224.64 \r\nz\r\n\" style=\"fill:#1f77b4;opacity:0.4;\"/>\r\n   </g>\r\n   <g id=\"patch_28\">\r\n    <path clip-path=\"url(#p4e841b8051)\" d=\"M 203.865625 224.64 \r\nL 209.531369 224.64 \r\nL 209.531369 218.601048 \r\nL 203.865625 218.601048 \r\nz\r\n\" style=\"fill:#1f77b4;opacity:0.4;\"/>\r\n   </g>\r\n   <g id=\"patch_29\">\r\n    <path clip-path=\"url(#p4e841b8051)\" d=\"M 209.531369 224.64 \r\nL 215.197113 224.64 \r\nL 215.197113 221.620524 \r\nL 209.531369 221.620524 \r\nz\r\n\" style=\"fill:#1f77b4;opacity:0.4;\"/>\r\n   </g>\r\n   <g id=\"patch_30\">\r\n    <path clip-path=\"url(#p4e841b8051)\" d=\"M 215.197113 224.64 \r\nL 220.862856 224.64 \r\nL 220.862856 224.64 \r\nL 215.197113 224.64 \r\nz\r\n\" style=\"fill:#1f77b4;opacity:0.4;\"/>\r\n   </g>\r\n   <g id=\"patch_31\">\r\n    <path clip-path=\"url(#p4e841b8051)\" d=\"M 220.862856 224.64 \r\nL 226.5286 224.64 \r\nL 226.5286 222.627016 \r\nL 220.862856 222.627016 \r\nz\r\n\" style=\"fill:#1f77b4;opacity:0.4;\"/>\r\n   </g>\r\n   <g id=\"patch_32\">\r\n    <path clip-path=\"url(#p4e841b8051)\" d=\"M 226.5286 224.64 \r\nL 232.194344 224.64 \r\nL 232.194344 224.64 \r\nL 226.5286 224.64 \r\nz\r\n\" style=\"fill:#1f77b4;opacity:0.4;\"/>\r\n   </g>\r\n   <g id=\"patch_33\">\r\n    <path clip-path=\"url(#p4e841b8051)\" d=\"M 232.194344 224.64 \r\nL 237.860088 224.64 \r\nL 237.860088 223.43221 \r\nL 232.194344 223.43221 \r\nz\r\n\" style=\"fill:#1f77b4;opacity:0.4;\"/>\r\n   </g>\r\n   <g id=\"patch_34\">\r\n    <path clip-path=\"url(#p4e841b8051)\" d=\"M 237.860088 224.64 \r\nL 243.525831 224.64 \r\nL 243.525831 224.64 \r\nL 237.860088 224.64 \r\nz\r\n\" style=\"fill:#1f77b4;opacity:0.4;\"/>\r\n   </g>\r\n   <g id=\"patch_35\">\r\n    <path clip-path=\"url(#p4e841b8051)\" d=\"M 243.525831 224.64 \r\nL 249.191575 224.64 \r\nL 249.191575 224.086429 \r\nL 243.525831 224.086429 \r\nz\r\n\" style=\"fill:#1f77b4;opacity:0.4;\"/>\r\n   </g>\r\n   <g id=\"patch_36\">\r\n    <path clip-path=\"url(#p4e841b8051)\" d=\"M 249.191575 224.64 \r\nL 254.857319 224.64 \r\nL 254.857319 224.64 \r\nL 249.191575 224.64 \r\nz\r\n\" style=\"fill:#1f77b4;opacity:0.4;\"/>\r\n   </g>\r\n   <g id=\"patch_37\">\r\n    <path clip-path=\"url(#p4e841b8051)\" d=\"M 254.857319 224.64 \r\nL 260.523063 224.64 \r\nL 260.523063 224.036105 \r\nL 254.857319 224.036105 \r\nz\r\n\" style=\"fill:#1f77b4;opacity:0.4;\"/>\r\n   </g>\r\n   <g id=\"patch_38\">\r\n    <path clip-path=\"url(#p4e841b8051)\" d=\"M 260.523063 224.64 \r\nL 266.188806 224.64 \r\nL 266.188806 224.64 \r\nL 260.523063 224.64 \r\nz\r\n\" style=\"fill:#1f77b4;opacity:0.4;\"/>\r\n   </g>\r\n   <g id=\"patch_39\">\r\n    <path clip-path=\"url(#p4e841b8051)\" d=\"M 266.188806 224.64 \r\nL 271.85455 224.64 \r\nL 271.85455 224.388377 \r\nL 266.188806 224.388377 \r\nz\r\n\" style=\"fill:#1f77b4;opacity:0.4;\"/>\r\n   </g>\r\n   <g id=\"patch_40\">\r\n    <path clip-path=\"url(#p4e841b8051)\" d=\"M 271.85455 224.64 \r\nL 277.520294 224.64 \r\nL 277.520294 224.64 \r\nL 271.85455 224.64 \r\nz\r\n\" style=\"fill:#1f77b4;opacity:0.4;\"/>\r\n   </g>\r\n   <g id=\"patch_41\">\r\n    <path clip-path=\"url(#p4e841b8051)\" d=\"M 277.520294 224.64 \r\nL 283.186038 224.64 \r\nL 283.186038 223.98578 \r\nL 277.520294 223.98578 \r\nz\r\n\" style=\"fill:#1f77b4;opacity:0.4;\"/>\r\n   </g>\r\n   <g id=\"patch_42\">\r\n    <path clip-path=\"url(#p4e841b8051)\" d=\"M 283.186038 224.64 \r\nL 288.851781 224.64 \r\nL 288.851781 224.64 \r\nL 283.186038 224.64 \r\nz\r\n\" style=\"fill:#1f77b4;opacity:0.4;\"/>\r\n   </g>\r\n   <g id=\"patch_43\">\r\n    <path clip-path=\"url(#p4e841b8051)\" d=\"M 288.851781 224.64 \r\nL 294.517525 224.64 \r\nL 294.517525 224.388377 \r\nL 288.851781 224.388377 \r\nz\r\n\" style=\"fill:#1f77b4;opacity:0.4;\"/>\r\n   </g>\r\n   <g id=\"patch_44\">\r\n    <path clip-path=\"url(#p4e841b8051)\" d=\"M 294.517525 224.64 \r\nL 300.183269 224.64 \r\nL 300.183269 224.64 \r\nL 294.517525 224.64 \r\nz\r\n\" style=\"fill:#1f77b4;opacity:0.4;\"/>\r\n   </g>\r\n   <g id=\"patch_45\">\r\n    <path clip-path=\"url(#p4e841b8051)\" d=\"M 300.183269 224.64 \r\nL 305.849013 224.64 \r\nL 305.849013 224.539351 \r\nL 300.183269 224.539351 \r\nz\r\n\" style=\"fill:#1f77b4;opacity:0.4;\"/>\r\n   </g>\r\n   <g id=\"patch_46\">\r\n    <path clip-path=\"url(#p4e841b8051)\" d=\"M 305.849013 224.64 \r\nL 311.514756 224.64 \r\nL 311.514756 224.64 \r\nL 305.849013 224.64 \r\nz\r\n\" style=\"fill:#1f77b4;opacity:0.4;\"/>\r\n   </g>\r\n   <g id=\"patch_47\">\r\n    <path clip-path=\"url(#p4e841b8051)\" d=\"M 311.514756 224.64 \r\nL 317.1805 224.64 \r\nL 317.1805 224.539351 \r\nL 311.514756 224.539351 \r\nz\r\n\" style=\"fill:#1f77b4;opacity:0.4;\"/>\r\n   </g>\r\n   <g id=\"patch_48\">\r\n    <path clip-path=\"url(#p4e841b8051)\" d=\"M 317.1805 224.64 \r\nL 322.846244 224.64 \r\nL 322.846244 224.64 \r\nL 317.1805 224.64 \r\nz\r\n\" style=\"fill:#1f77b4;opacity:0.4;\"/>\r\n   </g>\r\n   <g id=\"patch_49\">\r\n    <path clip-path=\"url(#p4e841b8051)\" d=\"M 322.846244 224.64 \r\nL 328.511988 224.64 \r\nL 328.511988 224.489026 \r\nL 322.846244 224.489026 \r\nz\r\n\" style=\"fill:#1f77b4;opacity:0.4;\"/>\r\n   </g>\r\n   <g id=\"patch_50\">\r\n    <path clip-path=\"url(#p4e841b8051)\" d=\"M 328.511988 224.64 \r\nL 334.177731 224.64 \r\nL 334.177731 224.64 \r\nL 328.511988 224.64 \r\nz\r\n\" style=\"fill:#1f77b4;opacity:0.4;\"/>\r\n   </g>\r\n   <g id=\"patch_51\">\r\n    <path clip-path=\"url(#p4e841b8051)\" d=\"M 334.177731 224.64 \r\nL 339.843475 224.64 \r\nL 339.843475 224.64 \r\nL 334.177731 224.64 \r\nz\r\n\" style=\"fill:#1f77b4;opacity:0.4;\"/>\r\n   </g>\r\n   <g id=\"patch_52\">\r\n    <path clip-path=\"url(#p4e841b8051)\" d=\"M 339.843475 224.64 \r\nL 345.509219 224.64 \r\nL 345.509219 224.539351 \r\nL 339.843475 224.539351 \r\nz\r\n\" style=\"fill:#1f77b4;opacity:0.4;\"/>\r\n   </g>\r\n   <g id=\"matplotlib.axis_1\">\r\n    <g id=\"xtick_1\">\r\n     <g id=\"line2d_1\">\r\n      <defs>\r\n       <path d=\"M 0 0 \r\nL 0 3.5 \r\n\" id=\"m7784afff02\" style=\"stroke:#000000;stroke-width:0.8;\"/>\r\n      </defs>\r\n      <g>\r\n       <use style=\"stroke:#000000;stroke-width:0.8;\" x=\"51.32637\" xlink:href=\"#m7784afff02\" y=\"224.64\"/>\r\n      </g>\r\n     </g>\r\n     <g id=\"text_1\">\r\n      <!-- 0 -->\r\n      <defs>\r\n       <path d=\"M 31.78125 66.40625 \r\nQ 24.171875 66.40625 20.328125 58.90625 \r\nQ 16.5 51.421875 16.5 36.375 \r\nQ 16.5 21.390625 20.328125 13.890625 \r\nQ 24.171875 6.390625 31.78125 6.390625 \r\nQ 39.453125 6.390625 43.28125 13.890625 \r\nQ 47.125 21.390625 47.125 36.375 \r\nQ 47.125 51.421875 43.28125 58.90625 \r\nQ 39.453125 66.40625 31.78125 66.40625 \r\nz\r\nM 31.78125 74.21875 \r\nQ 44.046875 74.21875 50.515625 64.515625 \r\nQ 56.984375 54.828125 56.984375 36.375 \r\nQ 56.984375 17.96875 50.515625 8.265625 \r\nQ 44.046875 -1.421875 31.78125 -1.421875 \r\nQ 19.53125 -1.421875 13.0625 8.265625 \r\nQ 6.59375 17.96875 6.59375 36.375 \r\nQ 6.59375 54.828125 13.0625 64.515625 \r\nQ 19.53125 74.21875 31.78125 74.21875 \r\nz\r\n\" id=\"DejaVuSans-48\"/>\r\n      </defs>\r\n      <g transform=\"translate(48.14512 239.238437)scale(0.1 -0.1)\">\r\n       <use xlink:href=\"#DejaVuSans-48\"/>\r\n      </g>\r\n     </g>\r\n    </g>\r\n    <g id=\"xtick_2\">\r\n     <g id=\"line2d_2\">\r\n      <g>\r\n       <use style=\"stroke:#000000;stroke-width:0.8;\" x=\"105.804675\" xlink:href=\"#m7784afff02\" y=\"224.64\"/>\r\n      </g>\r\n     </g>\r\n     <g id=\"text_2\">\r\n      <!-- 5 -->\r\n      <defs>\r\n       <path d=\"M 10.796875 72.90625 \r\nL 49.515625 72.90625 \r\nL 49.515625 64.59375 \r\nL 19.828125 64.59375 \r\nL 19.828125 46.734375 \r\nQ 21.96875 47.46875 24.109375 47.828125 \r\nQ 26.265625 48.1875 28.421875 48.1875 \r\nQ 40.625 48.1875 47.75 41.5 \r\nQ 54.890625 34.8125 54.890625 23.390625 \r\nQ 54.890625 11.625 47.5625 5.09375 \r\nQ 40.234375 -1.421875 26.90625 -1.421875 \r\nQ 22.3125 -1.421875 17.546875 -0.640625 \r\nQ 12.796875 0.140625 7.71875 1.703125 \r\nL 7.71875 11.625 \r\nQ 12.109375 9.234375 16.796875 8.0625 \r\nQ 21.484375 6.890625 26.703125 6.890625 \r\nQ 35.15625 6.890625 40.078125 11.328125 \r\nQ 45.015625 15.765625 45.015625 23.390625 \r\nQ 45.015625 31 40.078125 35.4375 \r\nQ 35.15625 39.890625 26.703125 39.890625 \r\nQ 22.75 39.890625 18.8125 39.015625 \r\nQ 14.890625 38.140625 10.796875 36.28125 \r\nz\r\n\" id=\"DejaVuSans-53\"/>\r\n      </defs>\r\n      <g transform=\"translate(102.623425 239.238437)scale(0.1 -0.1)\">\r\n       <use xlink:href=\"#DejaVuSans-53\"/>\r\n      </g>\r\n     </g>\r\n    </g>\r\n    <g id=\"xtick_3\">\r\n     <g id=\"line2d_3\">\r\n      <g>\r\n       <use style=\"stroke:#000000;stroke-width:0.8;\" x=\"160.282981\" xlink:href=\"#m7784afff02\" y=\"224.64\"/>\r\n      </g>\r\n     </g>\r\n     <g id=\"text_3\">\r\n      <!-- 10 -->\r\n      <defs>\r\n       <path d=\"M 12.40625 8.296875 \r\nL 28.515625 8.296875 \r\nL 28.515625 63.921875 \r\nL 10.984375 60.40625 \r\nL 10.984375 69.390625 \r\nL 28.421875 72.90625 \r\nL 38.28125 72.90625 \r\nL 38.28125 8.296875 \r\nL 54.390625 8.296875 \r\nL 54.390625 0 \r\nL 12.40625 0 \r\nz\r\n\" id=\"DejaVuSans-49\"/>\r\n      </defs>\r\n      <g transform=\"translate(153.920481 239.238437)scale(0.1 -0.1)\">\r\n       <use xlink:href=\"#DejaVuSans-49\"/>\r\n       <use x=\"63.623047\" xlink:href=\"#DejaVuSans-48\"/>\r\n      </g>\r\n     </g>\r\n    </g>\r\n    <g id=\"xtick_4\">\r\n     <g id=\"line2d_4\">\r\n      <g>\r\n       <use style=\"stroke:#000000;stroke-width:0.8;\" x=\"214.761286\" xlink:href=\"#m7784afff02\" y=\"224.64\"/>\r\n      </g>\r\n     </g>\r\n     <g id=\"text_4\">\r\n      <!-- 15 -->\r\n      <g transform=\"translate(208.398786 239.238437)scale(0.1 -0.1)\">\r\n       <use xlink:href=\"#DejaVuSans-49\"/>\r\n       <use x=\"63.623047\" xlink:href=\"#DejaVuSans-53\"/>\r\n      </g>\r\n     </g>\r\n    </g>\r\n    <g id=\"xtick_5\">\r\n     <g id=\"line2d_5\">\r\n      <g>\r\n       <use style=\"stroke:#000000;stroke-width:0.8;\" x=\"269.239591\" xlink:href=\"#m7784afff02\" y=\"224.64\"/>\r\n      </g>\r\n     </g>\r\n     <g id=\"text_5\">\r\n      <!-- 20 -->\r\n      <defs>\r\n       <path d=\"M 19.1875 8.296875 \r\nL 53.609375 8.296875 \r\nL 53.609375 0 \r\nL 7.328125 0 \r\nL 7.328125 8.296875 \r\nQ 12.9375 14.109375 22.625 23.890625 \r\nQ 32.328125 33.6875 34.8125 36.53125 \r\nQ 39.546875 41.84375 41.421875 45.53125 \r\nQ 43.3125 49.21875 43.3125 52.78125 \r\nQ 43.3125 58.59375 39.234375 62.25 \r\nQ 35.15625 65.921875 28.609375 65.921875 \r\nQ 23.96875 65.921875 18.8125 64.3125 \r\nQ 13.671875 62.703125 7.8125 59.421875 \r\nL 7.8125 69.390625 \r\nQ 13.765625 71.78125 18.9375 73 \r\nQ 24.125 74.21875 28.421875 74.21875 \r\nQ 39.75 74.21875 46.484375 68.546875 \r\nQ 53.21875 62.890625 53.21875 53.421875 \r\nQ 53.21875 48.921875 51.53125 44.890625 \r\nQ 49.859375 40.875 45.40625 35.40625 \r\nQ 44.1875 33.984375 37.640625 27.21875 \r\nQ 31.109375 20.453125 19.1875 8.296875 \r\nz\r\n\" id=\"DejaVuSans-50\"/>\r\n      </defs>\r\n      <g transform=\"translate(262.877091 239.238437)scale(0.1 -0.1)\">\r\n       <use xlink:href=\"#DejaVuSans-50\"/>\r\n       <use x=\"63.623047\" xlink:href=\"#DejaVuSans-48\"/>\r\n      </g>\r\n     </g>\r\n    </g>\r\n    <g id=\"xtick_6\">\r\n     <g id=\"line2d_6\">\r\n      <g>\r\n       <use style=\"stroke:#000000;stroke-width:0.8;\" x=\"323.717897\" xlink:href=\"#m7784afff02\" y=\"224.64\"/>\r\n      </g>\r\n     </g>\r\n     <g id=\"text_6\">\r\n      <!-- 25 -->\r\n      <g transform=\"translate(317.355397 239.238437)scale(0.1 -0.1)\">\r\n       <use xlink:href=\"#DejaVuSans-50\"/>\r\n       <use x=\"63.623047\" xlink:href=\"#DejaVuSans-53\"/>\r\n      </g>\r\n     </g>\r\n    </g>\r\n   </g>\r\n   <g id=\"matplotlib.axis_2\">\r\n    <g id=\"ytick_1\">\r\n     <g id=\"line2d_7\">\r\n      <defs>\r\n       <path d=\"M 0 0 \r\nL -3.5 0 \r\n\" id=\"ma736dc450b\" style=\"stroke:#000000;stroke-width:0.8;\"/>\r\n      </defs>\r\n      <g>\r\n       <use style=\"stroke:#000000;stroke-width:0.8;\" x=\"36.465625\" xlink:href=\"#ma736dc450b\" y=\"224.64\"/>\r\n      </g>\r\n     </g>\r\n     <g id=\"text_7\">\r\n      <!-- 0.00 -->\r\n      <defs>\r\n       <path d=\"M 10.6875 12.40625 \r\nL 21 12.40625 \r\nL 21 0 \r\nL 10.6875 0 \r\nz\r\n\" id=\"DejaVuSans-46\"/>\r\n      </defs>\r\n      <g transform=\"translate(7.2 228.439219)scale(0.1 -0.1)\">\r\n       <use xlink:href=\"#DejaVuSans-48\"/>\r\n       <use x=\"63.623047\" xlink:href=\"#DejaVuSans-46\"/>\r\n       <use x=\"95.410156\" xlink:href=\"#DejaVuSans-48\"/>\r\n       <use x=\"159.033203\" xlink:href=\"#DejaVuSans-48\"/>\r\n      </g>\r\n     </g>\r\n    </g>\r\n    <g id=\"ytick_2\">\r\n     <g id=\"line2d_8\">\r\n      <g>\r\n       <use style=\"stroke:#000000;stroke-width:0.8;\" x=\"36.465625\" xlink:href=\"#ma736dc450b\" y=\"197.424458\"/>\r\n      </g>\r\n     </g>\r\n     <g id=\"text_8\">\r\n      <!-- 0.05 -->\r\n      <g transform=\"translate(7.2 201.223677)scale(0.1 -0.1)\">\r\n       <use xlink:href=\"#DejaVuSans-48\"/>\r\n       <use x=\"63.623047\" xlink:href=\"#DejaVuSans-46\"/>\r\n       <use x=\"95.410156\" xlink:href=\"#DejaVuSans-48\"/>\r\n       <use x=\"159.033203\" xlink:href=\"#DejaVuSans-53\"/>\r\n      </g>\r\n     </g>\r\n    </g>\r\n    <g id=\"ytick_3\">\r\n     <g id=\"line2d_9\">\r\n      <g>\r\n       <use style=\"stroke:#000000;stroke-width:0.8;\" x=\"36.465625\" xlink:href=\"#ma736dc450b\" y=\"170.208917\"/>\r\n      </g>\r\n     </g>\r\n     <g id=\"text_9\">\r\n      <!-- 0.10 -->\r\n      <g transform=\"translate(7.2 174.008135)scale(0.1 -0.1)\">\r\n       <use xlink:href=\"#DejaVuSans-48\"/>\r\n       <use x=\"63.623047\" xlink:href=\"#DejaVuSans-46\"/>\r\n       <use x=\"95.410156\" xlink:href=\"#DejaVuSans-49\"/>\r\n       <use x=\"159.033203\" xlink:href=\"#DejaVuSans-48\"/>\r\n      </g>\r\n     </g>\r\n    </g>\r\n    <g id=\"ytick_4\">\r\n     <g id=\"line2d_10\">\r\n      <g>\r\n       <use style=\"stroke:#000000;stroke-width:0.8;\" x=\"36.465625\" xlink:href=\"#ma736dc450b\" y=\"142.993375\"/>\r\n      </g>\r\n     </g>\r\n     <g id=\"text_10\">\r\n      <!-- 0.15 -->\r\n      <g transform=\"translate(7.2 146.792594)scale(0.1 -0.1)\">\r\n       <use xlink:href=\"#DejaVuSans-48\"/>\r\n       <use x=\"63.623047\" xlink:href=\"#DejaVuSans-46\"/>\r\n       <use x=\"95.410156\" xlink:href=\"#DejaVuSans-49\"/>\r\n       <use x=\"159.033203\" xlink:href=\"#DejaVuSans-53\"/>\r\n      </g>\r\n     </g>\r\n    </g>\r\n    <g id=\"ytick_5\">\r\n     <g id=\"line2d_11\">\r\n      <g>\r\n       <use style=\"stroke:#000000;stroke-width:0.8;\" x=\"36.465625\" xlink:href=\"#ma736dc450b\" y=\"115.777833\"/>\r\n      </g>\r\n     </g>\r\n     <g id=\"text_11\">\r\n      <!-- 0.20 -->\r\n      <g transform=\"translate(7.2 119.577052)scale(0.1 -0.1)\">\r\n       <use xlink:href=\"#DejaVuSans-48\"/>\r\n       <use x=\"63.623047\" xlink:href=\"#DejaVuSans-46\"/>\r\n       <use x=\"95.410156\" xlink:href=\"#DejaVuSans-50\"/>\r\n       <use x=\"159.033203\" xlink:href=\"#DejaVuSans-48\"/>\r\n      </g>\r\n     </g>\r\n    </g>\r\n    <g id=\"ytick_6\">\r\n     <g id=\"line2d_12\">\r\n      <g>\r\n       <use style=\"stroke:#000000;stroke-width:0.8;\" x=\"36.465625\" xlink:href=\"#ma736dc450b\" y=\"88.562291\"/>\r\n      </g>\r\n     </g>\r\n     <g id=\"text_12\">\r\n      <!-- 0.25 -->\r\n      <g transform=\"translate(7.2 92.36151)scale(0.1 -0.1)\">\r\n       <use xlink:href=\"#DejaVuSans-48\"/>\r\n       <use x=\"63.623047\" xlink:href=\"#DejaVuSans-46\"/>\r\n       <use x=\"95.410156\" xlink:href=\"#DejaVuSans-50\"/>\r\n       <use x=\"159.033203\" xlink:href=\"#DejaVuSans-53\"/>\r\n      </g>\r\n     </g>\r\n    </g>\r\n    <g id=\"ytick_7\">\r\n     <g id=\"line2d_13\">\r\n      <g>\r\n       <use style=\"stroke:#000000;stroke-width:0.8;\" x=\"36.465625\" xlink:href=\"#ma736dc450b\" y=\"61.34675\"/>\r\n      </g>\r\n     </g>\r\n     <g id=\"text_13\">\r\n      <!-- 0.30 -->\r\n      <defs>\r\n       <path d=\"M 40.578125 39.3125 \r\nQ 47.65625 37.796875 51.625 33 \r\nQ 55.609375 28.21875 55.609375 21.1875 \r\nQ 55.609375 10.40625 48.1875 4.484375 \r\nQ 40.765625 -1.421875 27.09375 -1.421875 \r\nQ 22.515625 -1.421875 17.65625 -0.515625 \r\nQ 12.796875 0.390625 7.625 2.203125 \r\nL 7.625 11.71875 \r\nQ 11.71875 9.328125 16.59375 8.109375 \r\nQ 21.484375 6.890625 26.8125 6.890625 \r\nQ 36.078125 6.890625 40.9375 10.546875 \r\nQ 45.796875 14.203125 45.796875 21.1875 \r\nQ 45.796875 27.640625 41.28125 31.265625 \r\nQ 36.765625 34.90625 28.71875 34.90625 \r\nL 20.21875 34.90625 \r\nL 20.21875 43.015625 \r\nL 29.109375 43.015625 \r\nQ 36.375 43.015625 40.234375 45.921875 \r\nQ 44.09375 48.828125 44.09375 54.296875 \r\nQ 44.09375 59.90625 40.109375 62.90625 \r\nQ 36.140625 65.921875 28.71875 65.921875 \r\nQ 24.65625 65.921875 20.015625 65.03125 \r\nQ 15.375 64.15625 9.8125 62.3125 \r\nL 9.8125 71.09375 \r\nQ 15.4375 72.65625 20.34375 73.4375 \r\nQ 25.25 74.21875 29.59375 74.21875 \r\nQ 40.828125 74.21875 47.359375 69.109375 \r\nQ 53.90625 64.015625 53.90625 55.328125 \r\nQ 53.90625 49.265625 50.4375 45.09375 \r\nQ 46.96875 40.921875 40.578125 39.3125 \r\nz\r\n\" id=\"DejaVuSans-51\"/>\r\n      </defs>\r\n      <g transform=\"translate(7.2 65.145968)scale(0.1 -0.1)\">\r\n       <use xlink:href=\"#DejaVuSans-48\"/>\r\n       <use x=\"63.623047\" xlink:href=\"#DejaVuSans-46\"/>\r\n       <use x=\"95.410156\" xlink:href=\"#DejaVuSans-51\"/>\r\n       <use x=\"159.033203\" xlink:href=\"#DejaVuSans-48\"/>\r\n      </g>\r\n     </g>\r\n    </g>\r\n    <g id=\"ytick_8\">\r\n     <g id=\"line2d_14\">\r\n      <g>\r\n       <use style=\"stroke:#000000;stroke-width:0.8;\" x=\"36.465625\" xlink:href=\"#ma736dc450b\" y=\"34.131208\"/>\r\n      </g>\r\n     </g>\r\n     <g id=\"text_14\">\r\n      <!-- 0.35 -->\r\n      <g transform=\"translate(7.2 37.930427)scale(0.1 -0.1)\">\r\n       <use xlink:href=\"#DejaVuSans-48\"/>\r\n       <use x=\"63.623047\" xlink:href=\"#DejaVuSans-46\"/>\r\n       <use x=\"95.410156\" xlink:href=\"#DejaVuSans-51\"/>\r\n       <use x=\"159.033203\" xlink:href=\"#DejaVuSans-53\"/>\r\n      </g>\r\n     </g>\r\n    </g>\r\n   </g>\r\n   <g id=\"line2d_15\">\r\n    <path clip-path=\"url(#p4e841b8051)\" d=\"M 51.683807 224.637864 \r\nL 58.873499 224.536128 \r\nL 63.666627 224.430838 \r\nL 66.063191 224.229337 \r\nL 68.459755 223.566846 \r\nL 70.856319 222.506536 \r\nL 75.649447 220.979983 \r\nL 78.046012 217.461782 \r\nL 82.83914 201.233752 \r\nL 85.235704 200.076295 \r\nL 87.632268 201.559567 \r\nL 90.028832 189.86825 \r\nL 92.425396 161.86795 \r\nL 94.82196 143.807606 \r\nL 97.218524 154.373921 \r\nL 99.615088 165.47805 \r\nL 102.011652 143.976732 \r\nL 104.408216 107.329205 \r\nL 106.80478 101.95223 \r\nL 109.201344 131.123943 \r\nL 111.597908 144.261167 \r\nL 113.994473 115.213284 \r\nL 116.391037 88.124007 \r\nL 118.787601 107.709687 \r\nL 121.184165 144.633279 \r\nL 123.580729 147.858196 \r\nL 125.977293 122.899993 \r\nL 128.373857 116.47767 \r\nL 130.770421 143.698646 \r\nL 133.166985 167.353744 \r\nL 135.563549 160.558128 \r\nL 137.960113 146.545285 \r\nL 140.356677 156.203874 \r\nL 142.753241 179.623139 \r\nL 145.149805 188.682154 \r\nL 147.546369 180.726821 \r\nL 149.942934 177.126597 \r\nL 152.339498 188.686741 \r\nL 154.736062 201.100587 \r\nL 157.132626 201.234184 \r\nL 159.52919 196.358377 \r\nL 161.925754 198.954505 \r\nL 164.322318 207.307184 \r\nL 166.718882 211.145335 \r\nL 169.115446 208.167886 \r\nL 171.51201 206.224582 \r\nL 173.908574 210.451883 \r\nL 176.305138 215.792536 \r\nL 178.701702 216.648392 \r\nL 181.098266 215.036687 \r\nL 183.49483 215.613059 \r\nL 185.891395 218.47218 \r\nL 188.287959 220.145891 \r\nL 193.081087 218.563648 \r\nL 195.477651 219.821448 \r\nL 197.874215 221.549533 \r\nL 200.270779 221.718317 \r\nL 202.667343 220.948249 \r\nL 205.063907 221.013344 \r\nL 207.460471 222.127367 \r\nL 209.857035 222.969487 \r\nL 212.253599 222.858496 \r\nL 214.650163 222.59357 \r\nL 217.046727 222.975885 \r\nL 219.443291 223.575632 \r\nL 221.839855 223.683435 \r\nL 224.23642 223.426958 \r\nL 226.632984 223.400496 \r\nL 231.426112 224.022454 \r\nL 236.21924 223.84085 \r\nL 238.615804 223.970026 \r\nL 241.012368 224.228295 \r\nL 243.408932 224.341589 \r\nL 248.20206 224.287124 \r\nL 252.995188 224.410948 \r\nL 257.788316 224.252217 \r\nL 272.167701 224.490443 \r\nL 276.960829 224.344197 \r\nL 279.357393 224.232162 \r\nL 284.150521 224.398065 \r\nL 288.943649 224.483926 \r\nL 293.736777 224.51338 \r\nL 300.92647 224.57612 \r\nL 356.047443 224.638908 \r\nL 356.047443 224.638908 \r\n\" style=\"fill:none;stroke:#1f77b4;stroke-linecap:square;stroke-width:1.5;\"/>\r\n   </g>\r\n   <g id=\"patch_53\">\r\n    <path d=\"M 36.465625 224.64 \r\nL 36.465625 7.2 \r\n\" style=\"fill:none;stroke:#000000;stroke-linecap:square;stroke-linejoin:miter;stroke-width:0.8;\"/>\r\n   </g>\r\n   <g id=\"patch_54\">\r\n    <path d=\"M 371.265625 224.64 \r\nL 371.265625 7.2 \r\n\" style=\"fill:none;stroke:#000000;stroke-linecap:square;stroke-linejoin:miter;stroke-width:0.8;\"/>\r\n   </g>\r\n   <g id=\"patch_55\">\r\n    <path d=\"M 36.465625 224.64 \r\nL 371.265625 224.64 \r\n\" style=\"fill:none;stroke:#000000;stroke-linecap:square;stroke-linejoin:miter;stroke-width:0.8;\"/>\r\n   </g>\r\n   <g id=\"patch_56\">\r\n    <path d=\"M 36.465625 7.2 \r\nL 371.265625 7.2 \r\n\" style=\"fill:none;stroke:#000000;stroke-linecap:square;stroke-linejoin:miter;stroke-width:0.8;\"/>\r\n   </g>\r\n  </g>\r\n </g>\r\n <defs>\r\n  <clipPath id=\"p4e841b8051\">\r\n   <rect height=\"217.44\" width=\"334.8\" x=\"36.465625\" y=\"7.2\"/>\r\n  </clipPath>\r\n </defs>\r\n</svg>\r\n",
      "image/png": "[encoded data removed]"
     },
     "metadata": {
      "needs_background": "light"
     }
    }
   ],
   "source": [
    "length = []\n",
    "for x in x_title:\n",
    "    length.append(len(x.split()))\n",
    "sns.distplot(length)"
   ]
  },
  {
   "cell_type": "code",
   "execution_count": 56,
   "metadata": {},
   "outputs": [],
   "source": [
    "def tokenize(df, body_or_title):\n",
    "    tokenizer = Tokenizer(num_words=100000)\n",
    "    tokenizer.fit_on_texts(df[body_or_title])\n",
    "    return tokenizer\n",
    "\n",
    "def pp_token_sequence_pad(list_docs, tokenizer):\n",
    "    seq = tokenizer.texts_to_sequences(list_docs)\n",
    "    seq = pad_sequences(seq, maxlen=25)\n",
    "    return seq"
   ]
  },
  {
   "cell_type": "code",
   "execution_count": 57,
   "metadata": {},
   "outputs": [],
   "source": [
    "tokenizer = tokenize(aita_raw, \"title\")\n",
    "seq_train = pp_token_sequence_pad(X_train, tokenizer)\n",
    "seq_val = pp_token_sequence_pad(X_val, tokenizer)\n",
    "seq_test = pp_token_sequence_pad(X_test, tokenizer)"
   ]
  },
  {
   "cell_type": "code",
   "execution_count": 58,
   "metadata": {},
   "outputs": [
    {
     "output_type": "execute_result",
     "data": {
      "text/plain": "'aita making roommates look like live stereotypical trailer park house'"
     },
     "metadata": {},
     "execution_count": 58
    }
   ],
   "source": [
    "X_test[4]"
   ]
  },
  {
   "cell_type": "code",
   "execution_count": 59,
   "metadata": {},
   "outputs": [
    {
     "output_type": "execute_result",
     "data": {
      "text/plain": "array([   0,    0,    0,    0,    0,    0,    0,    0,    0,    0,    0,\n          0,    0,    0,    0,    1,   25,  122,  334,   92,  164, 4873,\n       3801,  522,   28])"
     },
     "metadata": {},
     "execution_count": 59
    }
   ],
   "source": [
    "seq_test[4]"
   ]
  },
  {
   "cell_type": "markdown",
   "metadata": {},
   "source": [
    "## W2V Dictonary to Docs"
   ]
  },
  {
   "cell_type": "code",
   "execution_count": 60,
   "metadata": {},
   "outputs": [],
   "source": [
    "w2v_cbow = KeyedVectors.load('data/processed/title_w2v_cbow.word2vec')\n",
    "w2v_sg = KeyedVectors.load('data/processed/title_w2v_sg.word2vec')"
   ]
  },
  {
   "cell_type": "code",
   "execution_count": 61,
   "metadata": {},
   "outputs": [
    {
     "output_type": "stream",
     "name": "stdout",
     "text": "5507\n5507\n"
    }
   ],
   "source": [
    "print(len(w2v_cbow.wv.vocab.keys()))\n",
    "print(len(w2v_sg.wv.vocab.keys()))"
   ]
  },
  {
   "cell_type": "code",
   "execution_count": 62,
   "metadata": {},
   "outputs": [
    {
     "output_type": "stream",
     "name": "stdout",
     "text": "5507\n"
    }
   ],
   "source": [
    "w2v_dict = {}\n",
    "for w in w2v_cbow.wv.vocab.keys():\n",
    "    w2v_dict[w] = np.append(w2v_cbow.wv[w],w2v_sg.wv[w])\n",
    "print(len(w2v_dict))"
   ]
  },
  {
   "cell_type": "code",
   "execution_count": 63,
   "metadata": {},
   "outputs": [
    {
     "output_type": "execute_result",
     "data": {
      "text/plain": "(100000, 200)"
     },
     "metadata": {},
     "execution_count": 63
    }
   ],
   "source": [
    "num_words = 100000\n",
    "embedding_matrix = np.zeros((num_words, 200))\n",
    "for word, i in tokenizer.word_index.items():\n",
    "    if i >= num_words:\n",
    "        continue\n",
    "    embedding_vector = w2v_dict.get(word)\n",
    "    if embedding_vector is not None:\n",
    "        embedding_matrix[i] = embedding_vector\n",
    "embedding_matrix.shape"
   ]
  },
  {
   "cell_type": "code",
   "execution_count": 65,
   "metadata": {},
   "outputs": [
    {
     "output_type": "execute_result",
     "data": {
      "text/plain": "True"
     },
     "metadata": {},
     "execution_count": 65
    }
   ],
   "source": [
    "np.array_equal(embedding_matrix[28] ,w2v_dict.get('house'))"
   ]
  },
  {
   "cell_type": "markdown",
   "metadata": {},
   "source": [
    "## CNN"
   ]
  },
  {
   "cell_type": "code",
   "execution_count": 66,
   "metadata": {},
   "outputs": [],
   "source": [
    "seed = 7\n",
    "\n",
    "from keras.models import Sequential\n",
    "from keras.layers import Dense, Dropout\n",
    "from keras.layers import Flatten\n",
    "from keras.layers.embeddings import Embedding"
   ]
  },
  {
   "cell_type": "code",
   "execution_count": 70,
   "metadata": {},
   "outputs": [
    {
     "output_type": "stream",
     "name": "stdout",
     "text": "Train on 11700 samples, validate on 3900 samples\nEpoch 1/5\n - 5s - loss: 0.5736 - accuracy: 0.7479 - val_loss: 0.5510 - val_accuracy: 0.7628\nEpoch 2/5\n - 5s - loss: 0.5621 - accuracy: 0.7497 - val_loss: 0.5478 - val_accuracy: 0.7631\nEpoch 3/5\n - 5s - loss: 0.5580 - accuracy: 0.7503 - val_loss: 0.5483 - val_accuracy: 0.7636\nEpoch 4/5\n - 5s - loss: 0.5557 - accuracy: 0.7503 - val_loss: 0.5471 - val_accuracy: 0.7633\nEpoch 5/5\n - 6s - loss: 0.5526 - accuracy: 0.7508 - val_loss: 0.5679 - val_accuracy: 0.7631\n"
    },
    {
     "output_type": "execute_result",
     "data": {
      "text/plain": "<keras.callbacks.callbacks.History at 0x1724ce6ac48>"
     },
     "metadata": {},
     "execution_count": 70
    }
   ],
   "source": [
    "model_ptw2v = Sequential()\n",
    "e = Embedding(100000, 200, weights=[embedding_matrix], input_length=25, trainable=False)\n",
    "model_ptw2v.add(e)\n",
    "model_ptw2v.add(Flatten())\n",
    "model_ptw2v.add(Dense(256, activation='relu'))\n",
    "model_ptw2v.add(Dense(1, activation='sigmoid'))\n",
    "model_ptw2v.compile(loss='binary_crossentropy', optimizer='adam', metrics=['accuracy'])\n",
    "model_ptw2v.fit(seq_train, y_train, validation_data=(seq_val, y_val), epochs=5, batch_size=32, verbose=2)"
   ]
  },
  {
   "cell_type": "code",
   "execution_count": 71,
   "metadata": {},
   "outputs": [
    {
     "output_type": "stream",
     "name": "stdout",
     "text": "Train on 11700 samples, validate on 3900 samples\nEpoch 1/5\n - 108s - loss: 0.5741 - accuracy: 0.7473 - val_loss: 0.5470 - val_accuracy: 0.7628\nEpoch 2/5\n - 108s - loss: 0.5430 - accuracy: 0.7502 - val_loss: 0.5443 - val_accuracy: 0.7626\nEpoch 3/5\n - 109s - loss: 0.4642 - accuracy: 0.7825 - val_loss: 0.6020 - val_accuracy: 0.7364\nEpoch 4/5\n - 108s - loss: 0.3110 - accuracy: 0.8709 - val_loss: 0.7621 - val_accuracy: 0.7028\nEpoch 5/5\n - 109s - loss: 0.1961 - accuracy: 0.9219 - val_loss: 0.9470 - val_accuracy: 0.6962\n"
    },
    {
     "output_type": "execute_result",
     "data": {
      "text/plain": "<keras.callbacks.callbacks.History at 0x17235323d48>"
     },
     "metadata": {},
     "execution_count": 71
    }
   ],
   "source": [
    "model_ptw2v = Sequential()\n",
    "e = Embedding(100000, 200, weights=[embedding_matrix], input_length=25, trainable=True)\n",
    "model_ptw2v.add(e)\n",
    "model_ptw2v.add(Flatten())\n",
    "model_ptw2v.add(Dense(256, activation='relu'))\n",
    "model_ptw2v.add(Dense(1, activation='sigmoid'))\n",
    "model_ptw2v.compile(loss='binary_crossentropy', optimizer='adam', metrics=['accuracy'])\n",
    "model_ptw2v.fit(seq_train, y_train, validation_data=(seq_val, y_val), epochs=5, batch_size=32, verbose=2)"
   ]
  },
  {
   "cell_type": "code",
   "execution_count": null,
   "metadata": {},
   "outputs": [],
   "source": []
  }
 ],
 "metadata": {
  "language_info": {
   "codemirror_mode": {
    "name": "ipython",
    "version": 3
   },
   "file_extension": ".py",
   "mimetype": "text/x-python",
   "name": "python",
   "nbconvert_exporter": "python",
   "pygments_lexer": "ipython3",
   "version": "3.7.7-final"
  },
  "orig_nbformat": 2,
  "kernelspec": {
   "name": "python37464bitbaseconda283db1cc85e247fb8163a5e3375dfbda",
   "display_name": "Python 3.7.4 64-bit ('base': conda)"
  }
 },
 "nbformat": 4,
 "nbformat_minor": 2
}